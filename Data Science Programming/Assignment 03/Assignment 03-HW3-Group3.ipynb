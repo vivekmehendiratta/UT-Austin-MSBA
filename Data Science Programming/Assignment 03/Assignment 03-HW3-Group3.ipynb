{
 "cells": [
  {
   "cell_type": "markdown",
   "id": "b7c04621",
   "metadata": {},
   "source": [
    "# HW3 - Group3\n",
    "\n",
    "- Akshat Johari\n",
    "- Harsh Mehta\n",
    "- Vivek Mehendiratta"
   ]
  },
  {
   "cell_type": "markdown",
   "id": "a608815b",
   "metadata": {},
   "source": [
    "## To get better understanding of data, **duplicates are removed** from `gold` and `labels` data"
   ]
  },
  {
   "cell_type": "markdown",
   "id": "60f701ba",
   "metadata": {},
   "source": [
    "# Import Libraries"
   ]
  },
  {
   "cell_type": "code",
   "execution_count": 1,
   "id": "d6dd8133",
   "metadata": {},
   "outputs": [],
   "source": [
    "import pandas as pd\n",
    "import seaborn as sns"
   ]
  },
  {
   "cell_type": "markdown",
   "id": "d35611d6",
   "metadata": {},
   "source": [
    "## [Q1 10 points] Read in data\n",
    "\n",
    "Read in the files gold.txt and labels.txt. The gold DataFrame should have columns url and category, while the labels DataFrame should have columns turk, url and category. You will have to pick the right separator."
   ]
  },
  {
   "cell_type": "code",
   "execution_count": 2,
   "id": "7b0ffcb9",
   "metadata": {},
   "outputs": [
    {
     "data": {
      "text/plain": [
       "((1517, 2), (89948, 3))"
      ]
     },
     "execution_count": 2,
     "metadata": {},
     "output_type": "execute_result"
    }
   ],
   "source": [
    "gold = pd.read_csv(\"gold.txt\", delimiter='\\t', header=None, names=['url', 'category'])\n",
    "labels = pd.read_csv(\"labels.txt\", delimiter='\\t', header=None, names=['turk', 'url', 'category'])\n",
    "\n",
    "# Removing duplicates\n",
    "labels.drop_duplicates(inplace = True)\n",
    "\n",
    "gold.shape, labels.shape"
   ]
  },
  {
   "cell_type": "code",
   "execution_count": 3,
   "id": "528d4bb2",
   "metadata": {},
   "outputs": [
    {
     "data": {
      "text/plain": [
       "11040"
      ]
     },
     "execution_count": 3,
     "metadata": {},
     "output_type": "execute_result"
    }
   ],
   "source": [
    "len(labels[\"url\"].unique())"
   ]
  },
  {
   "cell_type": "markdown",
   "id": "1c56233d",
   "metadata": {},
   "source": [
    "## [Q2 10 points] Split into two DataFrames\n",
    "\n",
    "Split the labels DataFrame into two: labels on gold and labels unknown, the former containing all rows where the url is present in the gold set, and the latter one contains all remaining rows of labels."
   ]
  },
  {
   "cell_type": "code",
   "execution_count": 4,
   "id": "9ef4422a",
   "metadata": {},
   "outputs": [
    {
     "data": {
      "text/plain": [
       "(3319, 4)"
      ]
     },
     "execution_count": 4,
     "metadata": {},
     "output_type": "execute_result"
    }
   ],
   "source": [
    "labels_on_gold = labels.merge(gold, on = 'url', how = 'inner', suffixes=[\"_label\", \"_gold\"])\n",
    "labels_on_gold.shape"
   ]
  },
  {
   "cell_type": "code",
   "execution_count": 5,
   "id": "e010f1d4",
   "metadata": {},
   "outputs": [
    {
     "data": {
      "text/plain": [
       "(86629, 3)"
      ]
     },
     "execution_count": 5,
     "metadata": {},
     "output_type": "execute_result"
    }
   ],
   "source": [
    "labels_unknown = labels[~labels[\"url\"].isin(labels_on_gold[\"url\"])]\n",
    "labels_unknown.shape"
   ]
  },
  {
   "cell_type": "markdown",
   "id": "3885efb6",
   "metadata": {},
   "source": [
    "## [Q3 10 points] Compute accuracies of turks\n",
    "Create a rater goodness DataFrame that is indexed by turk, and has two columns: the number of ratings, and the average correctness of ratings for each turk (both on gold set urls)."
   ]
  },
  {
   "cell_type": "code",
   "execution_count": 6,
   "id": "1b9fa6b4",
   "metadata": {},
   "outputs": [],
   "source": [
    "labels_on_gold[\"correct\"] = labels_on_gold.apply(lambda x : 1 if x[\"category_gold\"] == x[\"category_label\"] else 0, axis = 1)"
   ]
  },
  {
   "cell_type": "code",
   "execution_count": 7,
   "id": "7544a522",
   "metadata": {},
   "outputs": [
    {
     "data": {
      "text/plain": [
       "Index(['turk', 'url', 'category_label', 'category_gold', 'correct'], dtype='object')"
      ]
     },
     "execution_count": 7,
     "metadata": {},
     "output_type": "execute_result"
    }
   ],
   "source": [
    "labels_on_gold.columns"
   ]
  },
  {
   "cell_type": "code",
   "execution_count": 8,
   "id": "188a488f",
   "metadata": {},
   "outputs": [
    {
     "data": {
      "text/html": [
       "<div>\n",
       "<style scoped>\n",
       "    .dataframe tbody tr th:only-of-type {\n",
       "        vertical-align: middle;\n",
       "    }\n",
       "\n",
       "    .dataframe tbody tr th {\n",
       "        vertical-align: top;\n",
       "    }\n",
       "\n",
       "    .dataframe thead th {\n",
       "        text-align: right;\n",
       "    }\n",
       "</style>\n",
       "<table border=\"1\" class=\"dataframe\">\n",
       "  <thead>\n",
       "    <tr style=\"text-align: right;\">\n",
       "      <th></th>\n",
       "      <th>number_of_ratings</th>\n",
       "      <th>average_correctness</th>\n",
       "    </tr>\n",
       "    <tr>\n",
       "      <th>turk</th>\n",
       "      <th></th>\n",
       "      <th></th>\n",
       "    </tr>\n",
       "  </thead>\n",
       "  <tbody>\n",
       "    <tr>\n",
       "      <th>A31OCN4MNHUQ6W</th>\n",
       "      <td>184</td>\n",
       "      <td>0.777174</td>\n",
       "    </tr>\n",
       "    <tr>\n",
       "      <th>A153PKAL7OAY36</th>\n",
       "      <td>148</td>\n",
       "      <td>0.722973</td>\n",
       "    </tr>\n",
       "    <tr>\n",
       "      <th>A2BTR0GQ5B5JI6</th>\n",
       "      <td>126</td>\n",
       "      <td>0.523810</td>\n",
       "    </tr>\n",
       "    <tr>\n",
       "      <th>ATVALOQVDCMZW</th>\n",
       "      <td>103</td>\n",
       "      <td>0.854369</td>\n",
       "    </tr>\n",
       "    <tr>\n",
       "      <th>AZSDW7JJL5VA7</th>\n",
       "      <td>100</td>\n",
       "      <td>0.680000</td>\n",
       "    </tr>\n",
       "    <tr>\n",
       "      <th>A3GE97GX3OXJTW</th>\n",
       "      <td>85</td>\n",
       "      <td>0.658824</td>\n",
       "    </tr>\n",
       "    <tr>\n",
       "      <th>A3JMQDTEKRE5X6</th>\n",
       "      <td>80</td>\n",
       "      <td>0.675000</td>\n",
       "    </tr>\n",
       "    <tr>\n",
       "      <th>A2JP3HEL3J25AJ</th>\n",
       "      <td>80</td>\n",
       "      <td>0.687500</td>\n",
       "    </tr>\n",
       "    <tr>\n",
       "      <th>A3MA9V9UPGCOK7</th>\n",
       "      <td>71</td>\n",
       "      <td>0.774648</td>\n",
       "    </tr>\n",
       "    <tr>\n",
       "      <th>APYV9Y0DFZFVP</th>\n",
       "      <td>71</td>\n",
       "      <td>0.746479</td>\n",
       "    </tr>\n",
       "  </tbody>\n",
       "</table>\n",
       "</div>"
      ],
      "text/plain": [
       "                number_of_ratings  average_correctness\n",
       "turk                                                  \n",
       "A31OCN4MNHUQ6W                184             0.777174\n",
       "A153PKAL7OAY36                148             0.722973\n",
       "A2BTR0GQ5B5JI6                126             0.523810\n",
       "ATVALOQVDCMZW                 103             0.854369\n",
       "AZSDW7JJL5VA7                 100             0.680000\n",
       "A3GE97GX3OXJTW                 85             0.658824\n",
       "A3JMQDTEKRE5X6                 80             0.675000\n",
       "A2JP3HEL3J25AJ                 80             0.687500\n",
       "A3MA9V9UPGCOK7                 71             0.774648\n",
       "APYV9Y0DFZFVP                  71             0.746479"
      ]
     },
     "execution_count": 8,
     "metadata": {},
     "output_type": "execute_result"
    }
   ],
   "source": [
    "rater_goodness = labels_on_gold.groupby(\"turk\").agg({'correct':['count', 'mean']}).droplevel(0, axis = 1)\n",
    "\n",
    "rater_goodness.columns = ['number_of_ratings', 'average_correctness']\n",
    "\n",
    "rater_goodness.sort_values(by='number_of_ratings', ascending=False).head(10)"
   ]
  },
  {
   "cell_type": "code",
   "execution_count": 9,
   "id": "e8a69522",
   "metadata": {},
   "outputs": [
    {
     "data": {
      "text/plain": [
       "(269, 2)"
      ]
     },
     "execution_count": 9,
     "metadata": {},
     "output_type": "execute_result"
    }
   ],
   "source": [
    "rater_goodness.shape"
   ]
  },
  {
   "cell_type": "markdown",
   "id": "39a4d325",
   "metadata": {},
   "source": [
    "## [Q4 10 points] Odds ratios\n",
    "If someone is correct p fraction of the time, the odds of success are defined as:\n",
    "odds = p/(1.001 − p).\n",
    "\n",
    "Attach a column called odds to the rater goodness DataFrame, using the average correctness of the turk as his or her p.\n"
   ]
  },
  {
   "cell_type": "code",
   "execution_count": 10,
   "id": "ac548cc2",
   "metadata": {},
   "outputs": [],
   "source": [
    "rater_goodness[\"odds\"] = rater_goodness[\"average_correctness\"].apply(lambda x : x / (1.001 - x))"
   ]
  },
  {
   "cell_type": "code",
   "execution_count": 11,
   "id": "836ce782",
   "metadata": {},
   "outputs": [
    {
     "data": {
      "text/html": [
       "<div>\n",
       "<style scoped>\n",
       "    .dataframe tbody tr th:only-of-type {\n",
       "        vertical-align: middle;\n",
       "    }\n",
       "\n",
       "    .dataframe tbody tr th {\n",
       "        vertical-align: top;\n",
       "    }\n",
       "\n",
       "    .dataframe thead th {\n",
       "        text-align: right;\n",
       "    }\n",
       "</style>\n",
       "<table border=\"1\" class=\"dataframe\">\n",
       "  <thead>\n",
       "    <tr style=\"text-align: right;\">\n",
       "      <th></th>\n",
       "      <th>number_of_ratings</th>\n",
       "      <th>average_correctness</th>\n",
       "      <th>odds</th>\n",
       "    </tr>\n",
       "    <tr>\n",
       "      <th>turk</th>\n",
       "      <th></th>\n",
       "      <th></th>\n",
       "      <th></th>\n",
       "    </tr>\n",
       "  </thead>\n",
       "  <tbody>\n",
       "    <tr>\n",
       "      <th>A31OCN4MNHUQ6W</th>\n",
       "      <td>184</td>\n",
       "      <td>0.777174</td>\n",
       "      <td>3.472222</td>\n",
       "    </tr>\n",
       "    <tr>\n",
       "      <th>A153PKAL7OAY36</th>\n",
       "      <td>148</td>\n",
       "      <td>0.722973</td>\n",
       "      <td>2.600369</td>\n",
       "    </tr>\n",
       "    <tr>\n",
       "      <th>A2BTR0GQ5B5JI6</th>\n",
       "      <td>126</td>\n",
       "      <td>0.523810</td>\n",
       "      <td>1.097695</td>\n",
       "    </tr>\n",
       "    <tr>\n",
       "      <th>ATVALOQVDCMZW</th>\n",
       "      <td>103</td>\n",
       "      <td>0.854369</td>\n",
       "      <td>5.826657</td>\n",
       "    </tr>\n",
       "    <tr>\n",
       "      <th>AZSDW7JJL5VA7</th>\n",
       "      <td>100</td>\n",
       "      <td>0.680000</td>\n",
       "      <td>2.118380</td>\n",
       "    </tr>\n",
       "  </tbody>\n",
       "</table>\n",
       "</div>"
      ],
      "text/plain": [
       "                number_of_ratings  average_correctness      odds\n",
       "turk                                                            \n",
       "A31OCN4MNHUQ6W                184             0.777174  3.472222\n",
       "A153PKAL7OAY36                148             0.722973  2.600369\n",
       "A2BTR0GQ5B5JI6                126             0.523810  1.097695\n",
       "ATVALOQVDCMZW                 103             0.854369  5.826657\n",
       "AZSDW7JJL5VA7                 100             0.680000  2.118380"
      ]
     },
     "execution_count": 11,
     "metadata": {},
     "output_type": "execute_result"
    }
   ],
   "source": [
    "rater_goodness.sort_values(by='number_of_ratings', ascending = False).head()"
   ]
  },
  {
   "cell_type": "markdown",
   "id": "9383f455",
   "metadata": {},
   "source": [
    "## [Q5 10 points] Most accurate turks\n",
    "List the top 10 most accurate turks who have rated at least 20 gold set URLs."
   ]
  },
  {
   "cell_type": "code",
   "execution_count": 12,
   "id": "d8cf739a",
   "metadata": {},
   "outputs": [
    {
     "data": {
      "text/html": [
       "<div>\n",
       "<style scoped>\n",
       "    .dataframe tbody tr th:only-of-type {\n",
       "        vertical-align: middle;\n",
       "    }\n",
       "\n",
       "    .dataframe tbody tr th {\n",
       "        vertical-align: top;\n",
       "    }\n",
       "\n",
       "    .dataframe thead th {\n",
       "        text-align: right;\n",
       "    }\n",
       "</style>\n",
       "<table border=\"1\" class=\"dataframe\">\n",
       "  <thead>\n",
       "    <tr style=\"text-align: right;\">\n",
       "      <th></th>\n",
       "      <th>number_of_ratings</th>\n",
       "      <th>average_correctness</th>\n",
       "      <th>odds</th>\n",
       "    </tr>\n",
       "    <tr>\n",
       "      <th>turk</th>\n",
       "      <th></th>\n",
       "      <th></th>\n",
       "      <th></th>\n",
       "    </tr>\n",
       "  </thead>\n",
       "  <tbody>\n",
       "    <tr>\n",
       "      <th>A2U0R4X38GUKZE</th>\n",
       "      <td>20</td>\n",
       "      <td>0.950000</td>\n",
       "      <td>18.627451</td>\n",
       "    </tr>\n",
       "    <tr>\n",
       "      <th>A22C0PJUBFJTI0</th>\n",
       "      <td>36</td>\n",
       "      <td>0.916667</td>\n",
       "      <td>10.869565</td>\n",
       "    </tr>\n",
       "    <tr>\n",
       "      <th>A23YQUBXZPKILZ</th>\n",
       "      <td>24</td>\n",
       "      <td>0.875000</td>\n",
       "      <td>6.944444</td>\n",
       "    </tr>\n",
       "    <tr>\n",
       "      <th>ATVALOQVDCMZW</th>\n",
       "      <td>103</td>\n",
       "      <td>0.854369</td>\n",
       "      <td>5.826657</td>\n",
       "    </tr>\n",
       "    <tr>\n",
       "      <th>A1HIXWH4OXT8S4</th>\n",
       "      <td>40</td>\n",
       "      <td>0.825000</td>\n",
       "      <td>4.687500</td>\n",
       "    </tr>\n",
       "    <tr>\n",
       "      <th>A3220HG1O83HQ4</th>\n",
       "      <td>22</td>\n",
       "      <td>0.818182</td>\n",
       "      <td>4.475385</td>\n",
       "    </tr>\n",
       "    <tr>\n",
       "      <th>A32W20KGQXS0LL</th>\n",
       "      <td>25</td>\n",
       "      <td>0.800000</td>\n",
       "      <td>3.980100</td>\n",
       "    </tr>\n",
       "    <tr>\n",
       "      <th>A20PWAB7G3HDHU</th>\n",
       "      <td>20</td>\n",
       "      <td>0.800000</td>\n",
       "      <td>3.980100</td>\n",
       "    </tr>\n",
       "    <tr>\n",
       "      <th>AJSJVK40F5HM6</th>\n",
       "      <td>28</td>\n",
       "      <td>0.785714</td>\n",
       "      <td>3.649635</td>\n",
       "    </tr>\n",
       "    <tr>\n",
       "      <th>A31OCN4MNHUQ6W</th>\n",
       "      <td>184</td>\n",
       "      <td>0.777174</td>\n",
       "      <td>3.472222</td>\n",
       "    </tr>\n",
       "  </tbody>\n",
       "</table>\n",
       "</div>"
      ],
      "text/plain": [
       "                number_of_ratings  average_correctness       odds\n",
       "turk                                                             \n",
       "A2U0R4X38GUKZE                 20             0.950000  18.627451\n",
       "A22C0PJUBFJTI0                 36             0.916667  10.869565\n",
       "A23YQUBXZPKILZ                 24             0.875000   6.944444\n",
       "ATVALOQVDCMZW                 103             0.854369   5.826657\n",
       "A1HIXWH4OXT8S4                 40             0.825000   4.687500\n",
       "A3220HG1O83HQ4                 22             0.818182   4.475385\n",
       "A32W20KGQXS0LL                 25             0.800000   3.980100\n",
       "A20PWAB7G3HDHU                 20             0.800000   3.980100\n",
       "AJSJVK40F5HM6                  28             0.785714   3.649635\n",
       "A31OCN4MNHUQ6W                184             0.777174   3.472222"
      ]
     },
     "execution_count": 12,
     "metadata": {},
     "output_type": "execute_result"
    }
   ],
   "source": [
    "rater_goodness[rater_goodness[\"number_of_ratings\"] >=20].sort_values(by = \"average_correctness\", ascending = False).head(10)"
   ]
  },
  {
   "cell_type": "code",
   "execution_count": 13,
   "id": "ae7e4b91",
   "metadata": {},
   "outputs": [
    {
     "data": {
      "text/plain": [
       "['A2U0R4X38GUKZE',\n",
       " 'A22C0PJUBFJTI0',\n",
       " 'A23YQUBXZPKILZ',\n",
       " 'ATVALOQVDCMZW',\n",
       " 'A1HIXWH4OXT8S4',\n",
       " 'A3220HG1O83HQ4',\n",
       " 'A32W20KGQXS0LL',\n",
       " 'A20PWAB7G3HDHU',\n",
       " 'AJSJVK40F5HM6',\n",
       " 'A31OCN4MNHUQ6W']"
      ]
     },
     "execution_count": 13,
     "metadata": {},
     "output_type": "execute_result"
    }
   ],
   "source": [
    "rater_goodness[rater_goodness[\"number_of_ratings\"] >=20].sort_values(by = \"average_correctness\", ascending = False)[:10].index.values.tolist()"
   ]
  },
  {
   "cell_type": "markdown",
   "id": "17a41266",
   "metadata": {},
   "source": [
    "## [Q6 10 points] Rating counts versus accuracy\n",
    "\n",
    "One may imagine that a committed and accurate turk will rate lots of URLs. On the other hand, perhaps it is only the spammers who have the time to rate lots of URLs.\n",
    " \n",
    "Is number of ratings by a turker on gold set URLs related to his or her accuracy? There’s no fixed answer; just try to show some evidence for your answer."
   ]
  },
  {
   "cell_type": "code",
   "execution_count": 14,
   "id": "247f4ab7",
   "metadata": {},
   "outputs": [
    {
     "data": {
      "text/plain": [
       "<AxesSubplot:xlabel='number_of_ratings', ylabel='average_correctness'>"
      ]
     },
     "execution_count": 14,
     "metadata": {},
     "output_type": "execute_result"
    },
    {
     "data": {
      "image/png": "[encoded data removed]",
      "text/plain": [
       "<Figure size 432x288 with 1 Axes>"
      ]
     },
     "metadata": {
      "needs_background": "light"
     },
     "output_type": "display_data"
    }
   ],
   "source": [
    "sns.regplot(x=\"number_of_ratings\", y=\"average_correctness\", data=rater_goodness)"
   ]
  },
  {
   "cell_type": "markdown",
   "id": "0cb4213b",
   "metadata": {},
   "source": [
    "#### There is some upward trend. Let's check the correlation score between 2 scaled variables."
   ]
  },
  {
   "cell_type": "code",
   "execution_count": 15,
   "id": "21514962",
   "metadata": {},
   "outputs": [
    {
     "data": {
      "text/plain": [
       "0.044982640441412765"
      ]
     },
     "execution_count": 15,
     "metadata": {},
     "output_type": "execute_result"
    }
   ],
   "source": [
    "rater_goodness[\"average_correctness\"].corr(rater_goodness[\"number_of_ratings\"])"
   ]
  },
  {
   "cell_type": "markdown",
   "id": "609be8b9",
   "metadata": {},
   "source": [
    "#### No correlation"
   ]
  },
  {
   "cell_type": "markdown",
   "id": "ae153142",
   "metadata": {},
   "source": [
    "There seems to be outliers in the data, specially `number_of_ratings`. Let's deep dive and remove outliers and find correlation"
   ]
  },
  {
   "cell_type": "code",
   "execution_count": 16,
   "id": "74d3d574",
   "metadata": {},
   "outputs": [],
   "source": [
    "# function to remove outliers and subset the dataframe\n",
    "def subset_by_iqr(df, column, whisker_width=1.5):\n",
    "    \"\"\"Remove outliers from a dataframe by column, including optional \n",
    "       whiskers, removing rows for which the column value are \n",
    "       less than Q1-1.5IQR or greater than Q3+1.5IQR.\n",
    "    Args:\n",
    "        df (`:obj:pd.DataFrame`): A pandas dataframe to subset\n",
    "        column (str): Name of the column to calculate the subset from.\n",
    "        whisker_width (float): Optional, loosen the IQR filter by a\n",
    "                               factor of `whisker_width` * IQR.\n",
    "    Returns:\n",
    "        (`:obj:pd.DataFrame`): Filtered dataframe\n",
    "    \"\"\"\n",
    "    # Calculate Q1, Q2 and IQR\n",
    "    q1 = df[column].quantile(0.25)                 \n",
    "    q3 = df[column].quantile(0.75)\n",
    "    iqr = q3 - q1\n",
    "    # Apply filter with respect to IQR, including optional whiskers\n",
    "    filter = (df[column] >= q1 - whisker_width*iqr) & (df[column] <= q3 + whisker_width*iqr)\n",
    "    return df.loc[filter]                                                     \n",
    "\n",
    "# Example for whiskers = 1.5, as requested by the OP\n",
    "df_filtered = subset_by_iqr(rater_goodness, 'number_of_ratings', whisker_width=1.5)\n",
    "df_filtered = subset_by_iqr(df_filtered, 'average_correctness', whisker_width=1.5)"
   ]
  },
  {
   "cell_type": "code",
   "execution_count": 17,
   "id": "853b4704",
   "metadata": {},
   "outputs": [
    {
     "data": {
      "text/html": [
       "<div>\n",
       "<style scoped>\n",
       "    .dataframe tbody tr th:only-of-type {\n",
       "        vertical-align: middle;\n",
       "    }\n",
       "\n",
       "    .dataframe tbody tr th {\n",
       "        vertical-align: top;\n",
       "    }\n",
       "\n",
       "    .dataframe thead th {\n",
       "        text-align: right;\n",
       "    }\n",
       "</style>\n",
       "<table border=\"1\" class=\"dataframe\">\n",
       "  <thead>\n",
       "    <tr style=\"text-align: right;\">\n",
       "      <th></th>\n",
       "      <th>number_of_ratings</th>\n",
       "      <th>average_correctness</th>\n",
       "      <th>odds</th>\n",
       "    </tr>\n",
       "    <tr>\n",
       "      <th>turk</th>\n",
       "      <th></th>\n",
       "      <th></th>\n",
       "      <th></th>\n",
       "    </tr>\n",
       "  </thead>\n",
       "  <tbody>\n",
       "    <tr>\n",
       "      <th>A112DVP1KG4QZU</th>\n",
       "      <td>1</td>\n",
       "      <td>1.000000</td>\n",
       "      <td>1000.000000</td>\n",
       "    </tr>\n",
       "    <tr>\n",
       "      <th>A12CY1Q7XKJJDE</th>\n",
       "      <td>1</td>\n",
       "      <td>1.000000</td>\n",
       "      <td>1000.000000</td>\n",
       "    </tr>\n",
       "    <tr>\n",
       "      <th>A12RE8G66WTO8B</th>\n",
       "      <td>20</td>\n",
       "      <td>0.750000</td>\n",
       "      <td>2.988048</td>\n",
       "    </tr>\n",
       "    <tr>\n",
       "      <th>A12Y1GTGIQDGRA</th>\n",
       "      <td>3</td>\n",
       "      <td>0.333333</td>\n",
       "      <td>0.499251</td>\n",
       "    </tr>\n",
       "    <tr>\n",
       "      <th>A13CEW9JGDWGX1</th>\n",
       "      <td>1</td>\n",
       "      <td>1.000000</td>\n",
       "      <td>1000.000000</td>\n",
       "    </tr>\n",
       "  </tbody>\n",
       "</table>\n",
       "</div>"
      ],
      "text/plain": [
       "                number_of_ratings  average_correctness         odds\n",
       "turk                                                               \n",
       "A112DVP1KG4QZU                  1             1.000000  1000.000000\n",
       "A12CY1Q7XKJJDE                  1             1.000000  1000.000000\n",
       "A12RE8G66WTO8B                 20             0.750000     2.988048\n",
       "A12Y1GTGIQDGRA                  3             0.333333     0.499251\n",
       "A13CEW9JGDWGX1                  1             1.000000  1000.000000"
      ]
     },
     "execution_count": 17,
     "metadata": {},
     "output_type": "execute_result"
    }
   ],
   "source": [
    "df_filtered.head()"
   ]
  },
  {
   "cell_type": "code",
   "execution_count": 18,
   "id": "bde48e3a",
   "metadata": {},
   "outputs": [
    {
     "data": {
      "text/plain": [
       "<AxesSubplot:xlabel='number_of_ratings', ylabel='average_correctness'>"
      ]
     },
     "execution_count": 18,
     "metadata": {},
     "output_type": "execute_result"
    },
    {
     "data": {
      "image/png": "[encoded data removed]",
      "text/plain": [
       "<Figure size 432x288 with 1 Axes>"
      ]
     },
     "metadata": {
      "needs_background": "light"
     },
     "output_type": "display_data"
    }
   ],
   "source": [
    "sns.regplot(x=\"number_of_ratings\", y=\"average_correctness\", data=df_filtered)"
   ]
  },
  {
   "cell_type": "code",
   "execution_count": 19,
   "id": "696f01b6",
   "metadata": {},
   "outputs": [
    {
     "data": {
      "text/plain": [
       "0.09247660565222936"
      ]
     },
     "execution_count": 19,
     "metadata": {},
     "output_type": "execute_result"
    }
   ],
   "source": [
    "df_filtered[\"average_correctness\"].corr(df_filtered[\"number_of_ratings\"])"
   ]
  },
  {
   "cell_type": "markdown",
   "id": "f60bf5bb",
   "metadata": {},
   "source": [
    "There doesn't seem to be any correlation between `average_correctness` and `number_ofratings`"
   ]
  },
  {
   "cell_type": "markdown",
   "id": "6289a5e6",
   "metadata": {},
   "source": [
    "## [Q7 13 points] Overall predicted odds\n",
    "\n",
    "Consider each url u that is not in the gold set, and each category c. For the pair (u, c), calculate the product of odds of all turks who \n",
    "(a) rated url u as category c, and \n",
    "(b) have rated more gold set urls than 75% of all turks who rated at least one gold-set url.\n",
    "\n",
    "For example, if you find that there are 269 turks who rated at least one gold-set url, you want to select only the turks who have rated more gold-set urls than 75% of these 269 turks. We can think of these as our “reliable” turks. Now, our belief that url u belongs to category c depends on how many “reliable” turks rated u as c; specifically, our belief is based on the product of their reliability scores (i.e., their odds).\n",
    "\n",
    "We shall call such products of odds the overall odds henceforth."
   ]
  },
  {
   "cell_type": "code",
   "execution_count": 20,
   "id": "36c8579e",
   "metadata": {},
   "outputs": [
    {
     "data": {
      "text/plain": [
       "11.0"
      ]
     },
     "execution_count": 20,
     "metadata": {},
     "output_type": "execute_result"
    }
   ],
   "source": [
    "rater_goodness[\"number_of_ratings\"].quantile(0.75)"
   ]
  },
  {
   "cell_type": "code",
   "execution_count": 21,
   "id": "317a6d1e",
   "metadata": {},
   "outputs": [
    {
     "data": {
      "text/plain": [
       "66"
      ]
     },
     "execution_count": 21,
     "metadata": {},
     "output_type": "execute_result"
    }
   ],
   "source": [
    "mark_75 = rater_goodness[\"number_of_ratings\"].quantile(0.75)\n",
    "top25_turks = rater_goodness[rater_goodness[\"number_of_ratings\"] > mark_75].index.values\n",
    "len(top25_turks)"
   ]
  },
  {
   "cell_type": "code",
   "execution_count": 22,
   "id": "994d96aa",
   "metadata": {},
   "outputs": [],
   "source": [
    "labels_unknown_reliable = labels_unknown[labels_unknown[\"turk\"].isin(top25_turks)]"
   ]
  },
  {
   "cell_type": "code",
   "execution_count": 23,
   "id": "0622d7e9",
   "metadata": {},
   "outputs": [
    {
     "data": {
      "text/html": [
       "<div>\n",
       "<style scoped>\n",
       "    .dataframe tbody tr th:only-of-type {\n",
       "        vertical-align: middle;\n",
       "    }\n",
       "\n",
       "    .dataframe tbody tr th {\n",
       "        vertical-align: top;\n",
       "    }\n",
       "\n",
       "    .dataframe thead th {\n",
       "        text-align: right;\n",
       "    }\n",
       "</style>\n",
       "<table border=\"1\" class=\"dataframe\">\n",
       "  <thead>\n",
       "    <tr style=\"text-align: right;\">\n",
       "      <th></th>\n",
       "      <th>turk</th>\n",
       "      <th>url</th>\n",
       "      <th>category</th>\n",
       "    </tr>\n",
       "  </thead>\n",
       "  <tbody>\n",
       "    <tr>\n",
       "      <th>1</th>\n",
       "      <td>A1PXXEOGQ76RNJ</td>\n",
       "      <td>http://000.cc</td>\n",
       "      <td>G</td>\n",
       "    </tr>\n",
       "    <tr>\n",
       "      <th>3</th>\n",
       "      <td>A21US576U8SCO4</td>\n",
       "      <td>http://000.cc</td>\n",
       "      <td>G</td>\n",
       "    </tr>\n",
       "    <tr>\n",
       "      <th>10</th>\n",
       "      <td>A1PXXEOGQ76RNJ</td>\n",
       "      <td>http://0000.jp</td>\n",
       "      <td>G</td>\n",
       "    </tr>\n",
       "    <tr>\n",
       "      <th>11</th>\n",
       "      <td>A1XFA0A9Z3LAZJ</td>\n",
       "      <td>http://0000.jp</td>\n",
       "      <td>G</td>\n",
       "    </tr>\n",
       "    <tr>\n",
       "      <th>12</th>\n",
       "      <td>A21US576U8SCO4</td>\n",
       "      <td>http://0000.jp</td>\n",
       "      <td>G</td>\n",
       "    </tr>\n",
       "    <tr>\n",
       "      <th>...</th>\n",
       "      <td>...</td>\n",
       "      <td>...</td>\n",
       "      <td>...</td>\n",
       "    </tr>\n",
       "    <tr>\n",
       "      <th>92707</th>\n",
       "      <td>A4GP97LAQCCHJ</td>\n",
       "      <td>http://zynga.com</td>\n",
       "      <td>G</td>\n",
       "    </tr>\n",
       "    <tr>\n",
       "      <th>92709</th>\n",
       "      <td>A1PXXEOGQ76RNJ</td>\n",
       "      <td>http://zz868.com</td>\n",
       "      <td>G</td>\n",
       "    </tr>\n",
       "    <tr>\n",
       "      <th>92715</th>\n",
       "      <td>A4AD9ZMVU9SVA</td>\n",
       "      <td>http://zz868.com</td>\n",
       "      <td>P</td>\n",
       "    </tr>\n",
       "    <tr>\n",
       "      <th>92719</th>\n",
       "      <td>A21US576U8SCO4</td>\n",
       "      <td>http://zzx.cc</td>\n",
       "      <td>G</td>\n",
       "    </tr>\n",
       "    <tr>\n",
       "      <th>92720</th>\n",
       "      <td>A29T6EIMK6R7O0</td>\n",
       "      <td>http://zzx.cc</td>\n",
       "      <td>X</td>\n",
       "    </tr>\n",
       "  </tbody>\n",
       "</table>\n",
       "<p>37998 rows × 3 columns</p>\n",
       "</div>"
      ],
      "text/plain": [
       "                 turk               url category\n",
       "1      A1PXXEOGQ76RNJ     http://000.cc        G\n",
       "3      A21US576U8SCO4     http://000.cc        G\n",
       "10     A1PXXEOGQ76RNJ    http://0000.jp        G\n",
       "11     A1XFA0A9Z3LAZJ    http://0000.jp        G\n",
       "12     A21US576U8SCO4    http://0000.jp        G\n",
       "...               ...               ...      ...\n",
       "92707   A4GP97LAQCCHJ  http://zynga.com        G\n",
       "92709  A1PXXEOGQ76RNJ  http://zz868.com        G\n",
       "92715   A4AD9ZMVU9SVA  http://zz868.com        P\n",
       "92719  A21US576U8SCO4     http://zzx.cc        G\n",
       "92720  A29T6EIMK6R7O0     http://zzx.cc        X\n",
       "\n",
       "[37998 rows x 3 columns]"
      ]
     },
     "execution_count": 23,
     "metadata": {},
     "output_type": "execute_result"
    }
   ],
   "source": [
    "labels_unknown_reliable"
   ]
  },
  {
   "cell_type": "code",
   "execution_count": 24,
   "id": "89fb85f8",
   "metadata": {},
   "outputs": [
    {
     "data": {
      "text/html": [
       "<div>\n",
       "<style scoped>\n",
       "    .dataframe tbody tr th:only-of-type {\n",
       "        vertical-align: middle;\n",
       "    }\n",
       "\n",
       "    .dataframe tbody tr th {\n",
       "        vertical-align: top;\n",
       "    }\n",
       "\n",
       "    .dataframe thead th {\n",
       "        text-align: right;\n",
       "    }\n",
       "</style>\n",
       "<table border=\"1\" class=\"dataframe\">\n",
       "  <thead>\n",
       "    <tr style=\"text-align: right;\">\n",
       "      <th></th>\n",
       "      <th>number_of_ratings</th>\n",
       "      <th>average_correctness</th>\n",
       "      <th>odds</th>\n",
       "    </tr>\n",
       "    <tr>\n",
       "      <th>turk</th>\n",
       "      <th></th>\n",
       "      <th></th>\n",
       "      <th></th>\n",
       "    </tr>\n",
       "  </thead>\n",
       "  <tbody>\n",
       "    <tr>\n",
       "      <th>A112DVP1KG4QZU</th>\n",
       "      <td>1</td>\n",
       "      <td>1.000000</td>\n",
       "      <td>1000.000000</td>\n",
       "    </tr>\n",
       "    <tr>\n",
       "      <th>A1253FXHCZ9CWM</th>\n",
       "      <td>29</td>\n",
       "      <td>0.517241</td>\n",
       "      <td>1.069214</td>\n",
       "    </tr>\n",
       "    <tr>\n",
       "      <th>A12CY1Q7XKJJDE</th>\n",
       "      <td>1</td>\n",
       "      <td>1.000000</td>\n",
       "      <td>1000.000000</td>\n",
       "    </tr>\n",
       "    <tr>\n",
       "      <th>A12RE8G66WTO8B</th>\n",
       "      <td>20</td>\n",
       "      <td>0.750000</td>\n",
       "      <td>2.988048</td>\n",
       "    </tr>\n",
       "    <tr>\n",
       "      <th>A12Y1GTGIQDGRA</th>\n",
       "      <td>3</td>\n",
       "      <td>0.333333</td>\n",
       "      <td>0.499251</td>\n",
       "    </tr>\n",
       "    <tr>\n",
       "      <th>...</th>\n",
       "      <td>...</td>\n",
       "      <td>...</td>\n",
       "      <td>...</td>\n",
       "    </tr>\n",
       "    <tr>\n",
       "      <th>AYWOBMTEGFVVI</th>\n",
       "      <td>1</td>\n",
       "      <td>0.000000</td>\n",
       "      <td>0.000000</td>\n",
       "    </tr>\n",
       "    <tr>\n",
       "      <th>AZ1S5BIG5R6P6</th>\n",
       "      <td>35</td>\n",
       "      <td>0.714286</td>\n",
       "      <td>2.491281</td>\n",
       "    </tr>\n",
       "    <tr>\n",
       "      <th>AZSDW7JJL5VA7</th>\n",
       "      <td>100</td>\n",
       "      <td>0.680000</td>\n",
       "      <td>2.118380</td>\n",
       "    </tr>\n",
       "    <tr>\n",
       "      <th>AZVB3RZW0OR1H</th>\n",
       "      <td>3</td>\n",
       "      <td>0.666667</td>\n",
       "      <td>1.994018</td>\n",
       "    </tr>\n",
       "    <tr>\n",
       "      <th>amurray</th>\n",
       "      <td>15</td>\n",
       "      <td>0.933333</td>\n",
       "      <td>13.793103</td>\n",
       "    </tr>\n",
       "  </tbody>\n",
       "</table>\n",
       "<p>269 rows × 3 columns</p>\n",
       "</div>"
      ],
      "text/plain": [
       "                number_of_ratings  average_correctness         odds\n",
       "turk                                                               \n",
       "A112DVP1KG4QZU                  1             1.000000  1000.000000\n",
       "A1253FXHCZ9CWM                 29             0.517241     1.069214\n",
       "A12CY1Q7XKJJDE                  1             1.000000  1000.000000\n",
       "A12RE8G66WTO8B                 20             0.750000     2.988048\n",
       "A12Y1GTGIQDGRA                  3             0.333333     0.499251\n",
       "...                           ...                  ...          ...\n",
       "AYWOBMTEGFVVI                   1             0.000000     0.000000\n",
       "AZ1S5BIG5R6P6                  35             0.714286     2.491281\n",
       "AZSDW7JJL5VA7                 100             0.680000     2.118380\n",
       "AZVB3RZW0OR1H                   3             0.666667     1.994018\n",
       "amurray                        15             0.933333    13.793103\n",
       "\n",
       "[269 rows x 3 columns]"
      ]
     },
     "execution_count": 24,
     "metadata": {},
     "output_type": "execute_result"
    }
   ],
   "source": [
    "rater_goodness"
   ]
  },
  {
   "cell_type": "code",
   "execution_count": 25,
   "id": "8de1966a",
   "metadata": {},
   "outputs": [
    {
     "data": {
      "text/plain": [
       "(37998, 3)"
      ]
     },
     "execution_count": 25,
     "metadata": {},
     "output_type": "execute_result"
    }
   ],
   "source": [
    "labels_unknown_reliable.shape"
   ]
  },
  {
   "cell_type": "code",
   "execution_count": 26,
   "id": "88a41d7c",
   "metadata": {},
   "outputs": [],
   "source": [
    "labels_unknown_reliable = labels_unknown_reliable.merge(rater_goodness[['odds']], right_index=True, left_on = 'turk')"
   ]
  },
  {
   "cell_type": "code",
   "execution_count": 27,
   "id": "893340a0",
   "metadata": {},
   "outputs": [
    {
     "data": {
      "text/html": [
       "<div>\n",
       "<style scoped>\n",
       "    .dataframe tbody tr th:only-of-type {\n",
       "        vertical-align: middle;\n",
       "    }\n",
       "\n",
       "    .dataframe tbody tr th {\n",
       "        vertical-align: top;\n",
       "    }\n",
       "\n",
       "    .dataframe thead th {\n",
       "        text-align: right;\n",
       "    }\n",
       "</style>\n",
       "<table border=\"1\" class=\"dataframe\">\n",
       "  <thead>\n",
       "    <tr style=\"text-align: right;\">\n",
       "      <th></th>\n",
       "      <th>turk</th>\n",
       "      <th>url</th>\n",
       "      <th>category</th>\n",
       "      <th>odds</th>\n",
       "    </tr>\n",
       "  </thead>\n",
       "  <tbody>\n",
       "    <tr>\n",
       "      <th>1</th>\n",
       "      <td>A1PXXEOGQ76RNJ</td>\n",
       "      <td>http://000.cc</td>\n",
       "      <td>G</td>\n",
       "      <td>1.047852</td>\n",
       "    </tr>\n",
       "    <tr>\n",
       "      <th>10</th>\n",
       "      <td>A1PXXEOGQ76RNJ</td>\n",
       "      <td>http://0000.jp</td>\n",
       "      <td>G</td>\n",
       "      <td>1.047852</td>\n",
       "    </tr>\n",
       "    <tr>\n",
       "      <th>22</th>\n",
       "      <td>A1PXXEOGQ76RNJ</td>\n",
       "      <td>http://000relationships.com</td>\n",
       "      <td>G</td>\n",
       "      <td>1.047852</td>\n",
       "    </tr>\n",
       "    <tr>\n",
       "      <th>73</th>\n",
       "      <td>A1PXXEOGQ76RNJ</td>\n",
       "      <td>http://007swz.cn</td>\n",
       "      <td>G</td>\n",
       "      <td>1.047852</td>\n",
       "    </tr>\n",
       "    <tr>\n",
       "      <th>80</th>\n",
       "      <td>A1PXXEOGQ76RNJ</td>\n",
       "      <td>http://01768.com</td>\n",
       "      <td>G</td>\n",
       "      <td>1.047852</td>\n",
       "    </tr>\n",
       "    <tr>\n",
       "      <th>...</th>\n",
       "      <td>...</td>\n",
       "      <td>...</td>\n",
       "      <td>...</td>\n",
       "      <td>...</td>\n",
       "    </tr>\n",
       "    <tr>\n",
       "      <th>90172</th>\n",
       "      <td>amurray</td>\n",
       "      <td>http://www.blazzpage.7p.com/</td>\n",
       "      <td>G</td>\n",
       "      <td>13.793103</td>\n",
       "    </tr>\n",
       "    <tr>\n",
       "      <th>90173</th>\n",
       "      <td>amurray</td>\n",
       "      <td>http://www.byroncrawford.com/</td>\n",
       "      <td>P</td>\n",
       "      <td>13.793103</td>\n",
       "    </tr>\n",
       "    <tr>\n",
       "      <th>90188</th>\n",
       "      <td>amurray</td>\n",
       "      <td>http://www.freelayouticons.com/</td>\n",
       "      <td>P</td>\n",
       "      <td>13.793103</td>\n",
       "    </tr>\n",
       "    <tr>\n",
       "      <th>90189</th>\n",
       "      <td>amurray</td>\n",
       "      <td>http://www.hollywoodtuna.com/?p=4729</td>\n",
       "      <td>R</td>\n",
       "      <td>13.793103</td>\n",
       "    </tr>\n",
       "    <tr>\n",
       "      <th>90201</th>\n",
       "      <td>amurray</td>\n",
       "      <td>http://www.ninjadude.com/index.php/joss-stone-...</td>\n",
       "      <td>R</td>\n",
       "      <td>13.793103</td>\n",
       "    </tr>\n",
       "  </tbody>\n",
       "</table>\n",
       "<p>37998 rows × 4 columns</p>\n",
       "</div>"
      ],
      "text/plain": [
       "                 turk                                                url  \\\n",
       "1      A1PXXEOGQ76RNJ                                      http://000.cc   \n",
       "10     A1PXXEOGQ76RNJ                                     http://0000.jp   \n",
       "22     A1PXXEOGQ76RNJ                        http://000relationships.com   \n",
       "73     A1PXXEOGQ76RNJ                                   http://007swz.cn   \n",
       "80     A1PXXEOGQ76RNJ                                   http://01768.com   \n",
       "...               ...                                                ...   \n",
       "90172         amurray                       http://www.blazzpage.7p.com/   \n",
       "90173         amurray                      http://www.byroncrawford.com/   \n",
       "90188         amurray                    http://www.freelayouticons.com/   \n",
       "90189         amurray               http://www.hollywoodtuna.com/?p=4729   \n",
       "90201         amurray  http://www.ninjadude.com/index.php/joss-stone-...   \n",
       "\n",
       "      category       odds  \n",
       "1            G   1.047852  \n",
       "10           G   1.047852  \n",
       "22           G   1.047852  \n",
       "73           G   1.047852  \n",
       "80           G   1.047852  \n",
       "...        ...        ...  \n",
       "90172        G  13.793103  \n",
       "90173        P  13.793103  \n",
       "90188        P  13.793103  \n",
       "90189        R  13.793103  \n",
       "90201        R  13.793103  \n",
       "\n",
       "[37998 rows x 4 columns]"
      ]
     },
     "execution_count": 27,
     "metadata": {},
     "output_type": "execute_result"
    }
   ],
   "source": [
    "labels_unknown_reliable"
   ]
  },
  {
   "cell_type": "code",
   "execution_count": 28,
   "id": "561ded95",
   "metadata": {},
   "outputs": [
    {
     "data": {
      "text/html": [
       "<div>\n",
       "<style scoped>\n",
       "    .dataframe tbody tr th:only-of-type {\n",
       "        vertical-align: middle;\n",
       "    }\n",
       "\n",
       "    .dataframe tbody tr th {\n",
       "        vertical-align: top;\n",
       "    }\n",
       "\n",
       "    .dataframe thead th {\n",
       "        text-align: right;\n",
       "    }\n",
       "</style>\n",
       "<table border=\"1\" class=\"dataframe\">\n",
       "  <thead>\n",
       "    <tr style=\"text-align: right;\">\n",
       "      <th></th>\n",
       "      <th>url</th>\n",
       "      <th>category</th>\n",
       "      <th>overall_odds</th>\n",
       "    </tr>\n",
       "  </thead>\n",
       "  <tbody>\n",
       "    <tr>\n",
       "      <th>0</th>\n",
       "      <td>http://0-101.net</td>\n",
       "      <td>G</td>\n",
       "      <td>2.297602</td>\n",
       "    </tr>\n",
       "    <tr>\n",
       "      <th>1</th>\n",
       "      <td>http://000.cc</td>\n",
       "      <td>G</td>\n",
       "      <td>1.485456</td>\n",
       "    </tr>\n",
       "    <tr>\n",
       "      <th>2</th>\n",
       "      <td>http://0000.jp</td>\n",
       "      <td>G</td>\n",
       "      <td>14.339248</td>\n",
       "    </tr>\n",
       "    <tr>\n",
       "      <th>3</th>\n",
       "      <td>http://000relationships.com</td>\n",
       "      <td>G</td>\n",
       "      <td>3.841962</td>\n",
       "    </tr>\n",
       "    <tr>\n",
       "      <th>4</th>\n",
       "      <td>http://000relationships.com</td>\n",
       "      <td>P</td>\n",
       "      <td>1.851852</td>\n",
       "    </tr>\n",
       "    <tr>\n",
       "      <th>...</th>\n",
       "      <td>...</td>\n",
       "      <td>...</td>\n",
       "      <td>...</td>\n",
       "    </tr>\n",
       "    <tr>\n",
       "      <th>13978</th>\n",
       "      <td>http://zynga.com</td>\n",
       "      <td>G</td>\n",
       "      <td>3.666513</td>\n",
       "    </tr>\n",
       "    <tr>\n",
       "      <th>13979</th>\n",
       "      <td>http://zz868.com</td>\n",
       "      <td>G</td>\n",
       "      <td>1.047852</td>\n",
       "    </tr>\n",
       "    <tr>\n",
       "      <th>13980</th>\n",
       "      <td>http://zz868.com</td>\n",
       "      <td>P</td>\n",
       "      <td>1.851852</td>\n",
       "    </tr>\n",
       "    <tr>\n",
       "      <th>13981</th>\n",
       "      <td>http://zzx.cc</td>\n",
       "      <td>G</td>\n",
       "      <td>1.417620</td>\n",
       "    </tr>\n",
       "    <tr>\n",
       "      <th>13982</th>\n",
       "      <td>http://zzx.cc</td>\n",
       "      <td>X</td>\n",
       "      <td>1.620746</td>\n",
       "    </tr>\n",
       "  </tbody>\n",
       "</table>\n",
       "<p>13983 rows × 3 columns</p>\n",
       "</div>"
      ],
      "text/plain": [
       "                               url category  overall_odds\n",
       "0                 http://0-101.net        G      2.297602\n",
       "1                    http://000.cc        G      1.485456\n",
       "2                   http://0000.jp        G     14.339248\n",
       "3      http://000relationships.com        G      3.841962\n",
       "4      http://000relationships.com        P      1.851852\n",
       "...                            ...      ...           ...\n",
       "13978             http://zynga.com        G      3.666513\n",
       "13979             http://zz868.com        G      1.047852\n",
       "13980             http://zz868.com        P      1.851852\n",
       "13981                http://zzx.cc        G      1.417620\n",
       "13982                http://zzx.cc        X      1.620746\n",
       "\n",
       "[13983 rows x 3 columns]"
      ]
     },
     "execution_count": 28,
     "metadata": {},
     "output_type": "execute_result"
    }
   ],
   "source": [
    "unknown_urls_odds = labels_unknown_reliable.groupby(['url', 'category'], as_index=False).agg(overall_odds = ('odds', 'prod'))\n",
    "unknown_urls_odds"
   ]
  },
  {
   "cell_type": "code",
   "execution_count": 29,
   "id": "4b022ddf",
   "metadata": {},
   "outputs": [
    {
     "data": {
      "text/html": [
       "<div>\n",
       "<style scoped>\n",
       "    .dataframe tbody tr th:only-of-type {\n",
       "        vertical-align: middle;\n",
       "    }\n",
       "\n",
       "    .dataframe tbody tr th {\n",
       "        vertical-align: top;\n",
       "    }\n",
       "\n",
       "    .dataframe thead th {\n",
       "        text-align: right;\n",
       "    }\n",
       "</style>\n",
       "<table border=\"1\" class=\"dataframe\">\n",
       "  <thead>\n",
       "    <tr style=\"text-align: right;\">\n",
       "      <th></th>\n",
       "      <th>turk</th>\n",
       "      <th>url</th>\n",
       "      <th>category</th>\n",
       "      <th>odds</th>\n",
       "      <th>overall_odds</th>\n",
       "    </tr>\n",
       "  </thead>\n",
       "  <tbody>\n",
       "    <tr>\n",
       "      <th>0</th>\n",
       "      <td>A1PXXEOGQ76RNJ</td>\n",
       "      <td>http://000.cc</td>\n",
       "      <td>G</td>\n",
       "      <td>1.047852</td>\n",
       "      <td>1.485456</td>\n",
       "    </tr>\n",
       "    <tr>\n",
       "      <th>1</th>\n",
       "      <td>A21US576U8SCO4</td>\n",
       "      <td>http://000.cc</td>\n",
       "      <td>G</td>\n",
       "      <td>1.417620</td>\n",
       "      <td>1.485456</td>\n",
       "    </tr>\n",
       "    <tr>\n",
       "      <th>2</th>\n",
       "      <td>A1PXXEOGQ76RNJ</td>\n",
       "      <td>http://0000.jp</td>\n",
       "      <td>G</td>\n",
       "      <td>1.047852</td>\n",
       "      <td>14.339248</td>\n",
       "    </tr>\n",
       "    <tr>\n",
       "      <th>3</th>\n",
       "      <td>A21US576U8SCO4</td>\n",
       "      <td>http://0000.jp</td>\n",
       "      <td>G</td>\n",
       "      <td>1.417620</td>\n",
       "      <td>14.339248</td>\n",
       "    </tr>\n",
       "    <tr>\n",
       "      <th>4</th>\n",
       "      <td>A1XFA0A9Z3LAZJ</td>\n",
       "      <td>http://0000.jp</td>\n",
       "      <td>G</td>\n",
       "      <td>3.732272</td>\n",
       "      <td>14.339248</td>\n",
       "    </tr>\n",
       "    <tr>\n",
       "      <th>...</th>\n",
       "      <td>...</td>\n",
       "      <td>...</td>\n",
       "      <td>...</td>\n",
       "      <td>...</td>\n",
       "      <td>...</td>\n",
       "    </tr>\n",
       "    <tr>\n",
       "      <th>37993</th>\n",
       "      <td>amurray</td>\n",
       "      <td>http://www.blazzpage.7p.com/</td>\n",
       "      <td>G</td>\n",
       "      <td>13.793103</td>\n",
       "      <td>13.793103</td>\n",
       "    </tr>\n",
       "    <tr>\n",
       "      <th>37994</th>\n",
       "      <td>amurray</td>\n",
       "      <td>http://www.byroncrawford.com/</td>\n",
       "      <td>P</td>\n",
       "      <td>13.793103</td>\n",
       "      <td>13.793103</td>\n",
       "    </tr>\n",
       "    <tr>\n",
       "      <th>37995</th>\n",
       "      <td>amurray</td>\n",
       "      <td>http://www.freelayouticons.com/</td>\n",
       "      <td>P</td>\n",
       "      <td>13.793103</td>\n",
       "      <td>13.793103</td>\n",
       "    </tr>\n",
       "    <tr>\n",
       "      <th>37996</th>\n",
       "      <td>amurray</td>\n",
       "      <td>http://www.hollywoodtuna.com/?p=4729</td>\n",
       "      <td>R</td>\n",
       "      <td>13.793103</td>\n",
       "      <td>13.793103</td>\n",
       "    </tr>\n",
       "    <tr>\n",
       "      <th>37997</th>\n",
       "      <td>amurray</td>\n",
       "      <td>http://www.ninjadude.com/index.php/joss-stone-...</td>\n",
       "      <td>R</td>\n",
       "      <td>13.793103</td>\n",
       "      <td>13.793103</td>\n",
       "    </tr>\n",
       "  </tbody>\n",
       "</table>\n",
       "<p>37998 rows × 5 columns</p>\n",
       "</div>"
      ],
      "text/plain": [
       "                 turk                                                url  \\\n",
       "0      A1PXXEOGQ76RNJ                                      http://000.cc   \n",
       "1      A21US576U8SCO4                                      http://000.cc   \n",
       "2      A1PXXEOGQ76RNJ                                     http://0000.jp   \n",
       "3      A21US576U8SCO4                                     http://0000.jp   \n",
       "4      A1XFA0A9Z3LAZJ                                     http://0000.jp   \n",
       "...               ...                                                ...   \n",
       "37993         amurray                       http://www.blazzpage.7p.com/   \n",
       "37994         amurray                      http://www.byroncrawford.com/   \n",
       "37995         amurray                    http://www.freelayouticons.com/   \n",
       "37996         amurray               http://www.hollywoodtuna.com/?p=4729   \n",
       "37997         amurray  http://www.ninjadude.com/index.php/joss-stone-...   \n",
       "\n",
       "      category       odds  overall_odds  \n",
       "0            G   1.047852      1.485456  \n",
       "1            G   1.417620      1.485456  \n",
       "2            G   1.047852     14.339248  \n",
       "3            G   1.417620     14.339248  \n",
       "4            G   3.732272     14.339248  \n",
       "...        ...        ...           ...  \n",
       "37993        G  13.793103     13.793103  \n",
       "37994        P  13.793103     13.793103  \n",
       "37995        P  13.793103     13.793103  \n",
       "37996        R  13.793103     13.793103  \n",
       "37997        R  13.793103     13.793103  \n",
       "\n",
       "[37998 rows x 5 columns]"
      ]
     },
     "execution_count": 29,
     "metadata": {},
     "output_type": "execute_result"
    }
   ],
   "source": [
    "labels_unknown_reliable_odds = labels_unknown_reliable.merge(unknown_urls_odds, on=['url', 'category'])\n",
    "labels_unknown_reliable_odds"
   ]
  },
  {
   "cell_type": "markdown",
   "id": "1d33caeb",
   "metadata": {},
   "source": [
    "## [Q8 13 points] Predicted categories\n",
    "\n",
    "Create a DataFrame (called result_75, whose index is URLs not in the gold set, and with two columns called top category and top odds. The top category should be the category with the highest overall odds for that url, and the\n",
    "top odds should be the overall odds for that top category.\n",
    "\n",
    "These are our predictions, and the confidence we have in them (higher overall odds implies greater confidence). If you want, you can check to see if the predicted categories make sense."
   ]
  },
  {
   "cell_type": "code",
   "execution_count": 30,
   "id": "537d9f97",
   "metadata": {},
   "outputs": [],
   "source": [
    "a = pd.pivot_table(labels_unknown_reliable_odds, values='overall_odds', index = 'category', columns='url')"
   ]
  },
  {
   "cell_type": "code",
   "execution_count": 31,
   "id": "4579dc08",
   "metadata": {},
   "outputs": [
    {
     "data": {
      "text/html": [
       "<div>\n",
       "<style scoped>\n",
       "    .dataframe tbody tr th:only-of-type {\n",
       "        vertical-align: middle;\n",
       "    }\n",
       "\n",
       "    .dataframe tbody tr th {\n",
       "        vertical-align: top;\n",
       "    }\n",
       "\n",
       "    .dataframe thead th {\n",
       "        text-align: right;\n",
       "    }\n",
       "</style>\n",
       "<table border=\"1\" class=\"dataframe\">\n",
       "  <thead>\n",
       "    <tr style=\"text-align: right;\">\n",
       "      <th></th>\n",
       "      <th>top_odds</th>\n",
       "      <th>top_category</th>\n",
       "    </tr>\n",
       "    <tr>\n",
       "      <th>url</th>\n",
       "      <th></th>\n",
       "      <th></th>\n",
       "    </tr>\n",
       "  </thead>\n",
       "  <tbody>\n",
       "    <tr>\n",
       "      <th>http://0-101.net</th>\n",
       "      <td>2.297602</td>\n",
       "      <td>G</td>\n",
       "    </tr>\n",
       "    <tr>\n",
       "      <th>http://000.cc</th>\n",
       "      <td>1.485456</td>\n",
       "      <td>G</td>\n",
       "    </tr>\n",
       "    <tr>\n",
       "      <th>http://0000.jp</th>\n",
       "      <td>14.339248</td>\n",
       "      <td>G</td>\n",
       "    </tr>\n",
       "    <tr>\n",
       "      <th>http://000relationships.com</th>\n",
       "      <td>3.841962</td>\n",
       "      <td>G</td>\n",
       "    </tr>\n",
       "    <tr>\n",
       "      <th>http://000vitamins.com</th>\n",
       "      <td>4.033641</td>\n",
       "      <td>G</td>\n",
       "    </tr>\n",
       "  </tbody>\n",
       "</table>\n",
       "</div>"
      ],
      "text/plain": [
       "                              top_odds top_category\n",
       "url                                                \n",
       "http://0-101.net              2.297602            G\n",
       "http://000.cc                 1.485456            G\n",
       "http://0000.jp               14.339248            G\n",
       "http://000relationships.com   3.841962            G\n",
       "http://000vitamins.com        4.033641            G"
      ]
     },
     "execution_count": 31,
     "metadata": {},
     "output_type": "execute_result"
    }
   ],
   "source": [
    "result_75 = pd.concat([a.max().rename('top_odds'), a.idxmax().rename('top_category')], axis = 1)\n",
    "result_75.head()"
   ]
  },
  {
   "cell_type": "code",
   "execution_count": 32,
   "id": "0d96f521",
   "metadata": {},
   "outputs": [
    {
     "data": {
      "text/html": [
       "<div>\n",
       "<style scoped>\n",
       "    .dataframe tbody tr th:only-of-type {\n",
       "        vertical-align: middle;\n",
       "    }\n",
       "\n",
       "    .dataframe tbody tr th {\n",
       "        vertical-align: top;\n",
       "    }\n",
       "\n",
       "    .dataframe thead th {\n",
       "        text-align: right;\n",
       "    }\n",
       "</style>\n",
       "<table border=\"1\" class=\"dataframe\">\n",
       "  <thead>\n",
       "    <tr style=\"text-align: right;\">\n",
       "      <th></th>\n",
       "      <th>top_odds</th>\n",
       "      <th>top_category</th>\n",
       "    </tr>\n",
       "    <tr>\n",
       "      <th>url</th>\n",
       "      <th></th>\n",
       "      <th></th>\n",
       "    </tr>\n",
       "  </thead>\n",
       "  <tbody>\n",
       "    <tr>\n",
       "      <th>http://0-101.net</th>\n",
       "      <td>2.297602</td>\n",
       "      <td>G</td>\n",
       "    </tr>\n",
       "    <tr>\n",
       "      <th>http://000.cc</th>\n",
       "      <td>1.485456</td>\n",
       "      <td>G</td>\n",
       "    </tr>\n",
       "    <tr>\n",
       "      <th>http://0000.jp</th>\n",
       "      <td>14.339248</td>\n",
       "      <td>G</td>\n",
       "    </tr>\n",
       "    <tr>\n",
       "      <th>http://000relationships.com</th>\n",
       "      <td>3.841962</td>\n",
       "      <td>G</td>\n",
       "    </tr>\n",
       "    <tr>\n",
       "      <th>http://000vitamins.com</th>\n",
       "      <td>4.033641</td>\n",
       "      <td>G</td>\n",
       "    </tr>\n",
       "    <tr>\n",
       "      <th>...</th>\n",
       "      <td>...</td>\n",
       "      <td>...</td>\n",
       "    </tr>\n",
       "    <tr>\n",
       "      <th>http://zwinky.com</th>\n",
       "      <td>17.201875</td>\n",
       "      <td>G</td>\n",
       "    </tr>\n",
       "    <tr>\n",
       "      <th>http://zylom.com</th>\n",
       "      <td>1.849543</td>\n",
       "      <td>G</td>\n",
       "    </tr>\n",
       "    <tr>\n",
       "      <th>http://zynga.com</th>\n",
       "      <td>3.666513</td>\n",
       "      <td>G</td>\n",
       "    </tr>\n",
       "    <tr>\n",
       "      <th>http://zz868.com</th>\n",
       "      <td>1.851852</td>\n",
       "      <td>P</td>\n",
       "    </tr>\n",
       "    <tr>\n",
       "      <th>http://zzx.cc</th>\n",
       "      <td>1.620746</td>\n",
       "      <td>X</td>\n",
       "    </tr>\n",
       "  </tbody>\n",
       "</table>\n",
       "<p>10610 rows × 2 columns</p>\n",
       "</div>"
      ],
      "text/plain": [
       "                              top_odds top_category\n",
       "url                                                \n",
       "http://0-101.net              2.297602            G\n",
       "http://000.cc                 1.485456            G\n",
       "http://0000.jp               14.339248            G\n",
       "http://000relationships.com   3.841962            G\n",
       "http://000vitamins.com        4.033641            G\n",
       "...                                ...          ...\n",
       "http://zwinky.com            17.201875            G\n",
       "http://zylom.com              1.849543            G\n",
       "http://zynga.com              3.666513            G\n",
       "http://zz868.com              1.851852            P\n",
       "http://zzx.cc                 1.620746            X\n",
       "\n",
       "[10610 rows x 2 columns]"
      ]
     },
     "execution_count": 32,
     "metadata": {},
     "output_type": "execute_result"
    }
   ],
   "source": [
    "result_75"
   ]
  },
  {
   "cell_type": "markdown",
   "id": "83544594",
   "metadata": {},
   "source": [
    "## [Q9 14 points] Predicted categories using more turks\n",
    "\n",
    "Questions 7 and 8 above only considered the ratings of turks who had rated enough gold set URLs, so we were relatively more confident about their accuracies. What happens if we loosen this restriction?\n",
    "\n",
    "Repeat the code of Q7 and Q8, but replacing 75% by 25% in the description of Q7 (i.e., we also consider turks who have far fewer gold set ratings). Call this result 25. Now let’s see how these two results compare. Create a DataFrame where both the index and the columns are the various categories, and the cells\n",
    "contain the number of urls with these as the top categories according to\n",
    "result 75 and result 25.\n",
    "\n",
    "For example, the cell corresponding to the row category=R and the column category=G would be the number of URLs\n",
    "that were predicted to be R by result 75 but predicted to be G by result 25.\n",
    "Where are the most errors ?"
   ]
  },
  {
   "cell_type": "code",
   "execution_count": 33,
   "id": "7691aa13",
   "metadata": {},
   "outputs": [
    {
     "name": "stdout",
     "output_type": "stream",
     "text": [
      "173\n"
     ]
    },
    {
     "data": {
      "text/html": [
       "<div>\n",
       "<style scoped>\n",
       "    .dataframe tbody tr th:only-of-type {\n",
       "        vertical-align: middle;\n",
       "    }\n",
       "\n",
       "    .dataframe tbody tr th {\n",
       "        vertical-align: top;\n",
       "    }\n",
       "\n",
       "    .dataframe thead th {\n",
       "        text-align: right;\n",
       "    }\n",
       "</style>\n",
       "<table border=\"1\" class=\"dataframe\">\n",
       "  <thead>\n",
       "    <tr style=\"text-align: right;\">\n",
       "      <th></th>\n",
       "      <th>top_odds</th>\n",
       "      <th>top_category</th>\n",
       "    </tr>\n",
       "    <tr>\n",
       "      <th>url</th>\n",
       "      <th></th>\n",
       "      <th></th>\n",
       "    </tr>\n",
       "  </thead>\n",
       "  <tbody>\n",
       "    <tr>\n",
       "      <th>http://0-101.net</th>\n",
       "      <td>2.297602e+00</td>\n",
       "      <td>G</td>\n",
       "    </tr>\n",
       "    <tr>\n",
       "      <th>http://000.cc</th>\n",
       "      <td>2.218192e+03</td>\n",
       "      <td>G</td>\n",
       "    </tr>\n",
       "    <tr>\n",
       "      <th>http://0000.jp</th>\n",
       "      <td>2.847963e+07</td>\n",
       "      <td>G</td>\n",
       "    </tr>\n",
       "    <tr>\n",
       "      <th>http://000relationships.com</th>\n",
       "      <td>1.851852e+00</td>\n",
       "      <td>P</td>\n",
       "    </tr>\n",
       "    <tr>\n",
       "      <th>http://000vitamins.com</th>\n",
       "      <td>5.343559e+00</td>\n",
       "      <td>G</td>\n",
       "    </tr>\n",
       "  </tbody>\n",
       "</table>\n",
       "</div>"
      ],
      "text/plain": [
       "                                 top_odds top_category\n",
       "url                                                   \n",
       "http://0-101.net             2.297602e+00            G\n",
       "http://000.cc                2.218192e+03            G\n",
       "http://0000.jp               2.847963e+07            G\n",
       "http://000relationships.com  1.851852e+00            P\n",
       "http://000vitamins.com       5.343559e+00            G"
      ]
     },
     "execution_count": 33,
     "metadata": {},
     "output_type": "execute_result"
    }
   ],
   "source": [
    "mark_25 = rater_goodness[\"number_of_ratings\"].quantile(0.25)\n",
    "top75_turks = rater_goodness[rater_goodness[\"number_of_ratings\"] > mark_25].index.values\n",
    "print(len(top75_turks))\n",
    "\n",
    "labels_unknown_above25 = labels_unknown[labels_unknown[\"turk\"].isin(top75_turks)]\n",
    "\n",
    "labels_unknown_above25 = labels_unknown_above25.merge(rater_goodness[['odds']], right_index=True, left_on = 'turk')\n",
    "\n",
    "unknown_urls_odds = labels_unknown_above25.groupby(['url', 'category'], as_index=False).agg(overall_odds = ('odds', 'prod'))\n",
    "unknown_urls_odds\n",
    "\n",
    "labels_unknown_above25_odds = labels_unknown_above25.merge(unknown_urls_odds, on=['url', 'category'])\n",
    "labels_unknown_above25_odds\n",
    "\n",
    "a = pd.pivot_table(labels_unknown_above25_odds, values='overall_odds', index = 'category', columns='url')\n",
    "\n",
    "result_25 = pd.concat([a.max().rename('top_odds'), a.idxmax().rename('top_category')], axis = 1)\n",
    "result_25.head()"
   ]
  },
  {
   "cell_type": "code",
   "execution_count": 34,
   "id": "83069b09",
   "metadata": {},
   "outputs": [],
   "source": [
    "a = result_75.merge(result_25, right_index=True, left_index=True, suffixes=[\"_reliable\", '_above25'], how = 'inner') "
   ]
  },
  {
   "cell_type": "code",
   "execution_count": 47,
   "id": "80067236",
   "metadata": {},
   "outputs": [
    {
     "data": {
      "text/html": [
       "<div>\n",
       "<style scoped>\n",
       "    .dataframe tbody tr th:only-of-type {\n",
       "        vertical-align: middle;\n",
       "    }\n",
       "\n",
       "    .dataframe tbody tr th {\n",
       "        vertical-align: top;\n",
       "    }\n",
       "\n",
       "    .dataframe thead th {\n",
       "        text-align: right;\n",
       "    }\n",
       "</style>\n",
       "<table border=\"1\" class=\"dataframe\">\n",
       "  <thead>\n",
       "    <tr style=\"text-align: right;\">\n",
       "      <th>top_category_above25</th>\n",
       "      <th>G</th>\n",
       "      <th>P</th>\n",
       "      <th>R</th>\n",
       "      <th>X</th>\n",
       "    </tr>\n",
       "    <tr>\n",
       "      <th>top_category_reliable</th>\n",
       "      <th></th>\n",
       "      <th></th>\n",
       "      <th></th>\n",
       "      <th></th>\n",
       "    </tr>\n",
       "  </thead>\n",
       "  <tbody>\n",
       "    <tr>\n",
       "      <th>G</th>\n",
       "      <td>8280</td>\n",
       "      <td>586</td>\n",
       "      <td>180</td>\n",
       "      <td>214</td>\n",
       "    </tr>\n",
       "    <tr>\n",
       "      <th>P</th>\n",
       "      <td>196</td>\n",
       "      <td>352</td>\n",
       "      <td>52</td>\n",
       "      <td>25</td>\n",
       "    </tr>\n",
       "    <tr>\n",
       "      <th>R</th>\n",
       "      <td>22</td>\n",
       "      <td>34</td>\n",
       "      <td>127</td>\n",
       "      <td>25</td>\n",
       "    </tr>\n",
       "    <tr>\n",
       "      <th>X</th>\n",
       "      <td>28</td>\n",
       "      <td>5</td>\n",
       "      <td>28</td>\n",
       "      <td>456</td>\n",
       "    </tr>\n",
       "  </tbody>\n",
       "</table>\n",
       "</div>"
      ],
      "text/plain": [
       "top_category_above25      G    P    R    X\n",
       "top_category_reliable                     \n",
       "G                      8280  586  180  214\n",
       "P                       196  352   52   25\n",
       "R                        22   34  127   25\n",
       "X                        28    5   28  456"
      ]
     },
     "execution_count": 47,
     "metadata": {},
     "output_type": "execute_result"
    }
   ],
   "source": [
    "results_ct = pd.crosstab(a['top_category_reliable'], a['top_category_above25'])\n",
    "results_ct"
   ]
  },
  {
   "cell_type": "code",
   "execution_count": 36,
   "id": "9ee529c4",
   "metadata": {},
   "outputs": [
    {
     "name": "stdout",
     "output_type": "stream",
     "text": [
      "0.8685202639019792\n"
     ]
    },
    {
     "data": {
      "text/plain": [
       "13.147973609802078"
      ]
     },
     "execution_count": 36,
     "metadata": {},
     "output_type": "execute_result"
    }
   ],
   "source": [
    "accuracy = (results_ct.iloc[0,0] + results_ct.iloc[1,1] + results_ct.iloc[2,2] + results_ct.iloc[3,3]) / results_ct.iloc[4,4]\n",
    "print(accuracy)\n",
    "error = (1 - accuracy) * 100\n",
    "error"
   ]
  },
  {
   "cell_type": "markdown",
   "id": "375032d3",
   "metadata": {},
   "source": [
    "Misclassification error : 13.147%"
   ]
  },
  {
   "cell_type": "code",
   "execution_count": 49,
   "id": "e4ed89e9",
   "metadata": {},
   "outputs": [
    {
     "data": {
      "text/html": [
       "<div>\n",
       "<style scoped>\n",
       "    .dataframe tbody tr th:only-of-type {\n",
       "        vertical-align: middle;\n",
       "    }\n",
       "\n",
       "    .dataframe tbody tr th {\n",
       "        vertical-align: top;\n",
       "    }\n",
       "\n",
       "    .dataframe thead th {\n",
       "        text-align: right;\n",
       "    }\n",
       "</style>\n",
       "<table border=\"1\" class=\"dataframe\">\n",
       "  <thead>\n",
       "    <tr style=\"text-align: right;\">\n",
       "      <th>top_category_above25</th>\n",
       "      <th>G</th>\n",
       "      <th>P</th>\n",
       "      <th>R</th>\n",
       "      <th>X</th>\n",
       "    </tr>\n",
       "    <tr>\n",
       "      <th>top_category_reliable</th>\n",
       "      <th></th>\n",
       "      <th></th>\n",
       "      <th></th>\n",
       "      <th></th>\n",
       "    </tr>\n",
       "  </thead>\n",
       "  <tbody>\n",
       "    <tr>\n",
       "      <th>G</th>\n",
       "      <td>89.416847</td>\n",
       "      <td>6.328294</td>\n",
       "      <td>1.943844</td>\n",
       "      <td>2.311015</td>\n",
       "    </tr>\n",
       "    <tr>\n",
       "      <th>P</th>\n",
       "      <td>31.360000</td>\n",
       "      <td>56.320000</td>\n",
       "      <td>8.320000</td>\n",
       "      <td>4.000000</td>\n",
       "    </tr>\n",
       "    <tr>\n",
       "      <th>R</th>\n",
       "      <td>10.576923</td>\n",
       "      <td>16.346154</td>\n",
       "      <td>61.057692</td>\n",
       "      <td>12.019231</td>\n",
       "    </tr>\n",
       "    <tr>\n",
       "      <th>X</th>\n",
       "      <td>5.415861</td>\n",
       "      <td>0.967118</td>\n",
       "      <td>5.415861</td>\n",
       "      <td>88.201161</td>\n",
       "    </tr>\n",
       "  </tbody>\n",
       "</table>\n",
       "</div>"
      ],
      "text/plain": [
       "top_category_above25           G          P          R          X\n",
       "top_category_reliable                                            \n",
       "G                      89.416847   6.328294   1.943844   2.311015\n",
       "P                      31.360000  56.320000   8.320000   4.000000\n",
       "R                      10.576923  16.346154  61.057692  12.019231\n",
       "X                       5.415861   0.967118   5.415861  88.201161"
      ]
     },
     "execution_count": 49,
     "metadata": {},
     "output_type": "execute_result"
    }
   ],
   "source": [
    "a = results_ct.div(results_ct.sum(axis = 1), axis = 0) * 100\n",
    "a"
   ]
  },
  {
   "cell_type": "markdown",
   "id": "d2df99bf",
   "metadata": {},
   "source": [
    "Class with most errors : `category P`"
   ]
  },
  {
   "cell_type": "code",
   "execution_count": null,
   "id": "9e07c15b",
   "metadata": {},
   "outputs": [],
   "source": []
  }
 ],
 "metadata": {
  "kernelspec": {
   "display_name": "Python 3 (ipykernel)",
   "language": "python",
   "name": "python3"
  },
  "language_info": {
   "codemirror_mode": {
    "name": "ipython",
    "version": 3
   },
   "file_extension": ".py",
   "mimetype": "text/x-python",
   "name": "python",
   "nbconvert_exporter": "python",
   "pygments_lexer": "ipython3",
   "version": "3.9.6"
  }
 },
 "nbformat": 4,
 "nbformat_minor": 5
}
