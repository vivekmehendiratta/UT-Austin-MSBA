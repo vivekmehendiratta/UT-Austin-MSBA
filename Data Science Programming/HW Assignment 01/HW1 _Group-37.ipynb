{
 "cells": [
  {
   "cell_type": "markdown",
   "id": "f67e92d8",
   "metadata": {},
   "source": [
    "# Group 37 : Shreya Bhootda, Yash Warty, Vivek Mehendiratta"
   ]
  },
  {
   "cell_type": "markdown",
   "id": "ceaa3b7b",
   "metadata": {},
   "source": [
    "# Q1 - Rock, Paper, Scissors (20 points)"
   ]
  },
  {
   "cell_type": "code",
   "execution_count": 1,
   "id": "f131c044",
   "metadata": {},
   "outputs": [],
   "source": [
    "#importing the required packages\n",
    "import random as random"
   ]
  },
  {
   "cell_type": "code",
   "execution_count": 2,
   "id": "8a69c13d",
   "metadata": {},
   "outputs": [],
   "source": [
    "#creating a function for the computer to capture the past moves the user has made and accordingly modify its outcome\n",
    "def getComputerInput(user_hist): \n",
    "    \"\"\"\n",
    "Returns a string that denotes the computer choice based on consideration of past past plays by the user.\n",
    "    \n",
    "Parameters:\n",
    "    list: A list containing strings of all the past user plays [\"rock\",\"paper\",\"scissor\"]            \n",
    "\n",
    "Returns:\n",
    "    str: string that demonstrates the computer choice in the game for the next play \n",
    "    \"\"\"\n",
    "    \n",
    "    user_r_count = 0\n",
    "    user_p_count = 0\n",
    "    user_s_count = 0\n",
    "# Tracking the choices that user has made during previous rounds\n",
    "    for i in user_hist:\n",
    "        if i == \"rock\":\n",
    "            user_r_count += 1 # rock count\n",
    "        elif i == \"paper\":\n",
    "            user_p_count += 1 # paper count\n",
    "        else:\n",
    "            user_s_count += 1 # scissors count\n",
    " \n",
    " #Setting the computer play such that it can defeat the user in case of repeated similar plays\n",
    "    if user_r_count>user_p_count and user_r_count > user_s_count:\n",
    "        return \"paper\"\n",
    "    elif user_p_count>user_r_count and user_p_count>user_s_count:\n",
    "        return \"scissors\"\n",
    "    else:\n",
    "        return \"rock\""
   ]
  },
  {
   "cell_type": "code",
   "execution_count": null,
   "id": "94c05872",
   "metadata": {},
   "outputs": [
    {
     "name": "stdout",
     "output_type": "stream",
     "text": [
      "Make your choice (Rock, Paper, Scissors or Quit): rock\n",
      "Your choice was rock and the computer selected paper\n",
      "Paper covers the rock! You lose.\n",
      "Make your choice (Rock, Paper, Scissors or Quit): paper\n",
      "Your choice was paper and the computer selected paper\n",
      "Both players selected paper It's a tie!\n",
      "Make your choice (Rock, Paper, Scissors or Quit): scissros\n",
      "That is not a valid choice. Please try again: scissors\n",
      "Your choice was scissors and the computer selected rock\n",
      "Rock smashes scissors! You lose.\n",
      "Make your choice (Rock, Paper, Scissors or Quit): scissors\n",
      "Your choice was scissors and the computer selected rock\n",
      "Rock smashes scissors! You lose.\n",
      "Make your choice (Rock, Paper, Scissors or Quit): scissors\n",
      "Your choice was scissors and the computer selected rock\n",
      "Rock smashes scissors! You lose.\n",
      "Make your choice (Rock, Paper, Scissors or Quit): paper\n",
      "Your choice was paper and the computer selected rock\n",
      "Paper covers rock! You win!\n",
      "Make your choice (Rock, Paper, Scissors or Quit): paper\n",
      "Your choice was paper and the computer selected rock\n",
      "Paper covers rock! You win!\n",
      "Make your choice (Rock, Paper, Scissors or Quit): scissors\n",
      "Your choice was scissors and the computer selected rock\n",
      "Rock smashes scissors! You lose.\n"
     ]
    }
   ],
   "source": [
    "#creating a list of all possible plays\n",
    "all_moves=[\"rock\",\"paper\",\"scissors\",\"quit\"]\n",
    "#setting the universal constants\n",
    "player_wins=0\n",
    "computer_wins=0\n",
    "ties=0\n",
    "user_hist=[]\n",
    "total_games = 0\n",
    "player_input=\"\"\n",
    "index=random.randint(0,2)\n",
    "\n",
    "#creating a loop to run the game in a recurring fashion till the user quits\n",
    "while player_input != \"quit\":\n",
    "    player_input = input(\"Make your choice (Rock, Paper, Scissors or Quit): \")\n",
    "    while player_input not in all_moves:\n",
    "        #error checking the player input\n",
    "        player_input = input(\"That is not a valid choice. Please try again: \").lower()\n",
    "\n",
    "\n",
    "    #for the first play when no history is available, directing the computer to randomly select a move to play.\n",
    "    if user_hist==[]:\n",
    "        computer_select=all_moves[index]\n",
    "    #in all other plays, the computer must consider the user history and then make its move\n",
    "    else:\n",
    "        computer_select=getComputerInput(user_hist)\n",
    "    \n",
    "    if player_input in ['rock', 'paper', 'scissors']:\n",
    "        print(\"Your choice was\", player_input, \"and the computer selected\", computer_select)\n",
    "    else:\n",
    "        print(\"\\nSorry to see you leave !! Have a good day !!\")\n",
    "#     print(\"Your choice was\", player_input, \"and the computer selected\", computer_select)\n",
    "    #Creating the various outcomes of the game and keeping track of them.\n",
    "    if player_input in all_moves:\n",
    "        #summarizing the game when the player chooses to quit\n",
    "        if player_input == 'quit':\n",
    "            print(\"Summary : \")\n",
    "            print(\"\\tTotal games played are:\",total_games)\n",
    "            print(\"\\tComputer won :\",computer_wins)\n",
    "            print(\"\\tPlayer won :\", player_wins)\n",
    "            print(\"\\tGames tied :\", ties)\n",
    "        #if there is a tie\n",
    "        else:\n",
    "            total_games += 1\n",
    "            if player_input == computer_select:\n",
    "                print(\"Both players selected\", computer_select, \"It's a tie!\")\n",
    "                ties+=1\n",
    "            #if the player chooses rock and computer selects scissors\n",
    "            elif player_input == \"rock\":\n",
    "                if computer_select == \"scissors\":\n",
    "                    print(\"Rock breaks scissors! You win!\")\n",
    "                    player_wins+=1\n",
    "                else:\n",
    "                    print(\"Paper covers the rock! You lose.\")\n",
    "                    computer_wins+=1\n",
    "            #if the player chooses paper and the computer selects rock\n",
    "            elif player_input == \"paper\":\n",
    "                if computer_select == \"rock\":\n",
    "                    print(\"Paper covers rock! You win!\")\n",
    "                    player_wins+=1\n",
    "                else:\n",
    "                    print(\"Scissors cut paper! You lose.\")\n",
    "                    computer_wins+=1\n",
    "            #if the player selects scissors and the computer selects paper\n",
    "            elif player_input == \"scissors\":\n",
    "                if computer_select == \"paper\":\n",
    "                    print(\"Scissors cuts paper! You win!\")\n",
    "                    player_wins+=1\n",
    "                else:\n",
    "                    print(\"Rock smashes scissors! You lose.\")\n",
    "                    computer_wins+=1\n",
    "            #adding the player input to the history\n",
    "            user_hist.append(player_input)"
   ]
  },
  {
   "cell_type": "markdown",
   "id": "2a63a40d",
   "metadata": {},
   "source": [
    "# Q2 - Voters in Florida (20 points)"
   ]
  },
  {
   "cell_type": "code",
   "execution_count": null,
   "id": "7c0a1a91",
   "metadata": {},
   "outputs": [],
   "source": [
    "import re as re\n",
    "fp = open(\"FloridaVoters.html\",\"r\")\n",
    "\n",
    "line = fp.read()\n",
    "line = line.replace('\\n','') #replacing spaces and newline\n",
    "line = line.replace('\\t','')\n",
    "pattern_init = '<tr>(.*?)</tr>' #table details are withing the <tr></tr> tag\n",
    "table = re.findall(pattern_init, line)\n",
    "data_list= []\n",
    "for i in table:\n",
    "   \n",
    "    attr_pattern = '<td>(.*?)</td>' #single county details are within <td></td>\n",
    "    i = i.replace(',','') #removing ',' from the count attributes\n",
    "    table_attr = re.findall(attr_pattern, i)\n",
    "    data_list.append(table_attr) #creating list of list for each county\n",
    "\n",
    "data_list.pop(0) #removing first element containing table headers\n",
    "data_list.pop(len(data_list)-1) #removing last element containing table totals\n",
    "\n",
    "#create tuple with relevant data, so that it could be sorted\n",
    "list_tup =[]\n",
    "for i in data_list:\n",
    "    tup = (i[0],int(i[1]),int(i[2])) #adding only the democrat and republic count\n",
    "    list_tup.append(tup)\n",
    "\n",
    "def Sort_Tuple(tup):\n",
    "    return(sorted(tup, key = lambda x: x[2])) #sorting the list of tuple based on the number of democrats"
   ]
  },
  {
   "cell_type": "code",
   "execution_count": null,
   "id": "07a8dd3b",
   "metadata": {},
   "outputs": [],
   "source": [
    "list_tup = Sort_Tuple(list_tup)\n",
    "for i in list_tup:\n",
    "    print(i[0]+' '+str(i[1])+' '+str(i[2]))"
   ]
  },
  {
   "cell_type": "markdown",
   "id": "c4260d77",
   "metadata": {},
   "source": [
    "# Q3 - Near-duplicate detection (20 points)"
   ]
  },
  {
   "cell_type": "markdown",
   "id": "23247e28",
   "metadata": {},
   "source": [
    "### Library imports"
   ]
  },
  {
   "cell_type": "code",
   "execution_count": null,
   "id": "4a8fbe65",
   "metadata": {},
   "outputs": [],
   "source": [
    "import re\n",
    "from math import sqrt\n",
    "from IPython.display import Image, display\n",
    "\n",
    "green = '\\033[92m'\n",
    "red = '\\033[91m'\n",
    "black = '\\033[30m'\n",
    "bold = '\\033[1m'\n",
    "normal = '\\033[0m'"
   ]
  },
  {
   "cell_type": "markdown",
   "id": "50f2754b",
   "metadata": {},
   "source": [
    "### Optional but Recommended"
   ]
  },
  {
   "cell_type": "code",
   "execution_count": null,
   "id": "81c0d5fc",
   "metadata": {},
   "outputs": [],
   "source": [
    "def gifOpen():\n",
    "    \"\"\"\n",
    "    The function to run animation in the window.\n",
    "    Runs the animation within the output window.\n",
    "    \"\"\"\n",
    "    similar_url = 'https://media.giphy.com/media/l36kU80xPf0ojG0Erg/giphy.gif'\n",
    "    img = Image(similar_url, width = 250)\n",
    "    display(img)\n",
    "    return"
   ]
  },
  {
   "cell_type": "markdown",
   "id": "64b1d585",
   "metadata": {},
   "source": [
    "## Part A : Convert each tweet into a dictionary of phrases (6 points)."
   ]
  },
  {
   "cell_type": "code",
   "execution_count": null,
   "id": "487303ab",
   "metadata": {},
   "outputs": [],
   "source": [
    "def movingWindow(tweet):\n",
    "    \"\"\"\n",
    "    Function that takes as input a tweet\n",
    "    and converts it into a bunch of phrases.\n",
    "    \n",
    "    Parameters:\n",
    "        tweet : string\n",
    "          \n",
    "    Returns:\n",
    "        inner_dict : dictionary of phrases\n",
    "    \"\"\"\n",
    "    inner_dict = {}\n",
    "    ll = tweet.split()\n",
    "    for j in range(len(ll)):\n",
    "        if len(ll) - j < 3:\n",
    "            continue\n",
    "        n_s = ' '.join(ll[j:j+3])\n",
    "        inner_dict[n_s] = 1\n",
    "    return inner_dict"
   ]
  },
  {
   "cell_type": "markdown",
   "id": "41b75e9b",
   "metadata": {},
   "source": [
    "## Part B : Calculate similarity between two tweets (6 points)"
   ]
  },
  {
   "cell_type": "code",
   "execution_count": null,
   "id": "7c929eb1",
   "metadata": {},
   "outputs": [],
   "source": [
    "def cosSim(t1, t2):\n",
    "    \"\"\"\n",
    "    Function to check if one tweet is a near-duplicate\n",
    "    of another, \n",
    "    \n",
    "    Parameters:\n",
    "        tweet : string\n",
    "          \n",
    "    Returns:\n",
    "        cos : float\n",
    "    \"\"\"\n",
    "    \n",
    "    n1 = len(t1)\n",
    "    n2 = len(t2)\n",
    "    matches = len(set(t1.keys()).intersection(set(t2.keys())))\n",
    "    \n",
    "    cos = matches / (sqrt(n1*n2))\n",
    "    return cos"
   ]
  },
  {
   "cell_type": "markdown",
   "id": "70028166",
   "metadata": {},
   "source": [
    "## Part C : Read in tweets, and output near-duplicates (8 points)"
   ]
  },
  {
   "cell_type": "code",
   "execution_count": null,
   "id": "30b74e40",
   "metadata": {},
   "outputs": [],
   "source": [
    "# Reading file\n",
    "santa = open(\"santa.txt\",\"r\")\n",
    "santa = santa.read()\n",
    "\n",
    "# Striping New line and splitting it into the list\n",
    "santa_tweets = santa.strip('\\n').split('\\n')"
   ]
  },
  {
   "cell_type": "code",
   "execution_count": null,
   "id": "c61edce4",
   "metadata": {},
   "outputs": [],
   "source": [
    "# First line of tweet is considered as the latest tweet \n",
    "# Last line of the tweet is considered as the first tweet\n",
    "show = True\n",
    "for i in range(len(santa_tweets)):\n",
    "    t1 = santa_tweets[i]\n",
    "    print(f\"{bold}{black}Current Tweet : {normal}{black}{t1}\\n\")\n",
    "    for j in range(i+1, len(santa_tweets)):\n",
    "        t2 = santa_tweets[j]\n",
    "        print(f\"\\t{bold}{black}Previous Tweet : {normal}{black}{t2}\")\n",
    "        cos_score = round(cosSim(movingWindow(t1), movingWindow(t2)),3)\n",
    "        \n",
    "        if cos_score > 0.5:\n",
    "            print(f\"\\t{bold}{green}Near-duplicate {black}with cosine Similarity  score {bold}{red}{cos_score}\\n\")\n",
    "            \n",
    "            try:\n",
    "                if show:\n",
    "                    gifOpen()\n",
    "                    show = False\n",
    "            except Exception as e:\n",
    "                pass\n",
    "        print()\n",
    "    if i==len(santa_tweets)-1:\n",
    "        print(f\"{bold}{red}\\tAbove tweet is the first tweet, no more previous tweets\")"
   ]
  },
  {
   "cell_type": "markdown",
   "id": "52b40219",
   "metadata": {},
   "source": [
    "# Q4 -  The Google of Quotes (40 points)"
   ]
  },
  {
   "cell_type": "markdown",
   "id": "eb54dbc6",
   "metadata": {},
   "source": [
    "## Library imports"
   ]
  },
  {
   "cell_type": "code",
   "execution_count": null,
   "id": "8eeba874",
   "metadata": {},
   "outputs": [],
   "source": [
    "import re\n",
    "import pandas as pd\n",
    "from operator import itemgetter\n",
    "import math"
   ]
  },
  {
   "cell_type": "markdown",
   "id": "5ffe525f",
   "metadata": {},
   "source": [
    "## Part A : Build a list of full quotes (5 points)"
   ]
  },
  {
   "cell_type": "code",
   "execution_count": null,
   "id": "68823132",
   "metadata": {},
   "outputs": [],
   "source": [
    "# Reading file\n",
    "quotes = open(\"quotes.txt\",\"r\")\n",
    "quotes = quotes.read()\n",
    "\n",
    "# Striping New line and splitting it into the list\n",
    "quotes = quotes.strip('\\n').split('\\n')\n",
    "\n",
    "# print(quotes)\n",
    "\n",
    "quotes_speaker_list = []\n",
    "for i in range(0, len(quotes), 2):\n",
    "    quotes_speaker_list.append(' - '.join([quotes[i], quotes[i+1]]))"
   ]
  },
  {
   "cell_type": "markdown",
   "id": "87a0f93e",
   "metadata": {},
   "source": [
    "## Part B : Words from full quotes (5 points)"
   ]
  },
  {
   "cell_type": "code",
   "execution_count": null,
   "id": "0f0b4519",
   "metadata": {},
   "outputs": [],
   "source": [
    "def wrangle(s):\n",
    "    \"\"\"\n",
    "The function to remove punctuations from a string.\n",
    "  \n",
    "Parameters:\n",
    "    str : unwrangled string\n",
    "\n",
    "Returns:\n",
    "    str : cleaned and wrangled string\n",
    "    \"\"\"\n",
    "    s = re.sub(r'[^\\w\\s]+', '', s)\n",
    "#     s = re.sub(r'[\\.]{2,}', ' ', s)\n",
    "    s = re.sub(r'[\\s]+', ' ', s)\n",
    "    s = s.lower()\n",
    "    return s\n",
    "\n",
    "quotes_wrangled_list = []\n",
    "\n",
    "for quote in quotes_speaker_list:\n",
    "    quotes_wrangled_list.append(wrangle(quote).split())"
   ]
  },
  {
   "cell_type": "markdown",
   "id": "754c746f",
   "metadata": {},
   "source": [
    "## Part C : Build the postings-list dictionary (6 points)"
   ]
  },
  {
   "cell_type": "code",
   "execution_count": null,
   "id": "f30be735",
   "metadata": {},
   "outputs": [],
   "source": [
    "def createPostingDictionary(quote):\n",
    "    \"\"\"\n",
    "Creats a dictionary whose keys are full words, \n",
    "and whose values are the times the word occurs\n",
    "in the full quote.\n",
    "\n",
    "Parameters:\n",
    "    str : quote\n",
    "\n",
    "Returns:\n",
    "    dict : dictionary of counts \n",
    "    \"\"\"\n",
    "    \n",
    "    d = {}\n",
    "    for q in set(quote):\n",
    "        d[q] = quote.count(q)\n",
    "    return d"
   ]
  },
  {
   "cell_type": "code",
   "execution_count": null,
   "id": "44097f2a",
   "metadata": {},
   "outputs": [],
   "source": [
    "posting_list_dict = {}\n",
    "for i in range(len(quotes_speaker_list)):\n",
    "    quote = quotes_speaker_list[i]\n",
    "    posting_list_dict[quote] = createPostingDictionary(quotes_wrangled_list[i])"
   ]
  },
  {
   "cell_type": "markdown",
   "id": "1e98bfe2",
   "metadata": {},
   "source": [
    "## Part D : Build the reverse postings-list dictionary (6 points)"
   ]
  },
  {
   "cell_type": "code",
   "execution_count": null,
   "id": "3b772967",
   "metadata": {},
   "outputs": [],
   "source": [
    "flat_word_set = set([item for sublist in quotes_wrangled_list for item in sublist])"
   ]
  },
  {
   "cell_type": "code",
   "execution_count": null,
   "id": "54c2e4c9",
   "metadata": {},
   "outputs": [],
   "source": [
    "reverse_posting_list_dict = {}\n",
    "for word in flat_word_set:\n",
    "    inner_dict = {}\n",
    "    \n",
    "    for quote in quotes_speaker_list:\n",
    "        if posting_list_dict.get(quote).get(word) is not None:\n",
    "            inner_dict[quote] = posting_list_dict.get(quote).get(word)\n",
    "    reverse_posting_list_dict[word] = inner_dict"
   ]
  },
  {
   "cell_type": "code",
   "execution_count": null,
   "id": "61ed92a3",
   "metadata": {},
   "outputs": [],
   "source": [
    "reverse_posting_list_dict.get('entertainer')"
   ]
  },
  {
   "cell_type": "markdown",
   "id": "40ed8a5f",
   "metadata": {},
   "source": [
    "## Part E : Write a TF-IDF function (8 points)"
   ]
  },
  {
   "cell_type": "code",
   "execution_count": null,
   "id": "79003485",
   "metadata": {},
   "outputs": [],
   "source": [
    "def calculateTFIDF(quote, word):\n",
    "    \"\"\"\n",
    "The function to measure how much a full\n",
    "quote is about a particular word, \n",
    "one typically uses the TF-IDF measure.\n",
    "\n",
    "Parameters:\n",
    "    str : quote against which the tfidf score to be measured\n",
    "    str : the word for which tfidf score needs to be measured\n",
    "\n",
    "Returns:\n",
    "    float : tfidf score of the word against quote\n",
    "    \"\"\"\n",
    "    \n",
    "    \n",
    "    # Calculating TF\n",
    "    tf = 0\n",
    "    word_dict = posting_list_dict.get(quote)\n",
    "    max_word_count = max(word_dict.items(), key=itemgetter(1))[1]\n",
    "    word_count = word_dict.get(word)\n",
    "    \n",
    "    if word_count is not None:\n",
    "        tf = word_count / max_word_count\n",
    "    \n",
    "    # Calculating IDF\n",
    "#     quote_count = len(quote_dict)\n",
    "    quote_count = len(reverse_posting_list_dict.get(word))\n",
    "    \n",
    "    idf = math.log(886/quote_count)\n",
    "    \n",
    "    return round(tf*idf,3)"
   ]
  },
  {
   "cell_type": "markdown",
   "id": "7cfb6f58",
   "metadata": {},
   "source": [
    "# Part F : Quote search using a single word (5 points)"
   ]
  },
  {
   "cell_type": "code",
   "execution_count": null,
   "id": "5946ae0a",
   "metadata": {},
   "outputs": [],
   "source": [
    "def searchTFIDF(word):\n",
    "    \"\"\"\n",
    "Function that takes a word as argument, and returns \n",
    "a dictionary whose keys are full quotes containing that \n",
    "word, and whose values are the TF-IDF score of that\n",
    "word for that full quote.\n",
    "\n",
    "Parameters:\n",
    "    str : the word for which tfidf score needs to be searched\n",
    "\n",
    "Returns:\n",
    "    dict : dictionary quotes and tfidf scores where the word is present\n",
    "    \"\"\"\n",
    "    \n",
    "    \n",
    "    quote_dict = reverse_posting_list_dict.get(word)\n",
    "    \n",
    "    tfidf_dict = {}\n",
    "    for quote in quote_dict.keys():\n",
    "        tfidf_dict[quote] = calculateTFIDF(quote, word)\n",
    "    return tfidf_dict"
   ]
  },
  {
   "cell_type": "code",
   "execution_count": null,
   "id": "48d64649",
   "metadata": {},
   "outputs": [],
   "source": [
    "searchTFIDF('unfortunately')"
   ]
  },
  {
   "cell_type": "markdown",
   "id": "a4141ad4",
   "metadata": {},
   "source": [
    "## Part G : Quote search using multiple words (5 points)"
   ]
  },
  {
   "cell_type": "code",
   "execution_count": null,
   "id": "5bd9d513",
   "metadata": {},
   "outputs": [],
   "source": [
    "def searchTFIDFMulti(words):\n",
    "    \"\"\"\n",
    "    A function that takes a list of words as argument, \n",
    "    and returns a dictionary whose keys are full quotes \n",
    "    containing one or more of the words in that list, \n",
    "    and whose values are the sum of TF-IDF scores of \n",
    "    the words in that list for that full quote\n",
    "\n",
    "    Parameters:\n",
    "        list : list of words\n",
    "          \n",
    "    Returns:\n",
    "        dict : dictionary of quotes and their tfidf scores where all words are present in full quote.\n",
    "    \"\"\"\n",
    "    \n",
    "    tfidf_multi = {}\n",
    "    for word in words:\n",
    "        tfidf_dict = searchTFIDF(word)\n",
    "        tfidf_multi = {\n",
    "                        **tfidf_multi,\n",
    "                        **{ k:(tfidf_multi[k]+v if k in tfidf_multi else v)\n",
    "                        for k,v in tfidf_dict.items() }\n",
    "                    }\n",
    "    return tfidf_multi\n",
    "    "
   ]
  },
  {
   "cell_type": "code",
   "execution_count": null,
   "id": "2d62e2d5",
   "metadata": {},
   "outputs": [],
   "source": [
    "searchTFIDFMulti(['heart', 'mind', 'disease'])"
   ]
  },
  {
   "cell_type": "code",
   "execution_count": null,
   "id": "0f7ed9b0",
   "metadata": {},
   "outputs": [],
   "source": []
  }
 ],
 "metadata": {
  "kernelspec": {
   "display_name": "Python 3 (ipykernel)",
   "language": "python",
   "name": "python3"
  },
  "language_info": {
   "codemirror_mode": {
    "name": "ipython",
    "version": 3
   },
   "file_extension": ".py",
   "mimetype": "text/x-python",
   "name": "python",
   "nbconvert_exporter": "python",
   "pygments_lexer": "ipython3",
   "version": "3.9.6"
  }
 },
 "nbformat": 4,
 "nbformat_minor": 5
}
