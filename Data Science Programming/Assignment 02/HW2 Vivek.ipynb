{
 "cells": [
  {
   "cell_type": "markdown",
   "id": "f8c4a34f",
   "metadata": {},
   "source": [
    "# Library Imports"
   ]
  },
  {
   "cell_type": "code",
   "execution_count": 1,
   "id": "3d496bbc",
   "metadata": {},
   "outputs": [],
   "source": [
    "import pandas as pd"
   ]
  },
  {
   "cell_type": "code",
   "execution_count": 2,
   "id": "707b6872",
   "metadata": {},
   "outputs": [],
   "source": [
    "dfv = pd.read_csv(\"NYC_Restaurants.csv\", dtype=str, index_col = 0)"
   ]
  },
  {
   "cell_type": "code",
   "execution_count": 3,
   "id": "3675c9ce",
   "metadata": {},
   "outputs": [
    {
     "data": {
      "text/plain": [
       "(44633, 18)"
      ]
     },
     "execution_count": 3,
     "metadata": {},
     "output_type": "execute_result"
    }
   ],
   "source": [
    "dfv.shape"
   ]
  },
  {
   "cell_type": "code",
   "execution_count": 4,
   "id": "f3ce1d13",
   "metadata": {},
   "outputs": [
    {
     "data": {
      "text/plain": [
       "Index(['CAMIS', 'DBA', 'BORO', 'BUILDING', 'STREET', 'ZIPCODE', 'PHONE',\n",
       "       'CUISINE DESCRIPTION', 'INSPECTION DATE', 'ACTION', 'VIOLATION CODE',\n",
       "       'VIOLATION DESCRIPTION', 'CRITICAL FLAG', 'SCORE', 'GRADE',\n",
       "       'GRADE DATE', 'RECORD DATE', 'INSPECTION TYPE'],\n",
       "      dtype='object')"
      ]
     },
     "execution_count": 4,
     "metadata": {},
     "output_type": "execute_result"
    }
   ],
   "source": [
    "dfv.columns"
   ]
  },
  {
   "cell_type": "code",
   "execution_count": 5,
   "id": "8ae50b83",
   "metadata": {},
   "outputs": [
    {
     "data": {
      "text/html": [
       "<div>\n",
       "<style scoped>\n",
       "    .dataframe tbody tr th:only-of-type {\n",
       "        vertical-align: middle;\n",
       "    }\n",
       "\n",
       "    .dataframe tbody tr th {\n",
       "        vertical-align: top;\n",
       "    }\n",
       "\n",
       "    .dataframe thead th {\n",
       "        text-align: right;\n",
       "    }\n",
       "</style>\n",
       "<table border=\"1\" class=\"dataframe\">\n",
       "  <thead>\n",
       "    <tr style=\"text-align: right;\">\n",
       "      <th></th>\n",
       "      <th>CAMIS</th>\n",
       "      <th>DBA</th>\n",
       "      <th>BORO</th>\n",
       "      <th>BUILDING</th>\n",
       "      <th>STREET</th>\n",
       "      <th>ZIPCODE</th>\n",
       "      <th>PHONE</th>\n",
       "      <th>CUISINE DESCRIPTION</th>\n",
       "      <th>INSPECTION DATE</th>\n",
       "      <th>ACTION</th>\n",
       "      <th>VIOLATION CODE</th>\n",
       "      <th>VIOLATION DESCRIPTION</th>\n",
       "      <th>CRITICAL FLAG</th>\n",
       "      <th>SCORE</th>\n",
       "      <th>GRADE</th>\n",
       "      <th>GRADE DATE</th>\n",
       "      <th>RECORD DATE</th>\n",
       "      <th>INSPECTION TYPE</th>\n",
       "    </tr>\n",
       "  </thead>\n",
       "  <tbody>\n",
       "    <tr>\n",
       "      <th>0</th>\n",
       "      <td>30112340</td>\n",
       "      <td>WENDY'S</td>\n",
       "      <td>BROOKLYN</td>\n",
       "      <td>469</td>\n",
       "      <td>FLATBUSH AVENUE</td>\n",
       "      <td>11225</td>\n",
       "      <td>7182875005</td>\n",
       "      <td>Hamburgers</td>\n",
       "      <td>12/30/2014</td>\n",
       "      <td>Violations were cited in the following area(s).</td>\n",
       "      <td>06C</td>\n",
       "      <td>Food not protected from potential source of co...</td>\n",
       "      <td>Critical</td>\n",
       "      <td>8</td>\n",
       "      <td>A</td>\n",
       "      <td>12/30/2014</td>\n",
       "      <td>02/12/2015</td>\n",
       "      <td>Cycle Inspection / Re-inspection</td>\n",
       "    </tr>\n",
       "    <tr>\n",
       "      <th>1</th>\n",
       "      <td>30112340</td>\n",
       "      <td>WENDY'S</td>\n",
       "      <td>BROOKLYN</td>\n",
       "      <td>469</td>\n",
       "      <td>FLATBUSH AVENUE</td>\n",
       "      <td>11225</td>\n",
       "      <td>7182875005</td>\n",
       "      <td>Hamburgers</td>\n",
       "      <td>12/30/2014</td>\n",
       "      <td>Violations were cited in the following area(s).</td>\n",
       "      <td>10F</td>\n",
       "      <td>Non-food contact surface improperly constructe...</td>\n",
       "      <td>Not Critical</td>\n",
       "      <td>8</td>\n",
       "      <td>A</td>\n",
       "      <td>12/30/2014</td>\n",
       "      <td>02/12/2015</td>\n",
       "      <td>Cycle Inspection / Re-inspection</td>\n",
       "    </tr>\n",
       "    <tr>\n",
       "      <th>2</th>\n",
       "      <td>30112340</td>\n",
       "      <td>WENDY'S</td>\n",
       "      <td>BROOKLYN</td>\n",
       "      <td>469</td>\n",
       "      <td>FLATBUSH AVENUE</td>\n",
       "      <td>11225</td>\n",
       "      <td>7182875005</td>\n",
       "      <td>Hamburgers</td>\n",
       "      <td>11/13/2014</td>\n",
       "      <td>Violations were cited in the following area(s).</td>\n",
       "      <td>04H</td>\n",
       "      <td>Raw, cooked or prepared food is adulterated, c...</td>\n",
       "      <td>Critical</td>\n",
       "      <td>16</td>\n",
       "      <td>NaN</td>\n",
       "      <td>NaN</td>\n",
       "      <td>02/12/2015</td>\n",
       "      <td>Cycle Inspection / Initial Inspection</td>\n",
       "    </tr>\n",
       "    <tr>\n",
       "      <th>3</th>\n",
       "      <td>30112340</td>\n",
       "      <td>WENDY'S</td>\n",
       "      <td>BROOKLYN</td>\n",
       "      <td>469</td>\n",
       "      <td>FLATBUSH AVENUE</td>\n",
       "      <td>11225</td>\n",
       "      <td>7182875005</td>\n",
       "      <td>Hamburgers</td>\n",
       "      <td>11/13/2014</td>\n",
       "      <td>Violations were cited in the following area(s).</td>\n",
       "      <td>06A</td>\n",
       "      <td>Personal cleanliness inadequate. Outer garment...</td>\n",
       "      <td>Critical</td>\n",
       "      <td>16</td>\n",
       "      <td>NaN</td>\n",
       "      <td>NaN</td>\n",
       "      <td>02/12/2015</td>\n",
       "      <td>Cycle Inspection / Initial Inspection</td>\n",
       "    </tr>\n",
       "    <tr>\n",
       "      <th>4</th>\n",
       "      <td>30112340</td>\n",
       "      <td>WENDY'S</td>\n",
       "      <td>BROOKLYN</td>\n",
       "      <td>469</td>\n",
       "      <td>FLATBUSH AVENUE</td>\n",
       "      <td>11225</td>\n",
       "      <td>7182875005</td>\n",
       "      <td>Hamburgers</td>\n",
       "      <td>11/13/2014</td>\n",
       "      <td>Violations were cited in the following area(s).</td>\n",
       "      <td>10F</td>\n",
       "      <td>Non-food contact surface improperly constructe...</td>\n",
       "      <td>Not Critical</td>\n",
       "      <td>16</td>\n",
       "      <td>NaN</td>\n",
       "      <td>NaN</td>\n",
       "      <td>02/12/2015</td>\n",
       "      <td>Cycle Inspection / Initial Inspection</td>\n",
       "    </tr>\n",
       "  </tbody>\n",
       "</table>\n",
       "</div>"
      ],
      "text/plain": [
       "      CAMIS      DBA      BORO BUILDING           STREET ZIPCODE       PHONE  \\\n",
       "0  30112340  WENDY'S  BROOKLYN      469  FLATBUSH AVENUE   11225  7182875005   \n",
       "1  30112340  WENDY'S  BROOKLYN      469  FLATBUSH AVENUE   11225  7182875005   \n",
       "2  30112340  WENDY'S  BROOKLYN      469  FLATBUSH AVENUE   11225  7182875005   \n",
       "3  30112340  WENDY'S  BROOKLYN      469  FLATBUSH AVENUE   11225  7182875005   \n",
       "4  30112340  WENDY'S  BROOKLYN      469  FLATBUSH AVENUE   11225  7182875005   \n",
       "\n",
       "  CUISINE DESCRIPTION INSPECTION DATE  \\\n",
       "0          Hamburgers      12/30/2014   \n",
       "1          Hamburgers      12/30/2014   \n",
       "2          Hamburgers      11/13/2014   \n",
       "3          Hamburgers      11/13/2014   \n",
       "4          Hamburgers      11/13/2014   \n",
       "\n",
       "                                            ACTION VIOLATION CODE  \\\n",
       "0  Violations were cited in the following area(s).            06C   \n",
       "1  Violations were cited in the following area(s).            10F   \n",
       "2  Violations were cited in the following area(s).            04H   \n",
       "3  Violations were cited in the following area(s).            06A   \n",
       "4  Violations were cited in the following area(s).            10F   \n",
       "\n",
       "                               VIOLATION DESCRIPTION CRITICAL FLAG SCORE  \\\n",
       "0  Food not protected from potential source of co...      Critical     8   \n",
       "1  Non-food contact surface improperly constructe...  Not Critical     8   \n",
       "2  Raw, cooked or prepared food is adulterated, c...      Critical    16   \n",
       "3  Personal cleanliness inadequate. Outer garment...      Critical    16   \n",
       "4  Non-food contact surface improperly constructe...  Not Critical    16   \n",
       "\n",
       "  GRADE  GRADE DATE RECORD DATE                        INSPECTION TYPE  \n",
       "0     A  12/30/2014  02/12/2015       Cycle Inspection / Re-inspection  \n",
       "1     A  12/30/2014  02/12/2015       Cycle Inspection / Re-inspection  \n",
       "2   NaN         NaN  02/12/2015  Cycle Inspection / Initial Inspection  \n",
       "3   NaN         NaN  02/12/2015  Cycle Inspection / Initial Inspection  \n",
       "4   NaN         NaN  02/12/2015  Cycle Inspection / Initial Inspection  "
      ]
     },
     "execution_count": 5,
     "metadata": {},
     "output_type": "execute_result"
    }
   ],
   "source": [
    "dfv.head()"
   ]
  },
  {
   "cell_type": "markdown",
   "id": "28853283",
   "metadata": {},
   "source": [
    "# [Q1, 6 points] Create a unique name for each restaurant. \n",
    "\n",
    "On theDataFrame created above, add a new column to your DataFrame, called *RESTAURANT*, that combines \n",
    "**DBA, BUILDING, STREET, ZIPCODE, BORO** fields. \n",
    "\n",
    "For example, “WENDY’S 469 FLATBUSH AVENUE 11225 BROOKLYN”. \n",
    "\n",
    "Print the first 10 values of the RESTAURANT column of your DataFrame."
   ]
  },
  {
   "cell_type": "code",
   "execution_count": 6,
   "id": "d0be66bc",
   "metadata": {},
   "outputs": [],
   "source": [
    "dfv[\"RESTAURANT\"] = (dfv[\"DBA\"] + \" \" + \n",
    "                     dfv[\"BUILDING\"] + \" \" + \n",
    "                     dfv[\"STREET\"] + \" \" +\n",
    "                     dfv[\"ZIPCODE\"] + \" \" + \n",
    "                     dfv[\"BORO\"])"
   ]
  },
  {
   "cell_type": "code",
   "execution_count": 7,
   "id": "1633b73e",
   "metadata": {},
   "outputs": [
    {
     "data": {
      "text/plain": [
       "0           WENDY'S 469 FLATBUSH AVENUE 11225 BROOKLYN\n",
       "1           WENDY'S 469 FLATBUSH AVENUE 11225 BROOKLYN\n",
       "2           WENDY'S 469 FLATBUSH AVENUE 11225 BROOKLYN\n",
       "3           WENDY'S 469 FLATBUSH AVENUE 11225 BROOKLYN\n",
       "4           WENDY'S 469 FLATBUSH AVENUE 11225 BROOKLYN\n",
       "5        TOV KOSHER KITCHEN 97-22 63 ROAD 11374 QUEENS\n",
       "6        TOV KOSHER KITCHEN 97-22 63 ROAD 11374 QUEENS\n",
       "7        TOV KOSHER KITCHEN 97-22 63 ROAD 11374 QUEENS\n",
       "8        TOV KOSHER KITCHEN 97-22 63 ROAD 11374 QUEENS\n",
       "9    BRUNOS ON THE BOULEVARD 8825 ASTORIA BOULEVARD...\n",
       "Name: RESTAURANT, dtype: object"
      ]
     },
     "execution_count": 7,
     "metadata": {},
     "output_type": "execute_result"
    }
   ],
   "source": [
    "dfv[\"RESTAURANT\"].head(10)"
   ]
  },
  {
   "cell_type": "markdown",
   "id": "79d3a1f7",
   "metadata": {},
   "source": [
    "# [Q2, 6 points] How many restaurants are included in the data?\n",
    "\n",
    "- A “Subway” in one particular address (i.e., building, street, zipcode, and boro) counts as one restaurant; don’t combine all Subways into one restaurant!\n",
    "- The data can have multiple violations for the same restaurant!"
   ]
  },
  {
   "cell_type": "code",
   "execution_count": 8,
   "id": "b57cf4a7",
   "metadata": {},
   "outputs": [
    {
     "data": {
      "text/plain": [
       "10114"
      ]
     },
     "execution_count": 8,
     "metadata": {},
     "output_type": "execute_result"
    }
   ],
   "source": [
    "unique_res = dfv.drop_duplicates(subset = [\"RESTAURANT\"])\n",
    "unique_res.shape[0]"
   ]
  },
  {
   "cell_type": "markdown",
   "id": "314310a9",
   "metadata": {},
   "source": [
    "# [Q3, 6 points] How many chains are there? \n",
    "\n",
    "Let us define a chain to be the same restaurant name occurring in at least two different (building, street, zipcode, boro) addresses (i.e., one DBA with multiple restaurant locations)\n",
    "\n",
    "You’ll see multiple versions of the name ”DUNKIN DONUTS”. Just act as if they are different chains"
   ]
  },
  {
   "cell_type": "code",
   "execution_count": 9,
   "id": "f7d7935d",
   "metadata": {},
   "outputs": [
    {
     "data": {
      "text/plain": [
       "368"
      ]
     },
     "execution_count": 9,
     "metadata": {},
     "output_type": "execute_result"
    }
   ],
   "source": [
    "(unique_res[\"DBA\"].value_counts() > 1).sum()"
   ]
  },
  {
   "cell_type": "markdown",
   "id": "2e310f74",
   "metadata": {},
   "source": [
    "# [Q4, 6 points] Plot a bar graph of the top 20 most popular chains.\n",
    "\n",
    "We already have the chains from the previous problem. \n",
    "\n",
    "Count the number of restaurants for each chain as a measure of its popularity"
   ]
  },
  {
   "cell_type": "code",
   "execution_count": 10,
   "id": "a46f004b",
   "metadata": {},
   "outputs": [
    {
     "data": {
      "text/plain": [
       "<AxesSubplot:>"
      ]
     },
     "execution_count": 10,
     "metadata": {},
     "output_type": "execute_result"
    },
    {
     "data": {
      "image/png": "[encoded data removed]",
      "text/plain": [
       "<Figure size 432x288 with 1 Axes>"
      ]
     },
     "metadata": {
      "needs_background": "light"
     },
     "output_type": "display_data"
    }
   ],
   "source": [
    "unique_res[\"DBA\"].value_counts()[:20].plot(kind = \"bar\")"
   ]
  },
  {
   "cell_type": "markdown",
   "id": "5f7f37ea",
   "metadata": {},
   "source": [
    "# [Q5, 6 points] What fraction of all restaurants are chain restaurants? \n",
    "\n",
    "You should think of a restaurant as being one restaurant at one location. \n",
    "So “Wendy’s 5th Street” and “Wendy’s on 10th Street” are two different restaurants. Essentially a restaurant is what you defined in Q1."
   ]
  },
  {
   "cell_type": "code",
   "execution_count": 11,
   "id": "1954d17b",
   "metadata": {},
   "outputs": [
    {
     "data": {
      "text/plain": [
       "0.16472216729286138"
      ]
     },
     "execution_count": 11,
     "metadata": {},
     "output_type": "execute_result"
    }
   ],
   "source": [
    "a = (unique_res[\"DBA\"].value_counts() > 1)\n",
    "res = a[a].index.values\n",
    "unique_res[unique_res[\"DBA\"].isin(res)][\"DBA\"].value_counts().sum() / len(dfv[\"RESTAURANT\"].value_counts())"
   ]
  },
  {
   "cell_type": "markdown",
   "id": "01419b3f",
   "metadata": {},
   "source": [
    "# [Q6, 6 points] Plot the number of non-chain restaurants in each boro. \n",
    "\n",
    "First, we need to figure out all the non-chain restaurants, then select out only those restaurants, and finally plot the number of such restaurants\n",
    "by boro. \n",
    "Make sure to look at the plot; we don’t want to see... oh... the “missing” boro."
   ]
  },
  {
   "cell_type": "code",
   "execution_count": 12,
   "id": "97182a7c",
   "metadata": {},
   "outputs": [],
   "source": [
    "non_chains = (unique_res[\"DBA\"].value_counts() > 1) == False\n",
    "non_chains = non_chains[non_chains].index.values"
   ]
  },
  {
   "cell_type": "code",
   "execution_count": 13,
   "id": "ce160e7e",
   "metadata": {},
   "outputs": [
    {
     "data": {
      "text/plain": [
       "<AxesSubplot:>"
      ]
     },
     "execution_count": 13,
     "metadata": {},
     "output_type": "execute_result"
    },
    {
     "data": {
      "image/png": "[encoded data removed]",
      "text/plain": [
       "<Figure size 432x288 with 1 Axes>"
      ]
     },
     "metadata": {
      "needs_background": "light"
     },
     "output_type": "display_data"
    }
   ],
   "source": [
    "unique_res[(unique_res[\"DBA\"].isin(non_chains)) & (unique_res[\"BORO\"]!=\"Missing\")][\"BORO\"].value_counts().plot(kind=\"bar\")"
   ]
  },
  {
   "cell_type": "markdown",
   "id": "3844e886",
   "metadata": {},
   "source": [
    "# [Q7, 8 points] Plot the fraction of non-chain restaurants in each boro. \n",
    "\n",
    "The boro with the most non-chain restaurants might just be the boro with the most restaurants in general. \n",
    "\n",
    "If we want to find the boro that attracts the most “independent” restauranteurs, we must divide the number of non-chain restaurants by the total number of restaurants in the boro. Plot this.\n",
    "\n",
    "Is the boro with the most independent restaurants also the one with the highest ratio of independent restaurants"
   ]
  },
  {
   "cell_type": "code",
   "execution_count": 14,
   "id": "942c4023",
   "metadata": {},
   "outputs": [],
   "source": [
    "all_res = unique_res[unique_res[\"BORO\"] != \"Missing\"][\"BORO\"].value_counts()\n",
    "non_chain_res = unique_res[(unique_res[\"DBA\"].isin(non_chains)) & (unique_res[\"BORO\"]!=\"Missing\")][\"BORO\"].value_counts()"
   ]
  },
  {
   "cell_type": "code",
   "execution_count": 15,
   "id": "7a3bac89",
   "metadata": {},
   "outputs": [
    {
     "data": {
      "text/plain": [
       "MANHATTAN        0.830542\n",
       "BROOKLYN         0.862001\n",
       "QUEENS           0.847910\n",
       "BRONX            0.770760\n",
       "STATEN ISLAND    0.791878\n",
       "Name: BORO, dtype: float64"
      ]
     },
     "execution_count": 15,
     "metadata": {},
     "output_type": "execute_result"
    }
   ],
   "source": [
    "non_chain_res / all_res"
   ]
  },
  {
   "cell_type": "code",
   "execution_count": 34,
   "id": "379cd833",
   "metadata": {},
   "outputs": [
    {
     "data": {
      "text/plain": [
       "<AxesSubplot:>"
      ]
     },
     "execution_count": 34,
     "metadata": {},
     "output_type": "execute_result"
    },
    {
     "data": {
      "image/png": "[encoded data removed]",
      "text/plain": [
       "<Figure size 432x288 with 1 Axes>"
      ]
     },
     "metadata": {
      "needs_background": "light"
     },
     "output_type": "display_data"
    }
   ],
   "source": [
    "(non_chain_res / all_res).sort_values(ascending = False).plot(kind=\"bar\")"
   ]
  },
  {
   "cell_type": "markdown",
   "id": "9c19ea94",
   "metadata": {},
   "source": [
    "#### Is the boro with the most independent restaurants also the one with the highest ratio of independent restaurants ?\n",
    "\n",
    "No, As evident from the above 2 graphs, Manhattan has maximum non-chain restaurants where Brooklyn has maximum percentage of non-chain restaurants"
   ]
  },
  {
   "cell_type": "markdown",
   "id": "462796f6",
   "metadata": {},
   "source": [
    "# [Q8, 6 points] Plot the popularity of cuisines. Which cuisines are the most well-represented among all restaurants? \n",
    "\n",
    "Define the popularity of a cuisine as the number of restaurants serving that cuisine. Plot the popularity of the top 20 cuisines."
   ]
  },
  {
   "cell_type": "code",
   "execution_count": 17,
   "id": "dfb949c0",
   "metadata": {},
   "outputs": [
    {
     "data": {
      "text/plain": [
       "<AxesSubplot:>"
      ]
     },
     "execution_count": 17,
     "metadata": {},
     "output_type": "execute_result"
    },
    {
     "data": {
      "image/png": "[encoded data removed]",
      "text/plain": [
       "<Figure size 432x288 with 1 Axes>"
      ]
     },
     "metadata": {
      "needs_background": "light"
     },
     "output_type": "display_data"
    }
   ],
   "source": [
    "unique_res[\"CUISINE DESCRIPTION\"].value_counts()[:20].plot(kind=\"bar\")"
   ]
  },
  {
   "cell_type": "markdown",
   "id": "058b5c8d",
   "metadata": {},
   "source": [
    "# [Q9, 9 points] Plot the cuisines among restaurants which never got cited for violations. \n",
    "\n",
    "Ideally, you should explore and see what happens\n",
    "when there is no violation, but here I will just tell you: the ’VIOLATION CODE’ field is missing.\n",
    "\n",
    "First, find the restaurants that were never cited for a code violation. The compute the popularity of each cuisine among these “clean” restaurants. Plot the popularity of the top-20 among these cuisines."
   ]
  },
  {
   "cell_type": "code",
   "execution_count": 37,
   "id": "9fecbe5c",
   "metadata": {},
   "outputs": [
    {
     "data": {
      "text/plain": [
       "<AxesSubplot:>"
      ]
     },
     "execution_count": 37,
     "metadata": {},
     "output_type": "execute_result"
    },
    {
     "data": {
      "image/png": "[encoded data removed]",
      "text/plain": [
       "<Figure size 432x288 with 1 Axes>"
      ]
     },
     "metadata": {
      "needs_background": "light"
     },
     "output_type": "display_data"
    }
   ],
   "source": [
    "res_viol_unique = dfv.drop_duplicates(subset = [\"RESTAURANT\", \"VIOLATION CODE\"])[\"RESTAURANT\"].value_counts()\n",
    "res_viol_unique_res = res_viol_unique[res_viol_unique == 1].index.values\n",
    "unique_res[unique_res[\"RESTAURANT\"].isin(res_viol_unique_res) & unique_res[\"VIOLATION CODE\"].isnull()][\"CUISINE DESCRIPTION\"].value_counts()[:20].plot(kind=\"bar\")"
   ]
  },
  {
   "cell_type": "markdown",
   "id": "0e63a5b3",
   "metadata": {},
   "source": [
    "# Q10, 6 points] What cuisines tend to be the “cleanest”?\n",
    "\n",
    "- Select all cuisines for which there were at least 20 restaurants representing that cuisine.\n",
    "- For each such cuisine, compute the ratio of the counts in Q9 to Q8.\n",
    "\n",
    "- This is the ratio of restaurants that never got cited, versus total number of restaurants, for each cuisine.\n",
    "\n",
    "Find the top-10 cuisines with the highest ratios; these are that cuisines\n",
    "whose restaurants are “most likely to be clean."
   ]
  },
  {
   "cell_type": "code",
   "execution_count": 19,
   "id": "4ca7527d",
   "metadata": {},
   "outputs": [],
   "source": [
    "a = unique_res[\"CUISINE DESCRIPTION\"].value_counts() >= 20\n",
    "cuisines_20_res = a[a].index.values"
   ]
  },
  {
   "cell_type": "code",
   "execution_count": 20,
   "id": "d1702fa0",
   "metadata": {},
   "outputs": [],
   "source": [
    "q9 = unique_res[unique_res[\"RESTAURANT\"].isin(res_viol_unique_res) & unique_res[\"VIOLATION CODE\"].isnull()][\"CUISINE DESCRIPTION\"].value_counts()\n",
    "q9.sort_index(inplace=True)"
   ]
  },
  {
   "cell_type": "code",
   "execution_count": 41,
   "id": "6cc52ffc",
   "metadata": {},
   "outputs": [],
   "source": [
    "q8 = unique_res[unique_res[\"CUISINE DESCRIPTION\"].isin(cuisines_20_res)][\"CUISINE DESCRIPTION\"].value_counts()\n",
    "q8.sort_index(inplace=True)"
   ]
  },
  {
   "cell_type": "code",
   "execution_count": 43,
   "id": "e6f5542c",
   "metadata": {},
   "outputs": [
    {
     "data": {
      "text/plain": [
       "Soul Food                        0.090909\n",
       "Vietnamese/Cambodian/Malaysia    0.062500\n",
       "Other                            0.058252\n",
       "Soups & Sandwiches               0.047619\n",
       "Continental                      0.047619\n",
       "Barbecue                         0.047619\n",
       "Asian                            0.041096\n",
       "Chinese                          0.038251\n",
       "Greek                            0.036364\n",
       "Peruvian                         0.035714\n",
       "Name: CUISINE DESCRIPTION, dtype: float64"
      ]
     },
     "execution_count": 43,
     "metadata": {},
     "output_type": "execute_result"
    }
   ],
   "source": [
    "(q9/q8).dropna().sort_values(ascending = False)[:10]"
   ]
  },
  {
   "cell_type": "code",
   "execution_count": 44,
   "id": "7f214c2f",
   "metadata": {},
   "outputs": [
    {
     "data": {
      "text/plain": [
       "<AxesSubplot:>"
      ]
     },
     "execution_count": 44,
     "metadata": {},
     "output_type": "execute_result"
    },
    {
     "data": {
      "image/png": "[encoded data removed]",
      "text/plain": [
       "<Figure size 432x288 with 1 Axes>"
      ]
     },
     "metadata": {
      "needs_background": "light"
     },
     "output_type": "display_data"
    }
   ],
   "source": [
    "(q9/q8).dropna().sort_values(ascending = False)[:10].plot(kind='bar')"
   ]
  },
  {
   "cell_type": "markdown",
   "id": "083975c8",
   "metadata": {},
   "source": [
    "# [Q11, 8 points] What are the most common violations in each borough? \n",
    "\n",
    "Create a table of the number of times each violation description was observed in each borough, and figure out the most common violation description for each borough.\n",
    "\n",
    "To create the table, check out the crosstab function. We will see a more general version of this when we discuss groupby in class. Once you do have the table, you will still need to find the most common\n",
    "violation description for each borough."
   ]
  },
  {
   "cell_type": "code",
   "execution_count": 23,
   "id": "d3c4158b",
   "metadata": {},
   "outputs": [
    {
     "data": {
      "text/html": [
       "<div>\n",
       "<style scoped>\n",
       "    .dataframe tbody tr th:only-of-type {\n",
       "        vertical-align: middle;\n",
       "    }\n",
       "\n",
       "    .dataframe tbody tr th {\n",
       "        vertical-align: top;\n",
       "    }\n",
       "\n",
       "    .dataframe thead th {\n",
       "        text-align: right;\n",
       "    }\n",
       "</style>\n",
       "<table border=\"1\" class=\"dataframe\">\n",
       "  <thead>\n",
       "    <tr style=\"text-align: right;\">\n",
       "      <th></th>\n",
       "      <th>BORO</th>\n",
       "      <th>VIOLATION DESCRIPTION</th>\n",
       "      <th>0</th>\n",
       "    </tr>\n",
       "  </thead>\n",
       "  <tbody>\n",
       "    <tr>\n",
       "      <th>185</th>\n",
       "      <td>MANHATTAN</td>\n",
       "      <td>Non-food contact surface improperly constructe...</td>\n",
       "      <td>2417</td>\n",
       "    </tr>\n",
       "    <tr>\n",
       "      <th>110</th>\n",
       "      <td>BROOKLYN</td>\n",
       "      <td>Non-food contact surface improperly constructe...</td>\n",
       "      <td>1485</td>\n",
       "    </tr>\n",
       "    <tr>\n",
       "      <th>264</th>\n",
       "      <td>QUEENS</td>\n",
       "      <td>Non-food contact surface improperly constructe...</td>\n",
       "      <td>1416</td>\n",
       "    </tr>\n",
       "    <tr>\n",
       "      <th>40</th>\n",
       "      <td>BRONX</td>\n",
       "      <td>Non-food contact surface improperly constructe...</td>\n",
       "      <td>500</td>\n",
       "    </tr>\n",
       "    <tr>\n",
       "      <th>324</th>\n",
       "      <td>STATEN ISLAND</td>\n",
       "      <td>Non-food contact surface improperly constructe...</td>\n",
       "      <td>230</td>\n",
       "    </tr>\n",
       "  </tbody>\n",
       "</table>\n",
       "</div>"
      ],
      "text/plain": [
       "              BORO                              VIOLATION DESCRIPTION     0\n",
       "185      MANHATTAN  Non-food contact surface improperly constructe...  2417\n",
       "110       BROOKLYN  Non-food contact surface improperly constructe...  1485\n",
       "264         QUEENS  Non-food contact surface improperly constructe...  1416\n",
       "40           BRONX  Non-food contact surface improperly constructe...   500\n",
       "324  STATEN ISLAND  Non-food contact surface improperly constructe...   230"
      ]
     },
     "execution_count": 23,
     "metadata": {},
     "output_type": "execute_result"
    }
   ],
   "source": [
    "no_viol = dfv[dfv[\"VIOLATION CODE\"].notnull()]\n",
    "no_viol = no_viol[no_viol[\"BORO\"] != \"Missing\"]\n",
    "# a = no_viol.groupby([\"BORO\", 'VIOLATION DESCRIPTION'], as_index=False).agg({\"RESTAURANT\":\"count\"}).sort_values(by = \"RESTAURANT\", ascending = False)\n",
    "a = pd.crosstab(index = [no_viol[\"BORO\"], no_viol[\"VIOLATION DESCRIPTION\"]], columns = no_viol[\"RESTAURANT\"]).sum(axis = 1).reset_index().sort_values(by = 0, ascending = False)\n",
    "a.drop_duplicates(subset = \"BORO\", keep=\"first\")"
   ]
  },
  {
   "cell_type": "markdown",
   "id": "4b2698ef",
   "metadata": {},
   "source": [
    "# [Q12, 9 points] What are the most common violations per borough,after normalizing for the relative abundance of each violation?\n",
    "\n",
    "Hopefully, the answer to the previous question left you unsatisfied, because some violations are just very common, irrespective of borough. A better approach would be to normalize the violation counts, as follows.\n",
    "- Get overall frequencies: Figure out how common each violation is, over the entire dataset; let’s call this violationFrequency.\n",
    "- Normalize: Consider the table of number of violations by boro that you created for the previous question. For each borough, divide the number of violations of each type by the total number of violations for that type; i.e., divide the series of violations by violationFrequency. We want to do this for each borough.\n",
    "- Find the biggest violations: Now, after this normalization, for each borough, figure out the most common violation description."
   ]
  },
  {
   "cell_type": "code",
   "execution_count": 24,
   "id": "545ed9d0",
   "metadata": {},
   "outputs": [],
   "source": [
    "violationFreq = dfv[\"VIOLATION DESCRIPTION\"].value_counts()"
   ]
  },
  {
   "cell_type": "code",
   "execution_count": 25,
   "id": "384973e9",
   "metadata": {},
   "outputs": [
    {
     "name": "stdout",
     "output_type": "stream",
     "text": [
      "BOROUGH : MANHATTAN\n",
      "['Out-of package sale of tobacco products observed.'\n",
      " 'Potable water supply inadequate. Water or ice not potable or from unapproved source.  Cross connection in potable water supply system observed.']\n",
      "\n",
      "BOROUGH : BROOKLYN\n",
      "['Precooked potentially hazardous food from commercial food processing establishment that is supposed to be heated, but is not heated to 140º F within 2 hours.']\n",
      "\n",
      "BOROUGH : QUEENS\n",
      "['Caloric content range (minimum to maximum) not posted on menus and or menu boards for each flavor, variety and size of each menu item that is offered for sale in different flavors, varieties and sizes.'\n",
      " 'Harmful, noxious gas or vapor detected. CO ~1 3 ppm.'\n",
      " 'Raw food not properly washed prior to serving.']\n",
      "\n",
      "BOROUGH : BRONX\n",
      "['Unprotected food re-served.']\n",
      "\n",
      "BOROUGH : STATEN ISLAND\n",
      "['Eggs found dirty/cracked; liquid, frozen or powdered eggs not pasteurized.']\n",
      "\n"
     ]
    }
   ],
   "source": [
    "violationFreq = dfv[\"VIOLATION DESCRIPTION\"].value_counts()\n",
    "a = pd.crosstab(index = [no_viol[\"BORO\"], no_viol[\"VIOLATION DESCRIPTION\"]], columns = no_viol[\"RESTAURANT\"]).sum(axis = 1).reset_index().sort_values(by = 0, ascending = False).set_index(\"VIOLATION DESCRIPTION\")\n",
    "a.columns = [\"BORO\", \"RESTAURANT\"]\n",
    "# a = no_viol.groupby([\"BORO\", 'VIOLATION DESCRIPTION'], as_index=False).agg({\"RESTAURANT\":\"count\"}).sort_values(by = \"RESTAURANT\", ascending = False).set_index(\"VIOLATION DESCRIPTION\")\n",
    "for b in a[\"BORO\"].unique():\n",
    "    print(\"BOROUGH :\",b)\n",
    "    boro_res= a[a[\"BORO\"] == b][\"RESTAURANT\"]\n",
    "    m_viol = (boro_res/violationFreq)\n",
    "    print(m_viol[m_viol == m_viol.max()].index.values)\n",
    "    print()"
   ]
  },
  {
   "cell_type": "markdown",
   "id": "f4632b94",
   "metadata": {},
   "source": [
    "# [Q13, 8 points] How many phone area codes correspond to a single zipcode? \n",
    "\n",
    "The first three digits of the restaurant phone numbers are their area codes. The area codes do not generally align with zip codes, but some area codes are only for a single zip code. You must figure out how many area\n",
    "codes have this property. \n",
    "- To extract the first 3 characters of the phone number, recall that strings are pretty similar to lists."
   ]
  },
  {
   "cell_type": "code",
   "execution_count": 26,
   "id": "a849f7a9",
   "metadata": {},
   "outputs": [
    {
     "data": {
      "text/plain": [
       "34"
      ]
     },
     "execution_count": 26,
     "metadata": {},
     "output_type": "execute_result"
    }
   ],
   "source": [
    "dfv[\"AREA CODE\"] = dfv[\"PHONE\"].str[:3]\n",
    "area_unique = dfv.drop_duplicates(subset = [\"AREA CODE\", \"ZIPCODE\"])\n",
    "a = area_unique[\"AREA CODE\"].value_counts()\n",
    "a[a==1].sum()"
   ]
  },
  {
   "cell_type": "markdown",
   "id": "4915eaa2",
   "metadata": {},
   "source": [
    "# [Q14, 10 points] Find common misspellings of street names Sometimes, it’s Avenue, and sometimes, it’s Ave. \n",
    "\n",
    "We will try to come up with an automated way to find common misspellings. \n",
    "\n",
    "The idea is the following: if Ave and Avenue are the same, they should show up often in similar-sounding street names, e.g., Lexington Ave and Lexington Avenue.\n",
    "- Create a new column, called STREET TYPE, which is the the last word in the name of the street. For example, if the street is “Astoria Boulevard”, the street type should be “Boulevard”.\n",
    "- Create another column, called STREET BASE, which contains everything but the last word in the name of the street. For example, if the street is “Astoria Boulevard”, the street base should be “Astoria”.\n",
    "- Create a third column, called STREET BASE & ZIP, that combines the street base and the zipcode.\n",
    "- Create a table containing just these three columns, and remove any duplicates or instances where street base is empty. This table now contains unique street names, along with the street type.\n",
    "- Merge this table with itself, on the STREET BASE & ZIP column. Thus, in the new merged tabled, we will have two STREET TYPE fields for each street base and zipcode. For example, if both Lexington Ave and Lexington Avenue exist in the same zipcode, we will get a row for the street base Lexington and the two street types Ave and Avenue.\n",
    "- From the merged table, select only the rows where the street types are different.\n",
    "- Now, do a cross-tabulation of the two distinct street types (check out the crosstab function in Pandas). This gives us the number of times Ave and Avenue were used with the same STREET BASE & ZIP.\n",
    "- From this cross-tabulation table, find the most commonly street type that occurs with each of the following: AVE, ST, RD, PL, BOULEARD, and BULEVARD"
   ]
  },
  {
   "cell_type": "code",
   "execution_count": 27,
   "id": "10829a07",
   "metadata": {},
   "outputs": [
    {
     "name": "stderr",
     "output_type": "stream",
     "text": [
      "c:\\users\\mehen\\appdata\\local\\programs\\python\\python39\\lib\\site-packages\\pandas\\util\\_decorators.py:311: SettingWithCopyWarning: \n",
      "A value is trying to be set on a copy of a slice from a DataFrame\n",
      "\n",
      "See the caveats in the documentation: https://pandas.pydata.org/pandas-docs/stable/user_guide/indexing.html#returning-a-view-versus-a-copy\n",
      "  return func(*args, **kwargs)\n"
     ]
    }
   ],
   "source": [
    "dfv[\"STREET TYPE\"] = dfv[\"STREET\"].str.split().str[-1]\n",
    "\n",
    "dfv[\"STREET BASE\"] = dfv[\"STREET\"].str.split().str[:-1].str.join(\" \")\n",
    "\n",
    "dfv[\"STREET BASE & ZIP\"] = dfv[\"STREET BASE\"] + \" \" + dfv[\"ZIPCODE\"]\n",
    "# dfv[\"STREET\"].str.split().str[:-1].str.join(\" \")\n",
    "\n",
    "streets = dfv[[\"STREET TYPE\", \"STREET BASE\", \"STREET BASE & ZIP\"]]\n",
    "\n",
    "streets.drop_duplicates(inplace=True)\n",
    "streets = streets[streets[\"STREET BASE\"]!=\"\"]\n",
    "\n",
    "streets = streets.merge(streets, left_on=\"STREET BASE & ZIP\", right_on=\"STREET BASE & ZIP\")"
   ]
  },
  {
   "cell_type": "code",
   "execution_count": 28,
   "id": "bf7a7b5f",
   "metadata": {},
   "outputs": [],
   "source": [
    "streets = streets[streets[\"STREET TYPE_x\"].ne(streets[\"STREET TYPE_y\"])]"
   ]
  },
  {
   "cell_type": "code",
   "execution_count": 29,
   "id": "a0a9cbb0",
   "metadata": {},
   "outputs": [],
   "source": [
    "a = pd.crosstab(index=[streets[\"STREET TYPE_x\"],streets[\"STREET BASE & ZIP\"]], columns=streets[\"STREET TYPE_y\"])"
   ]
  },
  {
   "cell_type": "code",
   "execution_count": 31,
   "id": "bb3a641b",
   "metadata": {},
   "outputs": [
    {
     "name": "stdout",
     "output_type": "stream",
     "text": [
      "AVE\n",
      "STREET TYPE_y\n",
      "AVENUE    163\n",
      "dtype: int64\n",
      "\n",
      "ST\n",
      "STREET TYPE_y\n",
      "STREET    94\n",
      "dtype: int64\n",
      "\n",
      "RD\n",
      "STREET TYPE_y\n",
      "ROAD    16\n",
      "dtype: int64\n",
      "\n",
      "PL\n",
      "STREET TYPE_y\n",
      "PLACE    3\n",
      "dtype: int64\n",
      "\n",
      "BOULEARD\n",
      "STREET TYPE_y\n",
      "BOULEVARD    1\n",
      "dtype: int64\n",
      "\n",
      "BULEVARD\n",
      "STREET TYPE_y\n",
      "BOULEVARD    1\n",
      "dtype: int64\n",
      "\n"
     ]
    }
   ],
   "source": [
    "for v in ['AVE', 'ST', 'RD', 'PL', 'BOULEARD', 'BULEVARD']:\n",
    "    print(v)\n",
    "    most_common = a.loc[v].sum(axis=0).sort_values(ascending = False).head(1)\n",
    "    print(most_common)\n",
    "    print()"
   ]
  },
  {
   "cell_type": "code",
   "execution_count": 32,
   "id": "8a4fada5",
   "metadata": {},
   "outputs": [
    {
     "data": {
      "text/plain": [
       "STREET TYPE_y\n",
       "AVE         AVENUE\n",
       "ST          STREET\n",
       "RD            ROAD\n",
       "PL           PLACE\n",
       "BOULEARD      BLVD\n",
       "BULEVARD      BLVD\n",
       "dtype: object"
      ]
     },
     "execution_count": 32,
     "metadata": {},
     "output_type": "execute_result"
    }
   ],
   "source": [
    "pd.crosstab(index=streets[\"STREET TYPE_x\"], columns=streets[\"STREET TYPE_y\"]).loc[:,['AVE', 'ST', 'RD', 'PL', 'BOULEARD', 'BULEVARD']].idxmax()"
   ]
  },
  {
   "cell_type": "code",
   "execution_count": null,
   "id": "10d7b55f",
   "metadata": {},
   "outputs": [],
   "source": []
  }
 ],
 "metadata": {
  "kernelspec": {
   "display_name": "Python 3 (ipykernel)",
   "language": "python",
   "name": "python3"
  },
  "language_info": {
   "codemirror_mode": {
    "name": "ipython",
    "version": 3
   },
   "file_extension": ".py",
   "mimetype": "text/x-python",
   "name": "python",
   "nbconvert_exporter": "python",
   "pygments_lexer": "ipython3",
   "version": "3.9.6"
  }
 },
 "nbformat": 4,
 "nbformat_minor": 5
}
