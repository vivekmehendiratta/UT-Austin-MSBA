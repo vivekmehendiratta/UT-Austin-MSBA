{
 "cells": [
  {
   "cell_type": "markdown",
   "metadata": {
    "id": "evHVxwk2JA-3"
   },
   "source": [
    "# <p style=\"text-align: center;\">MIS 382N: Advanced Machine Learning</p>\n",
    "### <p style=\"text-align: center;\">Done by : Vivek Mehendiratta (vm24395)</p>\n",
    "# <p style=\"text-align: center;\">Homework 1</p>\n",
    "## <p style=\"text-align: center;\">Total points: 55</p>\n",
    "## <p style=\"text-align: center;\">Due: Wednesday, Sep 8 submitted via Canvas by 11:59 pm</p>\n",
    "\n",
    "Your homework should be written in a **Jupyter notebook**. Please make sure your code runs and the graphics (and anything else) are displayed in your notebook before submitting (%matplotlib inline). **This can be an individual assignment or group of 2. If you choose to do it as a group, please specify who you are working with (name and EID), then only one student should submit the homework.**\n",
    "\n",
    "**Note: Notebooks MUST have the images embedded in them. There will be no regrades if attached images do not render in the notebook. Please re download from canvas after submission and make sure all attached images render without errors. (Hint: Image module from IPython.display)**"
   ]
  },
  {
   "cell_type": "markdown",
   "metadata": {
    "id": "TWWU_gOSLEEv"
   },
   "source": [
    "# Question 1: MLOps (10 pts)\n",
    "Read this [article](https://towardsdatascience.com/what-is-mlops-everything-you-must-know-to-get-started-523f2d0b8bd8) \"What is MLOps — Everything You Must Know to Get Started\", which gives a quick walkthrough of the machine learning development lifecycle and explains how MLOps come into play, or watch this [video](https://www.youtube.com/watch?v=06-AZXmwHjo) which you may find interesting.\n",
    "\n",
    "1. (**4 pts**) Use your own words to describe what MLOps is, and what challenges MLOps address. Limit your answer to one paragraph.\n",
    "\n",
    "2. (**6 pts**) Describe what the main phases in MLOps are. Your answer should be 2-3 paragraphs."
   ]
  },
  {
   "cell_type": "markdown",
   "metadata": {},
   "source": [
    "## Answer:\n",
    "\n",
    "###  Use your own words to describe what MLOps is, and what challenges MLOps address.\n",
    "MLOps a.k.a Machine Learning Operations or ModelOps is a system which takes care of all the machine learning needs from defining a problem statement to maintenance of machine learning models. It is a combination of machine learning development and operations system (DevOps) which helps in continuous delivery of high-performing models in production. The challenges addressed by MLOps are:\n",
    "- Shortage of ML engineers or data scientists with knowledge of DevOps\n",
    "- Keeping up with changing data, business objectives and standardization\n",
    "- Better translation between technical and business teams \n",
    "- Assessment of Risk in terms of model evaluation\n",
    "\n",
    "### Describe what the main phases in MLOps are.\n",
    "\n",
    "1. ML Objectives : ML systems start with a basic problem statement like increasing the CTR (click through rate). Once the problem statement is defined, other objectives like budget, KPIs, technical requirements are defined.\n",
    "\n",
    "\n",
    "2. Data Acquisition and Engineering : After objectives are defined,the next step is to gather data and process the data (feature preprocessing and engineering).\n",
    "    - Data Acquisition : All the questions related to definition of data, collection of data, checking from which source the data is coming, data compliance, using cloud service for data generation comes under data acquisition.\n",
    "    - Data Engineering : Data engineering involves data preparation, preprocessing, feature engineering. A complete pipeline needs to be designed while working on data engineering. \n",
    "\n",
    "\n",
    "3. Model Development and Deployment : Once the data is acquired and engineered, the next step is to develop a ML model. \n",
    "    - Model development  : The development phase involves defining various parameters, trying different models, picking the right qualitative measure for the model based on business requirements.  Version control is also done in the ML development phase\n",
    "    - Model Deployment : Once the model is defined which matches the business requirements, it is then deployed in production. The deployments can be a static deployment (software) or dynamic deployment (web based API). The deployment can be done using containers or cloud services.\n",
    "\n",
    "\n",
    "4. Monitoring, Standardization and Maintenance : The last step is to continuously monitor the performance of data. Based on any change in data or business requirement or governance, necessary steps shall be taken to counter the changes.\n"
   ]
  },
  {
   "cell_type": "markdown",
   "metadata": {
    "id": "wusA9L1LmUMH"
   },
   "source": [
    "# Question 2: Applications of Machine Learning (5 pts)\n",
    "Read this [article](https://builtin.com/data-science/data-science-applications-examples) \"17 Data Science Applications & Examples\" and pick one of the data science systems used by various organizations according to this blog. \n",
    "\n",
    "For this system you have chosen, answer the following questions. Please limit your answer to one paragraph:\n",
    "\n",
    "1. What kind of machine learning problem is involved (e.g. classification, regression, clustering, outlier detection,...) in this system?\n",
    "2. Speculate on what kind of data may be needed and how the results can be useful to the organization.\n",
    "3. What do you think are the ethical implications of using machine learning in a domain like this?\n",
    "\n",
    "## Answer:\n",
    "\n",
    "### What kind of machine learning problem is involved (e.g. classification, regression, clustering, outlier detection,...) in this system?\n",
    "\n",
    "Oncora Medical: Cancer Care Recommendations : recommendation engine (collaborative filtering)\n",
    "\n",
    "### Speculate on what kind of data may be needed and how the results can be useful to the organization.\n",
    "\n",
    "History of patient's diagnosis, treatment plans, outcomes and side effects will help organizations group similar patients. Based on the groups of patients and history of patients, the system can recommend specific treatment, personalized medication, surgery, etc. The organizations can make a service out of it by leveraging this technology to hospitals or e-commerce medical care platforms.\n",
    "\n",
    "### What do you think are the ethical implications of using machine learning in a domain like this?\n",
    "\n",
    "- Patients' personal data\n",
    "- Right balance between meeting the medical needs of patients and maintaining financial responsibility when making decisions\n",
    "- Ensure that ML systems are deployed in production only after they're proven to be effective in meeting the health care needs of patients"
   ]
  },
  {
   "cell_type": "markdown",
   "metadata": {
    "id": "2w8za9lLmVO7"
   },
   "source": [
    "# Question 3: Simpson's Paradox (10 pts)\n",
    "A data scientist should be careful about drawing unwarranted conclusions about any data that is presented. One of the 'gotchas' that can happen even in apparently very simple tabular summaries, is called Simpson's paradox.\n",
    "\n",
    "Read this [article](https://www.covid-datascience.com/post/israeli-data-how-can-efficacy-vs-severe-disease-be-strong-when-60-of-hospitalized-are-vaccinated), which explains why the computed efficacy of the Pfizer vaccine is misleadingly low (67.5%) when you lump all people together, but once you stratify people by age (which is the right thing to do), you get much higher efficacy numbers.\n",
    "\n",
    "1.(**5 pts**) Explain in your own words what Simpson's paradox is, and how this 'paradox' can happen in real data.\n",
    "\n",
    "2.(**5 pts**) Find and mention another example of Simpson's paradox (but not any of the 3 examples given in the Wikipedia entry for 'Simpson's paradox'), state why the paradox appeared in your chosen example. Also give a reference (URL) to your source for the chosen example.\n",
    "\n",
    "## Answer:\n",
    "\n",
    "**1. Explain in your own words what Simpson's paradox is, and how this 'paradox' can happen in real data.**\n",
    "\n",
    "Simpson's paradox occurs when groups of data show one particular trend, but this trend is reversed when the groups are combined together. The paradox can happen in many ways : \n",
    "- The size of individual group can influence the representation and can lead to this paradox. \n",
    "- Overlook the hidden variables and forming our analysis which can lead to simpson's paradox. \n",
    "\n",
    "**2. Find and mention another example of Simpson's paradox (but not any of the 3 examples given in the Wikipedia entry for 'Simpson's paradox'), state why the paradox appeared in your chosen example. Also give a reference (URL) to your source for the chosen example.**\n",
    "\n",
    "Consider the following medical study dealing with Kidney Stone treatment (C. R. Charig, D. R. Webb, S. R. Payne, O. E. Wickham (March 1986)).The following two treatments were considered:\n",
    "\n",
    "\n",
    "| Treatment A | Treatment B |\n",
    "| :- | -: |\n",
    "| 78% (273/350) | **83%** (289/350) |\n",
    "\n",
    "Treatment B has a higher success rate than Treatment A. Let's look at the surgery performed on different stones.\n",
    "\n",
    "| | Treatment A | Treatment B |\n",
    "| :- | -: | -: |\n",
    "| Small Stone | **93%** (81/87) | 87% (234/270) |\n",
    "| Large Stone | **73%** (192/263) | 69% (55/80) |\n",
    "\n",
    "\n",
    "Now we find Treatment A to be better than Treatment B. The size of the stone is the hidden variable. ***Treatment A is primarily applied to larger stones while treatment B is predominantly applied to smaller stones.*** But in most scenarios Treatment A appears to be better than Treatment B. Thus, aggregate data might have a different meaning & it might mislead people.\n",
    "\n",
    "[Reference](https://analyticsindiamag.com/understanding-simpsons-paradox-and-its-impact-on-data-analytics/)"
   ]
  },
  {
   "cell_type": "markdown",
   "metadata": {
    "id": "gth0D8jiMBSe"
   },
   "source": [
    "# Question 4: Ridge and Lasso Regression (30 pts)\n",
    "\n",
    "Download the dataset **Admission.csv** from Canvas and use the following codes to import the Admission dataset in Python. \n",
    "\n",
    "There are 7 features in the dataset:\n",
    "\n",
    "1. GRE score\n",
    "2. TOEFL score\n",
    "3. University Rating\n",
    "4. SOP(Statement of Purpose)\n",
    "5. LOR(Letter of Recommendation)\n",
    "6. CGPA\n",
    "7. Research\n",
    "\n",
    "And the target is **Chance of Admission**."
   ]
  },
  {
   "cell_type": "code",
   "execution_count": 1,
   "metadata": {
    "id": "QFazlpLgGpAa"
   },
   "outputs": [],
   "source": [
    "# Only use this code block if you are using Google Colab.\n",
    "# If you are using Jupyter Notebook, please ignore this code block. You can directly upload the file to your Jupyter Notebook file systems.\n",
    "# from google.colab import files\n",
    "\n",
    "## It will prompt you to select a local file. Click on “Choose Files” then select and upload the file. \n",
    "## Wait for the file to be 100% uploaded. You should see the name of the file once Colab has uploaded it.\n",
    "# uploaded = files.upload()"
   ]
  },
  {
   "cell_type": "code",
   "execution_count": 2,
   "metadata": {
    "id": "xsPaOOehGuU6"
   },
   "outputs": [],
   "source": [
    "# Codes below will work for both Google Colab and Jupyter Notebook.\n",
    "import numpy as np\n",
    "import pandas as pd\n",
    "import random\n",
    "from sklearn import linear_model\n",
    "from sklearn.metrics import mean_absolute_error, mean_squared_error\n",
    "from sklearn.linear_model import LogisticRegression\n",
    "\n",
    "## Load the dataset into pandas DataFrame\n",
    "df = pd.read_csv('Admission.csv', index_col=0)\n",
    "df = df.replace([np.inf, -np.inf], np.nan) # \n",
    "df = df.fillna(0) # Replace all the NaN values with 0"
   ]
  },
  {
   "cell_type": "code",
   "execution_count": 3,
   "metadata": {
    "id": "PmMz72U6Gv-z"
   },
   "outputs": [
    {
     "data": {
      "text/plain": [
       "Index(['GRE_Score', 'TOEFL_Score', 'University_Rating', 'SOP', 'LOR ', 'CGPA',\n",
       "       'Research', 'Chance_of_Admit'],\n",
       "      dtype='object')"
      ]
     },
     "execution_count": 3,
     "metadata": {},
     "output_type": "execute_result"
    }
   ],
   "source": [
    "df.columns # Show you all the columns in this file"
   ]
  },
  {
   "cell_type": "code",
   "execution_count": 4,
   "metadata": {
    "id": "CyZN-yFfGxlt"
   },
   "outputs": [
    {
     "data": {
      "text/html": [
       "<div>\n",
       "<style scoped>\n",
       "    .dataframe tbody tr th:only-of-type {\n",
       "        vertical-align: middle;\n",
       "    }\n",
       "\n",
       "    .dataframe tbody tr th {\n",
       "        vertical-align: top;\n",
       "    }\n",
       "\n",
       "    .dataframe thead th {\n",
       "        text-align: right;\n",
       "    }\n",
       "</style>\n",
       "<table border=\"1\" class=\"dataframe\">\n",
       "  <thead>\n",
       "    <tr style=\"text-align: right;\">\n",
       "      <th></th>\n",
       "      <th>GRE_Score</th>\n",
       "      <th>TOEFL_Score</th>\n",
       "      <th>University_Rating</th>\n",
       "      <th>SOP</th>\n",
       "      <th>LOR</th>\n",
       "      <th>CGPA</th>\n",
       "      <th>Research</th>\n",
       "      <th>Chance_of_Admit</th>\n",
       "    </tr>\n",
       "    <tr>\n",
       "      <th>Serial No.</th>\n",
       "      <th></th>\n",
       "      <th></th>\n",
       "      <th></th>\n",
       "      <th></th>\n",
       "      <th></th>\n",
       "      <th></th>\n",
       "      <th></th>\n",
       "      <th></th>\n",
       "    </tr>\n",
       "  </thead>\n",
       "  <tbody>\n",
       "    <tr>\n",
       "      <th>1</th>\n",
       "      <td>337</td>\n",
       "      <td>118</td>\n",
       "      <td>4</td>\n",
       "      <td>4.5</td>\n",
       "      <td>4.5</td>\n",
       "      <td>9.65</td>\n",
       "      <td>1</td>\n",
       "      <td>0.92</td>\n",
       "    </tr>\n",
       "    <tr>\n",
       "      <th>2</th>\n",
       "      <td>324</td>\n",
       "      <td>107</td>\n",
       "      <td>4</td>\n",
       "      <td>4.0</td>\n",
       "      <td>4.5</td>\n",
       "      <td>8.87</td>\n",
       "      <td>1</td>\n",
       "      <td>0.76</td>\n",
       "    </tr>\n",
       "    <tr>\n",
       "      <th>3</th>\n",
       "      <td>316</td>\n",
       "      <td>104</td>\n",
       "      <td>3</td>\n",
       "      <td>3.0</td>\n",
       "      <td>3.5</td>\n",
       "      <td>8.00</td>\n",
       "      <td>1</td>\n",
       "      <td>0.72</td>\n",
       "    </tr>\n",
       "    <tr>\n",
       "      <th>4</th>\n",
       "      <td>322</td>\n",
       "      <td>110</td>\n",
       "      <td>3</td>\n",
       "      <td>3.5</td>\n",
       "      <td>2.5</td>\n",
       "      <td>8.67</td>\n",
       "      <td>1</td>\n",
       "      <td>0.80</td>\n",
       "    </tr>\n",
       "    <tr>\n",
       "      <th>5</th>\n",
       "      <td>314</td>\n",
       "      <td>103</td>\n",
       "      <td>2</td>\n",
       "      <td>2.0</td>\n",
       "      <td>3.0</td>\n",
       "      <td>8.21</td>\n",
       "      <td>0</td>\n",
       "      <td>0.65</td>\n",
       "    </tr>\n",
       "  </tbody>\n",
       "</table>\n",
       "</div>"
      ],
      "text/plain": [
       "            GRE_Score  TOEFL_Score  University_Rating  SOP  LOR   CGPA  \\\n",
       "Serial No.                                                               \n",
       "1                 337          118                  4  4.5   4.5  9.65   \n",
       "2                 324          107                  4  4.0   4.5  8.87   \n",
       "3                 316          104                  3  3.0   3.5  8.00   \n",
       "4                 322          110                  3  3.5   2.5  8.67   \n",
       "5                 314          103                  2  2.0   3.0  8.21   \n",
       "\n",
       "            Research  Chance_of_Admit  \n",
       "Serial No.                             \n",
       "1                  1             0.92  \n",
       "2                  1             0.76  \n",
       "3                  1             0.72  \n",
       "4                  1             0.80  \n",
       "5                  0             0.65  "
      ]
     },
     "execution_count": 4,
     "metadata": {},
     "output_type": "execute_result"
    }
   ],
   "source": [
    "df.head() # Show you the first 5 rows in this file"
   ]
  },
  {
   "cell_type": "code",
   "execution_count": 5,
   "metadata": {
    "id": "S3TfR0i4G2rO"
   },
   "outputs": [],
   "source": [
    "y = df['Chance_of_Admit'] # The column named Chance_of_Admit is used as the target, and we store it in y\n",
    "X = df.drop(['Chance_of_Admit'], axis=1) # We keep the remaining columns as the features, and store them in x"
   ]
  },
  {
   "cell_type": "markdown",
   "metadata": {},
   "source": [
    "## Answer:"
   ]
  },
  {
   "cell_type": "markdown",
   "metadata": {},
   "source": [
    "## 1)(**2 pts**) Split the data into a training set(75% of data) and a test set(25% of data), using the [train_test_split](https://scikit-learn.org/stable/modules/generated/sklearn.model_selection.train_test_split.html) function with random_state = 50. Then scale the data (not including target) so that each of the independent variables would have zero mean and unit variance. You can use the [sklearn.preprocessing.scale](https://scikit-learn.org/stable/modules/generated/sklearn.preprocessing.scale.html) function for this. Print the first 5 rows of the training set after scaling."
   ]
  },
  {
   "cell_type": "code",
   "execution_count": 6,
   "metadata": {},
   "outputs": [],
   "source": [
    "from sklearn.model_selection import train_test_split\n",
    "from sklearn.preprocessing import StandardScaler\n",
    "\n",
    "X_train, X_test, y_train, y_test = train_test_split(X, y, test_size=0.25, random_state=50)"
   ]
  },
  {
   "cell_type": "code",
   "execution_count": 7,
   "metadata": {},
   "outputs": [],
   "source": [
    "scaler = StandardScaler()\n",
    "X_train_scaled = scaler.fit_transform(X = X_train)\n",
    "X_test_scaled = scaler.transform(X_test)"
   ]
  },
  {
   "cell_type": "code",
   "execution_count": 8,
   "metadata": {},
   "outputs": [
    {
     "data": {
      "text/plain": [
       "array([[ 1.52725374,  2.0917706 ,  1.61594354,  0.63150829,  1.72829095,\n",
       "         2.11370277,  0.90453403],\n",
       "       [ 0.74180896,  0.46308859, -0.9310778 , -0.35266047, -1.04140609,\n",
       "         0.29488827,  0.90453403],\n",
       "       [ 0.56726568,  0.13735218,  1.61594354,  0.63150829,  0.62041214,\n",
       "         0.26211684,  0.90453403],\n",
       "       [-0.39272239, -0.51412062, -0.08207069,  0.13942391,  0.62041214,\n",
       "        -0.80295471, -1.1055416 ],\n",
       "       [ 0.47999403,  0.78882499,  0.76693642,  1.12359267,  1.17435154,\n",
       "         1.11417408,  0.90453403]])"
      ]
     },
     "execution_count": 8,
     "metadata": {},
     "output_type": "execute_result"
    }
   ],
   "source": [
    "X_train_scaled[:5]"
   ]
  },
  {
   "cell_type": "markdown",
   "metadata": {},
   "source": [
    "## 2)(**5 pts**) Use [sklearn.linear_model.Lasso](https://scikit-learn.org/stable/modules/generated/sklearn.linear_model.Lasso.html) and [sklearn.linear_model.Ridge](https://scikit-learn.org/stable/modules/generated/sklearn.linear_model.Ridge.html) classes to do a **5-fold** cross validation using sklearn's KFold. For the sweep of the regularization parameter, we will look at a grid of values ranging from α=10^10 to α=10^−6. In Python, you can consider this range of values as follows: alpha = 10**numpy.linspace(6,-6,100) \n",
    "so that you can generate 100 uniform values between -6 to 6 as power series.\n",
    "\n",
    "Fit the 2 regression models with scaled data and report the best chosen **α** based on cross validation as well as the corresponding scoring metric. The cross validation should happen on your training data using **MSE** as the scoring metric.\n"
   ]
  },
  {
   "cell_type": "code",
   "execution_count": 9,
   "metadata": {},
   "outputs": [],
   "source": [
    "from sklearn.linear_model import Lasso\n",
    "from sklearn.linear_model import Ridge\n",
    "from sklearn.model_selection import cross_val_score\n",
    "from sklearn.metrics import mean_squared_error, make_scorer\n",
    "from sklearn.model_selection import KFold\n",
    "\n",
    "mse_scorer = make_scorer(mean_squared_error)\n",
    "alpha = 10**np.linspace(6,-6,100)"
   ]
  },
  {
   "cell_type": "markdown",
   "metadata": {},
   "source": [
    "## KFold Cross Validation\n",
    "\n",
    "Making a `get_cross_val_score` function to calculate KFold and returns MSE scores \n"
   ]
  },
  {
   "cell_type": "code",
   "execution_count": 10,
   "metadata": {},
   "outputs": [],
   "source": [
    "def get_cross_val_score(estimator, X, y, cv, shuffle=False, random_state=None):\n",
    "    \"\"\"\n",
    "    Evaluate a score by cross-validation\n",
    "    \n",
    "    creating KFolds using sklearn's KFold, \\n    fitting estimator on X_train and y_train based on splits generated by kfold \\n    and evaluatong MSE score on predicted values of X_test and y_test.\n",
    "    \n",
    "    Parameters:\n",
    "    estimator : estimator object implementing 'fit'\n",
    "    X : array-like of shape (n_samples, n_features)\n",
    "    y : array-like of shape (n_samples,) or (n_samples, n_outputs), default=None\n",
    "    cv : int\n",
    "    shuffle : bool, default=False\n",
    "    random_state : int, default = None\n",
    "  \n",
    "    Returns:\n",
    "    scores : ndarray of float of shape=(len(list(cv)),)\n",
    "    \"\"\"\n",
    "\n",
    "    kfold = KFold(n_splits=cv)\n",
    "    if shuffle:\n",
    "        kfold = KFold(n_splits=cv, shuffle=True, random_state=random_state)\n",
    "        \n",
    "    mse_list = []\n",
    "    for train_index, test_index in kfold.split(X):\n",
    "        X_train, X_test = X[train_index], X[test_index]\n",
    "        y_train = y.values[train_index]\n",
    "        y_test = y.values[test_index]\n",
    "        \n",
    "        estimator.fit(X_train, y_train)\n",
    "        \n",
    "        y_pred = estimator.predict(X_test)\n",
    "        mse = mean_squared_error(y_test, y_pred)\n",
    "        mse_list.append(mse)\n",
    "        \n",
    "    return mse_list"
   ]
  },
  {
   "cell_type": "markdown",
   "metadata": {},
   "source": [
    "### Lasso Regression using `get_val_score`"
   ]
  },
  {
   "cell_type": "code",
   "execution_count": 11,
   "metadata": {},
   "outputs": [
    {
     "name": "stdout",
     "output_type": "stream",
     "text": [
      "Lowest MSE value captured at alpha value of 0.00107 is 0.0041\n"
     ]
    }
   ],
   "source": [
    "mse_lasso = np.inf\n",
    "best_alpha_lasso = 0\n",
    "for a in alpha:\n",
    "    lasso = Lasso(alpha=a)\n",
    "    scores = get_cross_val_score(lasso, X_train_scaled, y_train, cv=5)\n",
    "    if np.mean(scores) < mse_lasso:\n",
    "        best_alpha_lasso = a\n",
    "        mse_lasso = np.mean(scores)\n",
    "\n",
    "print(\"Lowest MSE value captured at alpha value of\", round(best_alpha_lasso,5), \"is\", round(mse_lasso,5))"
   ]
  },
  {
   "cell_type": "markdown",
   "metadata": {},
   "source": [
    "### Lasso Regression using `sklearn.cross_val_score`"
   ]
  },
  {
   "cell_type": "code",
   "execution_count": 12,
   "metadata": {},
   "outputs": [
    {
     "name": "stdout",
     "output_type": "stream",
     "text": [
      "Lowest MSE value captured at alpha value of 0.00107 is 0.0041\n"
     ]
    }
   ],
   "source": [
    "mse_lasso = np.inf\n",
    "best_alpha_lasso = 0\n",
    "for a in alpha:\n",
    "    lasso = Lasso(alpha=a)\n",
    "    scores = cross_val_score(lasso, X_train_scaled, y_train, cv=5, scoring=mse_scorer)\n",
    "    if np.mean(scores) < mse_lasso:\n",
    "        best_alpha_lasso = a\n",
    "        mse_lasso = np.mean(scores)\n",
    "\n",
    "print(\"Lowest MSE value captured at alpha value of\", round(best_alpha_lasso,5), \"is\", round(mse_lasso,5))"
   ]
  },
  {
   "cell_type": "markdown",
   "metadata": {},
   "source": [
    "The MSE scores and alpha values are same in both cases"
   ]
  },
  {
   "cell_type": "markdown",
   "metadata": {},
   "source": [
    "### Ridge Regression"
   ]
  },
  {
   "cell_type": "code",
   "execution_count": 13,
   "metadata": {},
   "outputs": [
    {
     "name": "stdout",
     "output_type": "stream",
     "text": [
      "Lowest MSE value captured at alpha value of 4.64159 is 0.00412\n"
     ]
    }
   ],
   "source": [
    "mse_ridge = np.inf\n",
    "best_alpha_ridge = 0\n",
    "for a in alpha:\n",
    "    ridge = Ridge(alpha=a)\n",
    "    scores = get_cross_val_score(ridge, X_train_scaled, y_train, cv=5)\n",
    "#     scores = cross_val_score(ridge, X_train_scaled, y_train, cv=5, scoring=mse_scorer)\n",
    "    if np.mean(scores) < mse_ridge:\n",
    "        best_alpha_ridge = a\n",
    "        mse_ridge = np.mean(scores)\n",
    "        \n",
    "print(\"Lowest MSE value captured at alpha value of\", round(best_alpha_ridge,5), \"is\", round(mse_ridge,5))"
   ]
  },
  {
   "cell_type": "markdown",
   "metadata": {},
   "source": [
    "## 3)(**5 pts**) Run ridge and lasso regression for all of the **α** specified above (on training data), and plot the coefficients learned for each of them - there should be one plot each for lasso and ridge, so a total of two plots; different features' weights of each model should be on the same plot with different colors (3pts). \n",
    "\n",
    "What do you qualitatively observe when the value of the regularization parameter changes (2pts)? "
   ]
  },
  {
   "cell_type": "code",
   "execution_count": 14,
   "metadata": {},
   "outputs": [],
   "source": [
    "import matplotlib.pyplot as plt"
   ]
  },
  {
   "cell_type": "code",
   "execution_count": 15,
   "metadata": {},
   "outputs": [
    {
     "data": {
      "image/png": "[encoded data removed]",
      "text/plain": [
       "<Figure size 1368x432 with 1 Axes>"
      ]
     },
     "metadata": {
      "needs_background": "light"
     },
     "output_type": "display_data"
    }
   ],
   "source": [
    "lasso_coefs = []\n",
    "for a in alpha:\n",
    "    lasso = Lasso(alpha=a)\n",
    "    lasso.fit(X_train_scaled, y=y_train)\n",
    "    lasso_coefs.append(lasso.coef_)\n",
    "\n",
    "plt.figure(figsize=(19,6))\n",
    "ax = plt.gca()\n",
    "ax.plot(alpha, lasso_coefs)\n",
    "ax.set_xscale('log')\n",
    "plt.xlabel('alpha')\n",
    "plt.ylabel('lasso coefficients')\n",
    "plt.title('Lasso coefficients as a function of the alpha values')\n",
    "plt.axis('tight')\n",
    "ax.legend(X_train.columns)\n",
    "plt.show()"
   ]
  },
  {
   "cell_type": "code",
   "execution_count": 16,
   "metadata": {},
   "outputs": [
    {
     "data": {
      "image/png": "[encoded data removed]",
      "text/plain": [
       "<Figure size 1368x432 with 1 Axes>"
      ]
     },
     "metadata": {
      "needs_background": "light"
     },
     "output_type": "display_data"
    }
   ],
   "source": [
    "ridge_coefs = []\n",
    "for a in alpha:\n",
    "    ridge = Ridge(alpha=a)\n",
    "    ridge.fit(X_train_scaled, y=y_train)\n",
    "    ridge_coefs.append(ridge.coef_)\n",
    "\n",
    "plt.figure(figsize=(19,6))\n",
    "ax = plt.gca()\n",
    "ax.plot(alpha, ridge_coefs)\n",
    "ax.set_xscale('log')\n",
    "plt.xlabel('alpha')\n",
    "plt.ylabel('ridge coefficients')\n",
    "plt.title('Ridge coefficients as a function of the alpha values')\n",
    "plt.axis('tight')\n",
    "ax.legend(X_train.columns)\n",
    "plt.show()"
   ]
  },
  {
   "cell_type": "markdown",
   "metadata": {},
   "source": [
    "- Ridge and Lasso coefficients for each variable start at same scale. As the alpha value increases, coefficients  start to converge towards zero. \n",
    "- Coefficients in Lasso regression drastically fall to absolute zero value leading to sparcity.\n",
    "- Coefficients in Ridge regression never attained zero values but very close to zero."
   ]
  },
  {
   "cell_type": "markdown",
   "metadata": {},
   "source": [
    "## 4)(**3 pts**) Take the exponential of Y_train as the target, and fit the 2 regression models again. Report the best chosen **α** based on cross validation as well as the corresponding scoring metric. Compare the results of using the original target with the results of using the exponential of the target. What do you observe? "
   ]
  },
  {
   "cell_type": "code",
   "execution_count": 17,
   "metadata": {},
   "outputs": [],
   "source": [
    "from IPython.display import HTML, display\n",
    "\n",
    "def display_table(heading, data):\n",
    "    html = \"<h3>%s</h3>\"%(heading)\n",
    "    html += \"<table>\"\n",
    "    for row in data:\n",
    "        html += \"<tr>\"\n",
    "        for field in row:\n",
    "            html += \"<td><h4>%s</h4></td>\"%(field)\n",
    "        html += \"</tr>\"\n",
    "    html += \"</table>\"\n",
    "    display(HTML(html))"
   ]
  },
  {
   "cell_type": "code",
   "execution_count": 18,
   "metadata": {},
   "outputs": [],
   "source": [
    "y_train_exp = np.exp(y_train)"
   ]
  },
  {
   "cell_type": "markdown",
   "metadata": {},
   "source": [
    "### Lasso regression"
   ]
  },
  {
   "cell_type": "code",
   "execution_count": 19,
   "metadata": {},
   "outputs": [
    {
     "name": "stdout",
     "output_type": "stream",
     "text": [
      "Lowest MSE value captured at alpha value of 0.00187 is 0.01477\n"
     ]
    }
   ],
   "source": [
    "mse_lasso_exp = np.inf\n",
    "best_alpha_lasso_exp = 0\n",
    "for a in alpha:\n",
    "    lasso = Lasso(alpha=a)\n",
    "#     scores = get_cross_val_score(lasso, X_train_scaled, y_train_exp, cv=5)\n",
    "    scores = cross_val_score(lasso, X_train_scaled, y_train_exp, cv=5, scoring=mse_scorer)\n",
    "    if np.mean(scores) < mse_lasso_exp:\n",
    "        best_alpha_lasso_exp = a\n",
    "        mse_lasso_exp = np.mean(scores)\n",
    "        \n",
    "print(\"Lowest MSE value captured at alpha value of\", round(best_alpha_lasso_exp,5), \"is\", round(mse_lasso_exp,5))"
   ]
  },
  {
   "cell_type": "code",
   "execution_count": 20,
   "metadata": {},
   "outputs": [
    {
     "data": {
      "text/html": [
       "<h3>Lasso Regression results</h3><table><tr><td><h4></h4></td><td><h4>y_train</h4></td><td><h4>y_train_exponential</h4></td></tr><tr><td><h4>Best Alpha</h4></td><td><h4>0.00107</h4></td><td><h4>0.00187</h4></td></tr><tr><td><h4>Lowest MSE</h4></td><td><h4>0.0041</h4></td><td><h4>0.01477</h4></td></tr></table>"
      ],
      "text/plain": [
       "<IPython.core.display.HTML object>"
      ]
     },
     "metadata": {},
     "output_type": "display_data"
    }
   ],
   "source": [
    "data = [[\"\", \"y_train\", \"y_train_exponential\"], \n",
    "        [\"Best Alpha\", round(best_alpha_lasso,5), round(best_alpha_lasso_exp,5)], \n",
    "        [\"Lowest MSE\", round(mse_lasso, 5), round(mse_lasso_exp,5)]]\n",
    "display_table(heading = \"Lasso Regression results\", data=data)"
   ]
  },
  {
   "cell_type": "markdown",
   "metadata": {},
   "source": [
    "### Ridge Regression"
   ]
  },
  {
   "cell_type": "code",
   "execution_count": 21,
   "metadata": {},
   "outputs": [
    {
     "name": "stdout",
     "output_type": "stream",
     "text": [
      "Lowest MSE value captured at alpha value of 6.13591 is 0.01482\n"
     ]
    }
   ],
   "source": [
    "mse_ridge_exp = np.inf\n",
    "best_alpha_ridge_exp = 0\n",
    "for a in alpha:\n",
    "    ridge = Ridge(alpha=a)\n",
    "    scores = get_cross_val_score(ridge, X_train_scaled, y_train_exp, cv=5)\n",
    "#     scores = cross_val_score(ridge, X_train_scaled, y_train_exp, cv=5, scoring=mse_scorer)\n",
    "    if np.mean(scores) < mse_ridge_exp:\n",
    "        best_alpha_ridge_exp = a\n",
    "        mse_ridge_exp = np.mean(scores)\n",
    "        \n",
    "print(\"Lowest MSE value captured at alpha value of\", round(best_alpha_ridge_exp,5), \"is\", round(mse_ridge_exp,5))"
   ]
  },
  {
   "cell_type": "code",
   "execution_count": 22,
   "metadata": {},
   "outputs": [
    {
     "data": {
      "text/html": [
       "<h3>Ridge Regression results</h3><table><tr><td><h4></h4></td><td><h4>y_train</h4></td><td><h4>y_train_exponential</h4></td></tr><tr><td><h4>Best Alpha</h4></td><td><h4>4.64159</h4></td><td><h4>6.13591</h4></td></tr><tr><td><h4>Lowest MSE</h4></td><td><h4>0.00412</h4></td><td><h4>0.01482</h4></td></tr></table>"
      ],
      "text/plain": [
       "<IPython.core.display.HTML object>"
      ]
     },
     "metadata": {},
     "output_type": "display_data"
    }
   ],
   "source": [
    "data = [[\"\", \"y_train\", \"y_train_exponential\"], \n",
    "        [\"Best Alpha\", round(best_alpha_ridge,5), round(best_alpha_ridge_exp,5)], \n",
    "        [\"Lowest MSE\", round(mse_ridge, 5), round(mse_ridge_exp,5)]]\n",
    "display_table(heading = \"Ridge Regression results\", data=data)"
   ]
  },
  {
   "cell_type": "markdown",
   "metadata": {},
   "source": [
    "Values of best alpha for ridge and lasso tend to be higher when model is trained against exponential values of y_train, lowest MSE scores also tend to be higher for exponential values of y_train."
   ]
  },
  {
   "cell_type": "markdown",
   "metadata": {},
   "source": [
    "## 5) (**5 pts**) Similarly, use [sklearn.linear_model.ElasticNet](https://scikit-learn.org/stable/modules/generated/sklearn.linear_model.ElasticNet.html) to do linear regression with different **α** values, and plot the coefficients learned for each of them (2pts). Observe the plot, then explain the pros and cons of ridge, lasso and Elastic Net models (3pts)."
   ]
  },
  {
   "cell_type": "code",
   "execution_count": 23,
   "metadata": {},
   "outputs": [
    {
     "data": {
      "image/png": "[encoded data removed]",
      "text/plain": [
       "<Figure size 1368x432 with 1 Axes>"
      ]
     },
     "metadata": {
      "needs_background": "light"
     },
     "output_type": "display_data"
    }
   ],
   "source": [
    "from sklearn.linear_model import ElasticNet\n",
    "\n",
    "en_coefs = []\n",
    "for a in alpha:\n",
    "    elasticnet = ElasticNet(alpha=a)\n",
    "    elasticnet.fit(X_train_scaled, y=y_train)\n",
    "    en_coefs.append(elasticnet.coef_)\n",
    "\n",
    "plt.figure(figsize=(19,6))\n",
    "ax = plt.gca()\n",
    "ax.plot(alpha, en_coefs)\n",
    "ax.set_xscale('log')\n",
    "plt.xlabel('alpha')\n",
    "plt.ylabel('ElasticNet coefficients')\n",
    "plt.title('ElasticNet coefficients as a function of the alpha values')\n",
    "plt.axis('tight')\n",
    "ax.legend(X_train.columns)\n",
    "plt.show()"
   ]
  },
  {
   "cell_type": "code",
   "execution_count": 24,
   "metadata": {},
   "outputs": [
    {
     "data": {
      "text/html": [
       "<h3>Elastic Net Regression results</h3><table><tr><td><h4></h4></td><td><h4>y_train</h4></td><td><h4>y_train_exponential</h4></td></tr><tr><td><h4>Best Alpha</h4></td><td><h4>0.00248</h4></td><td><h4>0.00327</h4></td></tr><tr><td><h4>Lowest MSE</h4></td><td><h4>0.0041</h4></td><td><h4>0.01476</h4></td></tr></table>"
      ],
      "text/plain": [
       "<IPython.core.display.HTML object>"
      ]
     },
     "metadata": {},
     "output_type": "display_data"
    }
   ],
   "source": [
    "mse_en = np.inf\n",
    "best_alpha_en = 0\n",
    "for a in alpha:\n",
    "    elasticnet = ElasticNet(alpha=a)\n",
    "    scores = get_cross_val_score(elasticnet, X_train_scaled, y_train, cv=5)\n",
    "#     scores = cross_val_score(elasticnet, X_train_scaled, y_train, cv=5, scoring=mse_scorer)\n",
    "    if np.mean(scores) < mse_en:\n",
    "        best_alpha_en = a\n",
    "        mse_en = np.mean(scores)\n",
    "        \n",
    "mse_en_exp = np.inf\n",
    "best_alpha_en_exp = 0\n",
    "for a in alpha:\n",
    "    elasticnet = ElasticNet(alpha=a)\n",
    "    scores = get_cross_val_score(elasticnet, X_train_scaled, y_train_exp, cv=5)\n",
    "#     scores = cross_val_score(elasticnet, X_train_scaled, y_train_exp, cv=5, scoring=mse_scorer)\n",
    "    if np.mean(scores) < mse_en_exp:\n",
    "        best_alpha_en_exp = a\n",
    "        mse_en_exp = np.mean(scores)\n",
    "        \n",
    "data = [[\"\", \"y_train\", \"y_train_exponential\"], \n",
    "        [\"Best Alpha\", round(best_alpha_en,5), round(best_alpha_en_exp,5)], \n",
    "        [\"Lowest MSE\", round(mse_en, 5), round(mse_en_exp,5)]]\n",
    "display_table(heading = \"Elastic Net Regression results\", data=data)"
   ]
  },
  {
   "cell_type": "markdown",
   "metadata": {},
   "source": [
    "### Lasso regression \n",
    "\n",
    "**Pros**\n",
    "1. Lasso uses L1 penalty for coefficients where coefficients can potentially attain zero values, thus helpful in variable selection.\n",
    "2. Computationally fast in terms of modeling and inference when compared to Ridge or Elastic-Net.\n",
    "3. Reduces Over-fitting\n",
    "\n",
    "**Cons**\n",
    "\n",
    "1. Method doesn't work on bootstrap samples.\n",
    "2. Not very intuitive as why a particular variable attained zero value. \n",
    "\n",
    "\n",
    "### Ridge regression \n",
    "**Pros**\n",
    "\n",
    "1. Can be used when number of features is greater than number of rows.\n",
    "2. Prevents Over-fitting.\n",
    "3. Useful in treating multicollinearity.\n",
    "\n",
    "**Cons**\n",
    "\n",
    "1. Computationally ineffective.\n",
    "2. Improper selection of Regularization parameter can lead to high bias.\n",
    "\n",
    "### ElasticNet regression \n",
    "\n",
    "**Pros**\n",
    "\n",
    "1. Comprise between between Ridge and lasso as it uses both L1 and L2 penalty.\n",
    "2. Performs better than Ridge and Lasso.\n",
    "\n",
    "**Cons**\n",
    "\n",
    "1. Computationally slower than Lasso."
   ]
  },
  {
   "cell_type": "markdown",
   "metadata": {},
   "source": [
    "## 6)(**5 pts**) Run the following three regression models with **MSE** loss on the training data: \n",
    "\n",
    "a. linear regression without regularization (1pts)\n",
    "\n",
    "b. linear regression with ridge regularization (2pts)\n",
    "\n",
    "c. linear regression with lasso regularization (2pts)\n",
    "\n",
    "For part (b) and (c), use only the best regularization parameters. Report the MSE and R<sup>2</sup> on the test data for each model."
   ]
  },
  {
   "cell_type": "code",
   "execution_count": 25,
   "metadata": {},
   "outputs": [],
   "source": [
    "from sklearn.metrics import r2_score"
   ]
  },
  {
   "cell_type": "code",
   "execution_count": 26,
   "metadata": {},
   "outputs": [],
   "source": [
    "lin_reg = linear_model.LinearRegression()\n",
    "lin_reg.fit(X_train_scaled, y_train)\n",
    "\n",
    "y_pred_lin_reg = lin_reg.predict(X_test_scaled)\n",
    "mse_lin_reg = mean_squared_error(y_true=y_test, y_pred=y_pred_lin_reg)\n",
    "r2_lin_reg = r2_score(y_true=y_test, y_pred=y_pred_lin_reg)"
   ]
  },
  {
   "cell_type": "code",
   "execution_count": 27,
   "metadata": {},
   "outputs": [],
   "source": [
    "ridge_reg = Ridge(alpha=best_alpha_ridge)\n",
    "ridge_reg.fit(X_train_scaled, y_train)\n",
    "\n",
    "y_pred_ridge_reg = ridge_reg.predict(X_test_scaled)\n",
    "mse_ridge_reg = mean_squared_error(y_true=y_test, y_pred=y_pred_ridge_reg)\n",
    "r2_ridge_reg = r2_score(y_true=y_test, y_pred=y_pred_ridge_reg)"
   ]
  },
  {
   "cell_type": "code",
   "execution_count": 28,
   "metadata": {},
   "outputs": [],
   "source": [
    "lasso_reg = Lasso(alpha=best_alpha_lasso)\n",
    "lasso_reg.fit(X_train_scaled, y_train)\n",
    "\n",
    "y_pred_lasso_reg = lasso_reg.predict(X_test_scaled)\n",
    "mse_lasso_reg = mean_squared_error(y_true=y_test, y_pred=y_pred_lasso_reg)\n",
    "r2_lasso_reg = r2_score(y_true=y_test, y_pred=y_pred_lasso_reg)"
   ]
  },
  {
   "cell_type": "code",
   "execution_count": 29,
   "metadata": {},
   "outputs": [
    {
     "data": {
      "text/html": [
       "<h3>Comparison between Linear, Ridge and Lasso Regression</h3><table><tr><td><h4></h4></td><td><h4>MSE</h4></td><td><h4>R-squared</h4></td></tr><tr><td><h4>Linear Regression w/o regularization</h4></td><td><h4>0.00453</h4></td><td><h4>0.73107</h4></td></tr><tr><td><h4>Ridge Regression</h4></td><td><h4>0.0045</h4></td><td><h4>0.73271</h4></td></tr><tr><td><h4>Lasso Regression</h4></td><td><h4>0.00452</h4></td><td><h4>0.73153</h4></td></tr></table>"
      ],
      "text/plain": [
       "<IPython.core.display.HTML object>"
      ]
     },
     "metadata": {},
     "output_type": "display_data"
    }
   ],
   "source": [
    "data = [\n",
    "    [\"\", \"MSE\", \"R-squared\"],\n",
    "    [\"Linear Regression w/o regularization\", round(mse_lin_reg, 5), round(r2_lin_reg,5)],\n",
    "    [\"Ridge Regression\", round(mse_ridge_reg,5), round(r2_ridge_reg,5)],\n",
    "    [\"Lasso Regression\", round(mse_lasso_reg,5), round(r2_lasso_reg,5)]\n",
    "]\n",
    "\n",
    "display_table(heading =\"Comparison between Linear, Ridge and Lasso Regression\", data = data)"
   ]
  },
  {
   "cell_type": "markdown",
   "metadata": {
    "id": "pKq1KERxJw9y"
   },
   "source": [
    "7)(**5 pts**) Train the 3 models and report the metrics with the original data without scaling (3pts). \n",
    "\n",
    "Why do we need to scale the data before regularization (2pts)? "
   ]
  },
  {
   "cell_type": "code",
   "execution_count": 30,
   "metadata": {},
   "outputs": [
    {
     "data": {
      "text/html": [
       "<h3>Comparison between Linear, Ridge and Lasso Regression</h3><table><tr><td><h4></h4></td><td><h4>MSE</h4></td><td><h4>R-squared</h4></td></tr><tr><td><h4>Linear Regression w/o regularization</h4></td><td><h4>0.00453</h4></td><td><h4>0.73107</h4></td></tr><tr><td><h4>Ridge Regression</h4></td><td><h4>0.00452</h4></td><td><h4>0.73146</h4></td></tr><tr><td><h4>Lasso Regression</h4></td><td><h4>0.00458</h4></td><td><h4>0.72777</h4></td></tr></table>"
      ],
      "text/plain": [
       "<IPython.core.display.HTML object>"
      ]
     },
     "metadata": {},
     "output_type": "display_data"
    }
   ],
   "source": [
    "## Linear regression\n",
    "lin_reg = linear_model.LinearRegression()\n",
    "lin_reg.fit(X_train, y_train)\n",
    "\n",
    "y_pred_lin_reg = lin_reg.predict(X_test)\n",
    "mse_lin_reg = mean_squared_error(y_true=y_test, y_pred=y_pred_lin_reg)\n",
    "r2_lin_reg = r2_score(y_true=y_test, y_pred=y_pred_lin_reg)\n",
    "\n",
    "## Ridge Regression\n",
    "ridge_reg = Ridge(alpha=best_alpha_ridge)\n",
    "ridge_reg.fit(X_train, y_train)\n",
    "\n",
    "y_pred_ridge_reg = ridge_reg.predict(X_test)\n",
    "mse_ridge_reg = mean_squared_error(y_true=y_test, y_pred=y_pred_ridge_reg)\n",
    "r2_ridge_reg = r2_score(y_true=y_test, y_pred=y_pred_ridge_reg)\n",
    "\n",
    "\n",
    "# Lasso Regression\n",
    "lasso_reg = Lasso(alpha=best_alpha_lasso)\n",
    "lasso_reg.fit(X_train, y_train)\n",
    "\n",
    "y_pred_lasso_reg = lasso_reg.predict(X_test)\n",
    "mse_lasso_reg = mean_squared_error(y_true=y_test, y_pred=y_pred_lasso_reg)\n",
    "r2_lasso_reg = r2_score(y_true=y_test, y_pred=y_pred_lasso_reg)\n",
    "\n",
    "data = [\n",
    "    [\"\", \"MSE\", \"R-squared\"],\n",
    "    [\"Linear Regression w/o regularization\", round(mse_lin_reg, 5), round(r2_lin_reg,5)],\n",
    "    [\"Ridge Regression\", round(mse_ridge_reg,5), round(r2_ridge_reg,5)],\n",
    "    [\"Lasso Regression\", round(mse_lasso_reg,5), round(r2_lasso_reg,5)]\n",
    "]\n",
    "\n",
    "display_table(heading =\"Comparison between Linear, Ridge and Lasso Regression\", data = data)"
   ]
  },
  {
   "cell_type": "markdown",
   "metadata": {},
   "source": [
    "Scaling the data beforehand normalizes the affect of penalty on all variables, suppose if one variable is in meters and same variable is multiplied by 100 making the variable in centimeters, centimeter being multiple of 100 will be penalized by a factor of 100 and will be shrunk more. Same happens if the variable is divided by 100, making its estimate to increase by factor of 100."
   ]
  }
 ],
 "metadata": {
  "colab": {
   "collapsed_sections": [],
   "name": "MIS 382N - HW1.ipynb",
   "provenance": []
  },
  "kernelspec": {
   "display_name": "Python 3 (ipykernel)",
   "language": "python",
   "name": "python3"
  },
  "language_info": {
   "codemirror_mode": {
    "name": "ipython",
    "version": 3
   },
   "file_extension": ".py",
   "mimetype": "text/x-python",
   "name": "python",
   "nbconvert_exporter": "python",
   "pygments_lexer": "ipython3",
   "version": "3.9.6"
  }
 },
 "nbformat": 4,
 "nbformat_minor": 1
}
