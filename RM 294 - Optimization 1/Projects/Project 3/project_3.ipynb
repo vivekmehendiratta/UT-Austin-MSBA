{
 "cells": [
  {
   "cell_type": "code",
   "execution_count": 1,
   "id": "7564e5c9",
   "metadata": {},
   "outputs": [],
   "source": [
    "import pandas as pd\n",
    "import numpy as np\n",
    "import seaborn as sns\n",
    "import matplotlib.pyplot as plt\n",
    "import gurobipy as gp\n",
    "from sklearn.linear_model import LassoCV\n",
    "from sklearn.model_selection import KFold\n",
    "%matplotlib inline"
   ]
  },
  {
   "cell_type": "code",
   "execution_count": 2,
   "id": "4c2b9898",
   "metadata": {},
   "outputs": [
    {
     "data": {
      "text/plain": [
       "((250, 52), (50, 52))"
      ]
     },
     "execution_count": 2,
     "metadata": {},
     "output_type": "execute_result"
    }
   ],
   "source": [
    "train = pd.read_csv(\"training_data.csv\")\n",
    "train.insert(1, 'X0', [1]*len(train))\n",
    "test = pd.read_csv(\"test_data.csv\")\n",
    "test.insert(1, 'X0', [1]*len(test))\n",
    "train.shape, test.shape"
   ]
  },
  {
   "cell_type": "code",
   "execution_count": 3,
   "id": "07929f28",
   "metadata": {},
   "outputs": [
    {
     "data": {
      "text/html": [
       "<div>\n",
       "<style scoped>\n",
       "    .dataframe tbody tr th:only-of-type {\n",
       "        vertical-align: middle;\n",
       "    }\n",
       "\n",
       "    .dataframe tbody tr th {\n",
       "        vertical-align: top;\n",
       "    }\n",
       "\n",
       "    .dataframe thead th {\n",
       "        text-align: right;\n",
       "    }\n",
       "</style>\n",
       "<table border=\"1\" class=\"dataframe\">\n",
       "  <thead>\n",
       "    <tr style=\"text-align: right;\">\n",
       "      <th></th>\n",
       "      <th>y</th>\n",
       "      <th>X0</th>\n",
       "      <th>X1</th>\n",
       "      <th>X2</th>\n",
       "      <th>X3</th>\n",
       "      <th>X4</th>\n",
       "      <th>X5</th>\n",
       "      <th>X6</th>\n",
       "      <th>X7</th>\n",
       "      <th>X8</th>\n",
       "      <th>...</th>\n",
       "      <th>X41</th>\n",
       "      <th>X42</th>\n",
       "      <th>X43</th>\n",
       "      <th>X44</th>\n",
       "      <th>X45</th>\n",
       "      <th>X46</th>\n",
       "      <th>X47</th>\n",
       "      <th>X48</th>\n",
       "      <th>X49</th>\n",
       "      <th>X50</th>\n",
       "    </tr>\n",
       "  </thead>\n",
       "  <tbody>\n",
       "    <tr>\n",
       "      <th>0</th>\n",
       "      <td>8.536145</td>\n",
       "      <td>1</td>\n",
       "      <td>-1.535413</td>\n",
       "      <td>0.718888</td>\n",
       "      <td>-2.099149</td>\n",
       "      <td>-0.442842</td>\n",
       "      <td>-0.598978</td>\n",
       "      <td>-1.642574</td>\n",
       "      <td>0.207755</td>\n",
       "      <td>0.760642</td>\n",
       "      <td>...</td>\n",
       "      <td>0.361866</td>\n",
       "      <td>1.793098</td>\n",
       "      <td>-0.631287</td>\n",
       "      <td>-0.061751</td>\n",
       "      <td>0.511049</td>\n",
       "      <td>0.488754</td>\n",
       "      <td>-0.612772</td>\n",
       "      <td>-0.471045</td>\n",
       "      <td>-1.139781</td>\n",
       "      <td>-0.260773</td>\n",
       "    </tr>\n",
       "    <tr>\n",
       "      <th>1</th>\n",
       "      <td>4.808344</td>\n",
       "      <td>1</td>\n",
       "      <td>-1.734609</td>\n",
       "      <td>0.551981</td>\n",
       "      <td>-2.147673</td>\n",
       "      <td>-1.552944</td>\n",
       "      <td>1.514910</td>\n",
       "      <td>-1.143972</td>\n",
       "      <td>0.737594</td>\n",
       "      <td>1.321243</td>\n",
       "      <td>...</td>\n",
       "      <td>-0.677985</td>\n",
       "      <td>-0.165679</td>\n",
       "      <td>0.065405</td>\n",
       "      <td>0.137162</td>\n",
       "      <td>1.258197</td>\n",
       "      <td>-0.120834</td>\n",
       "      <td>-1.564834</td>\n",
       "      <td>-0.242565</td>\n",
       "      <td>-0.001827</td>\n",
       "      <td>1.187453</td>\n",
       "    </tr>\n",
       "    <tr>\n",
       "      <th>2</th>\n",
       "      <td>-1.530427</td>\n",
       "      <td>1</td>\n",
       "      <td>0.097257</td>\n",
       "      <td>0.107634</td>\n",
       "      <td>-0.194222</td>\n",
       "      <td>0.335454</td>\n",
       "      <td>-0.408199</td>\n",
       "      <td>0.133265</td>\n",
       "      <td>0.706179</td>\n",
       "      <td>0.394971</td>\n",
       "      <td>...</td>\n",
       "      <td>1.108801</td>\n",
       "      <td>0.333791</td>\n",
       "      <td>0.282055</td>\n",
       "      <td>-1.086294</td>\n",
       "      <td>-0.115354</td>\n",
       "      <td>0.257857</td>\n",
       "      <td>-0.088838</td>\n",
       "      <td>-0.751231</td>\n",
       "      <td>1.450609</td>\n",
       "      <td>0.290593</td>\n",
       "    </tr>\n",
       "    <tr>\n",
       "      <th>3</th>\n",
       "      <td>-0.428243</td>\n",
       "      <td>1</td>\n",
       "      <td>-0.067702</td>\n",
       "      <td>0.557836</td>\n",
       "      <td>0.700848</td>\n",
       "      <td>-1.121376</td>\n",
       "      <td>1.722274</td>\n",
       "      <td>0.613525</td>\n",
       "      <td>0.700909</td>\n",
       "      <td>-0.417976</td>\n",
       "      <td>...</td>\n",
       "      <td>0.692511</td>\n",
       "      <td>-0.350990</td>\n",
       "      <td>0.624558</td>\n",
       "      <td>0.434520</td>\n",
       "      <td>-0.367409</td>\n",
       "      <td>-1.144681</td>\n",
       "      <td>-0.136524</td>\n",
       "      <td>-0.557214</td>\n",
       "      <td>0.416303</td>\n",
       "      <td>0.484495</td>\n",
       "    </tr>\n",
       "    <tr>\n",
       "      <th>4</th>\n",
       "      <td>0.566694</td>\n",
       "      <td>1</td>\n",
       "      <td>0.488729</td>\n",
       "      <td>0.211483</td>\n",
       "      <td>0.568389</td>\n",
       "      <td>0.646837</td>\n",
       "      <td>0.163868</td>\n",
       "      <td>-0.002152</td>\n",
       "      <td>0.125137</td>\n",
       "      <td>0.493571</td>\n",
       "      <td>...</td>\n",
       "      <td>-0.000605</td>\n",
       "      <td>1.075280</td>\n",
       "      <td>0.182281</td>\n",
       "      <td>-1.138458</td>\n",
       "      <td>0.106092</td>\n",
       "      <td>0.544640</td>\n",
       "      <td>-0.383487</td>\n",
       "      <td>-0.425773</td>\n",
       "      <td>2.667647</td>\n",
       "      <td>-0.050748</td>\n",
       "    </tr>\n",
       "  </tbody>\n",
       "</table>\n",
       "<p>5 rows × 52 columns</p>\n",
       "</div>"
      ],
      "text/plain": [
       "          y  X0        X1        X2        X3        X4        X5        X6  \\\n",
       "0  8.536145   1 -1.535413  0.718888 -2.099149 -0.442842 -0.598978 -1.642574   \n",
       "1  4.808344   1 -1.734609  0.551981 -2.147673 -1.552944  1.514910 -1.143972   \n",
       "2 -1.530427   1  0.097257  0.107634 -0.194222  0.335454 -0.408199  0.133265   \n",
       "3 -0.428243   1 -0.067702  0.557836  0.700848 -1.121376  1.722274  0.613525   \n",
       "4  0.566694   1  0.488729  0.211483  0.568389  0.646837  0.163868 -0.002152   \n",
       "\n",
       "         X7        X8  ...       X41       X42       X43       X44       X45  \\\n",
       "0  0.207755  0.760642  ...  0.361866  1.793098 -0.631287 -0.061751  0.511049   \n",
       "1  0.737594  1.321243  ... -0.677985 -0.165679  0.065405  0.137162  1.258197   \n",
       "2  0.706179  0.394971  ...  1.108801  0.333791  0.282055 -1.086294 -0.115354   \n",
       "3  0.700909 -0.417976  ...  0.692511 -0.350990  0.624558  0.434520 -0.367409   \n",
       "4  0.125137  0.493571  ... -0.000605  1.075280  0.182281 -1.138458  0.106092   \n",
       "\n",
       "        X46       X47       X48       X49       X50  \n",
       "0  0.488754 -0.612772 -0.471045 -1.139781 -0.260773  \n",
       "1 -0.120834 -1.564834 -0.242565 -0.001827  1.187453  \n",
       "2  0.257857 -0.088838 -0.751231  1.450609  0.290593  \n",
       "3 -1.144681 -0.136524 -0.557214  0.416303  0.484495  \n",
       "4  0.544640 -0.383487 -0.425773  2.667647 -0.050748  \n",
       "\n",
       "[5 rows x 52 columns]"
      ]
     },
     "execution_count": 3,
     "metadata": {},
     "output_type": "execute_result"
    }
   ],
   "source": [
    "train.head()"
   ]
  },
  {
   "cell_type": "markdown",
   "id": "485f7de4",
   "metadata": {},
   "source": [
    "# Shuffling training set"
   ]
  },
  {
   "cell_type": "code",
   "execution_count": 4,
   "id": "4e4717d6",
   "metadata": {},
   "outputs": [],
   "source": [
    "train = train.sample(frac=1,random_state=42).reset_index(drop=True)"
   ]
  },
  {
   "cell_type": "code",
   "execution_count": 5,
   "id": "ee5282b2",
   "metadata": {},
   "outputs": [
    {
     "data": {
      "text/html": [
       "<div>\n",
       "<style scoped>\n",
       "    .dataframe tbody tr th:only-of-type {\n",
       "        vertical-align: middle;\n",
       "    }\n",
       "\n",
       "    .dataframe tbody tr th {\n",
       "        vertical-align: top;\n",
       "    }\n",
       "\n",
       "    .dataframe thead th {\n",
       "        text-align: right;\n",
       "    }\n",
       "</style>\n",
       "<table border=\"1\" class=\"dataframe\">\n",
       "  <thead>\n",
       "    <tr style=\"text-align: right;\">\n",
       "      <th></th>\n",
       "      <th>y</th>\n",
       "      <th>X0</th>\n",
       "      <th>X1</th>\n",
       "      <th>X2</th>\n",
       "      <th>X3</th>\n",
       "      <th>X4</th>\n",
       "      <th>X5</th>\n",
       "      <th>X6</th>\n",
       "      <th>X7</th>\n",
       "      <th>X8</th>\n",
       "      <th>...</th>\n",
       "      <th>X41</th>\n",
       "      <th>X42</th>\n",
       "      <th>X43</th>\n",
       "      <th>X44</th>\n",
       "      <th>X45</th>\n",
       "      <th>X46</th>\n",
       "      <th>X47</th>\n",
       "      <th>X48</th>\n",
       "      <th>X49</th>\n",
       "      <th>X50</th>\n",
       "    </tr>\n",
       "  </thead>\n",
       "  <tbody>\n",
       "    <tr>\n",
       "      <th>0</th>\n",
       "      <td>2.626382</td>\n",
       "      <td>1</td>\n",
       "      <td>0.797831</td>\n",
       "      <td>-0.429984</td>\n",
       "      <td>-0.014868</td>\n",
       "      <td>2.941689</td>\n",
       "      <td>-2.670434</td>\n",
       "      <td>0.909308</td>\n",
       "      <td>0.477377</td>\n",
       "      <td>-1.776666</td>\n",
       "      <td>...</td>\n",
       "      <td>-1.254220</td>\n",
       "      <td>-0.539482</td>\n",
       "      <td>-0.753463</td>\n",
       "      <td>-2.494354</td>\n",
       "      <td>-0.875289</td>\n",
       "      <td>0.507418</td>\n",
       "      <td>0.726037</td>\n",
       "      <td>0.421756</td>\n",
       "      <td>0.799545</td>\n",
       "      <td>-0.734498</td>\n",
       "    </tr>\n",
       "    <tr>\n",
       "      <th>1</th>\n",
       "      <td>-0.515562</td>\n",
       "      <td>1</td>\n",
       "      <td>0.945354</td>\n",
       "      <td>-0.703539</td>\n",
       "      <td>0.529603</td>\n",
       "      <td>0.000651</td>\n",
       "      <td>-0.551506</td>\n",
       "      <td>-0.556061</td>\n",
       "      <td>0.001207</td>\n",
       "      <td>-0.316895</td>\n",
       "      <td>...</td>\n",
       "      <td>-0.310170</td>\n",
       "      <td>-1.447392</td>\n",
       "      <td>-0.584738</td>\n",
       "      <td>0.081360</td>\n",
       "      <td>-0.186652</td>\n",
       "      <td>-0.402984</td>\n",
       "      <td>-0.137344</td>\n",
       "      <td>-0.192550</td>\n",
       "      <td>0.467632</td>\n",
       "      <td>0.342366</td>\n",
       "    </tr>\n",
       "    <tr>\n",
       "      <th>2</th>\n",
       "      <td>6.322560</td>\n",
       "      <td>1</td>\n",
       "      <td>-0.659515</td>\n",
       "      <td>1.115909</td>\n",
       "      <td>0.980689</td>\n",
       "      <td>-1.344514</td>\n",
       "      <td>0.063781</td>\n",
       "      <td>0.462690</td>\n",
       "      <td>0.866678</td>\n",
       "      <td>-0.341734</td>\n",
       "      <td>...</td>\n",
       "      <td>0.690706</td>\n",
       "      <td>1.156570</td>\n",
       "      <td>0.984029</td>\n",
       "      <td>0.545492</td>\n",
       "      <td>0.545874</td>\n",
       "      <td>-0.685298</td>\n",
       "      <td>1.476782</td>\n",
       "      <td>-0.150188</td>\n",
       "      <td>2.307750</td>\n",
       "      <td>1.186673</td>\n",
       "    </tr>\n",
       "    <tr>\n",
       "      <th>3</th>\n",
       "      <td>0.283937</td>\n",
       "      <td>1</td>\n",
       "      <td>0.632365</td>\n",
       "      <td>-0.340640</td>\n",
       "      <td>-0.873815</td>\n",
       "      <td>0.097098</td>\n",
       "      <td>-0.988647</td>\n",
       "      <td>0.341962</td>\n",
       "      <td>-0.512534</td>\n",
       "      <td>-0.258885</td>\n",
       "      <td>...</td>\n",
       "      <td>1.407545</td>\n",
       "      <td>-0.205331</td>\n",
       "      <td>-0.168102</td>\n",
       "      <td>0.091085</td>\n",
       "      <td>0.810829</td>\n",
       "      <td>1.120151</td>\n",
       "      <td>-0.816021</td>\n",
       "      <td>0.587934</td>\n",
       "      <td>-1.079718</td>\n",
       "      <td>-0.703395</td>\n",
       "    </tr>\n",
       "    <tr>\n",
       "      <th>4</th>\n",
       "      <td>3.807360</td>\n",
       "      <td>1</td>\n",
       "      <td>0.200424</td>\n",
       "      <td>0.189315</td>\n",
       "      <td>-0.905100</td>\n",
       "      <td>-2.854128</td>\n",
       "      <td>1.319839</td>\n",
       "      <td>1.724242</td>\n",
       "      <td>-1.311053</td>\n",
       "      <td>-0.556105</td>\n",
       "      <td>...</td>\n",
       "      <td>-1.332689</td>\n",
       "      <td>-0.585949</td>\n",
       "      <td>0.927983</td>\n",
       "      <td>1.589170</td>\n",
       "      <td>2.029222</td>\n",
       "      <td>1.220493</td>\n",
       "      <td>-2.512068</td>\n",
       "      <td>0.392134</td>\n",
       "      <td>-0.779833</td>\n",
       "      <td>-1.001974</td>\n",
       "    </tr>\n",
       "  </tbody>\n",
       "</table>\n",
       "<p>5 rows × 52 columns</p>\n",
       "</div>"
      ],
      "text/plain": [
       "          y  X0        X1        X2        X3        X4        X5        X6  \\\n",
       "0  2.626382   1  0.797831 -0.429984 -0.014868  2.941689 -2.670434  0.909308   \n",
       "1 -0.515562   1  0.945354 -0.703539  0.529603  0.000651 -0.551506 -0.556061   \n",
       "2  6.322560   1 -0.659515  1.115909  0.980689 -1.344514  0.063781  0.462690   \n",
       "3  0.283937   1  0.632365 -0.340640 -0.873815  0.097098 -0.988647  0.341962   \n",
       "4  3.807360   1  0.200424  0.189315 -0.905100 -2.854128  1.319839  1.724242   \n",
       "\n",
       "         X7        X8  ...       X41       X42       X43       X44       X45  \\\n",
       "0  0.477377 -1.776666  ... -1.254220 -0.539482 -0.753463 -2.494354 -0.875289   \n",
       "1  0.001207 -0.316895  ... -0.310170 -1.447392 -0.584738  0.081360 -0.186652   \n",
       "2  0.866678 -0.341734  ...  0.690706  1.156570  0.984029  0.545492  0.545874   \n",
       "3 -0.512534 -0.258885  ...  1.407545 -0.205331 -0.168102  0.091085  0.810829   \n",
       "4 -1.311053 -0.556105  ... -1.332689 -0.585949  0.927983  1.589170  2.029222   \n",
       "\n",
       "        X46       X47       X48       X49       X50  \n",
       "0  0.507418  0.726037  0.421756  0.799545 -0.734498  \n",
       "1 -0.402984 -0.137344 -0.192550  0.467632  0.342366  \n",
       "2 -0.685298  1.476782 -0.150188  2.307750  1.186673  \n",
       "3  1.120151 -0.816021  0.587934 -1.079718 -0.703395  \n",
       "4  1.220493 -2.512068  0.392134 -0.779833 -1.001974  \n",
       "\n",
       "[5 rows x 52 columns]"
      ]
     },
     "execution_count": 5,
     "metadata": {},
     "output_type": "execute_result"
    }
   ],
   "source": [
    "train.head()"
   ]
  },
  {
   "cell_type": "markdown",
   "id": "d934e20f",
   "metadata": {},
   "source": [
    "# Gurobi Solve function"
   ]
  },
  {
   "cell_type": "code",
   "execution_count": 6,
   "id": "dff2d2c0",
   "metadata": {},
   "outputs": [],
   "source": [
    "def solveQuadratic(m_var, A, sense, b, lb = None, ub = None, min_max = 'maximize', vtype = None, Q = None, L = None, C = 0, show_output = False, time_limit = 3600):\n",
    "\n",
    "    \n",
    "    # Model initialization\n",
    "    model = gp.Model()\n",
    "    \n",
    "    # Variables initialization\n",
    "    modelX = model.addMVar(m_var, lb=None, ub=None, vtype=vtype)\n",
    "    \n",
    "    # Constraint intialization\n",
    "    modelConstr = model.addMConstr(A, modelX, sense, b)\n",
    "    \n",
    "    #  objective init\n",
    "    if min_max == 'maximize':\n",
    "        model.setMObjective(Q,L,C,sense=gp.GRB.MAXIMIZE)\n",
    "    if min_max == 'minimize':\n",
    "        model.setMObjective(Q,L,C, sense = gp.GRB.MINIMIZE)\n",
    "    \n",
    "    model.Params.OutputFlag = 0 # restricting output jargon\n",
    "    model.Params.timeLimit = time_limit\n",
    "    \n",
    "    model.optimize()\n",
    "    \n",
    "    if show_output:\n",
    "        print(\"\\nobjective value\")\n",
    "        print(model.objVal)\n",
    "        print('-----------------------------------')\n",
    "\n",
    "        print(\"\\nvalues of variable X\")\n",
    "        print(modelX.x)\n",
    "\n",
    "        print('-----------------------------------')\n",
    "    \n",
    "    return modelX.x"
   ]
  },
  {
   "cell_type": "markdown",
   "id": "4a22fa0d",
   "metadata": {},
   "source": [
    "# Direct Variable selection - MIQP"
   ]
  },
  {
   "cell_type": "code",
   "execution_count": 7,
   "id": "bd69249f",
   "metadata": {},
   "outputs": [],
   "source": [
    "import random\n",
    "\n",
    "# Split a dataset into k folds\n",
    "def cross_validation_split(data_ix, folds=10, seed=42):\n",
    "#     print(data_ix)\n",
    "    dataset_split = list()\n",
    "    dataset_copy = data_ix.copy()\n",
    "    fold_size = int(len(data_ix) / folds)\n",
    "    for i in range(folds):\n",
    "        fold = list()\n",
    "        while len(fold) < fold_size and len(dataset_copy) > 0:\n",
    "            index = dataset_copy[0]\n",
    "            fold.append(dataset_copy.pop(0))\n",
    "#         print(fold)\n",
    "        dataset_split.append(fold)\n",
    "    return dataset_split\n",
    "\n",
    "# train_ix = list(train.index.values)\n",
    "# split_ix = cross_validation_split(train_ix, seed=42)"
   ]
  },
  {
   "cell_type": "code",
   "execution_count": 8,
   "id": "94376d84",
   "metadata": {},
   "outputs": [],
   "source": [
    "def LassoRegressionMIQPSolve(X, y, k, M, m, time_limit):\n",
    "    \n",
    "    ## Objective Definition\n",
    "    # Quadratic part\n",
    "    q = 2*m+1\n",
    "    Q = np.zeros((q,q))\n",
    "    Q[0:m+1, 0:m+1] = X.T @ X\n",
    "    \n",
    "    \n",
    "    # Linear Part\n",
    "    L = np.array(list(-2 * y.T @ X) + [0]*m)\n",
    "#     pd.DataFrame(L).to_csv(\"L.csv\")\n",
    "    \n",
    "    ## Constraint Definition\n",
    "    A = np.zeros((q,q))\n",
    "    sense = np.array(['']*q)\n",
    "    b = np.array([0]*q)\n",
    "    \n",
    "    row = 0\n",
    "    # -Mz_j <= b_j\n",
    "    A[row:row+m, 1:m+1] = np.identity(m)\n",
    "    A[row:row+m, m+1:q] = M*np.identity(m)\n",
    "    sense[row:row+m] = ['>']*m\n",
    "    b[row:row+m] = [0]*m    \n",
    "    \n",
    "    row+=m\n",
    "    # b_j <= Mz_j \n",
    "    A[row:row+m, 1:m+1] = np.identity(m)\n",
    "    A[row:row+m, m+1:q] = -1*M*np.identity(m)\n",
    "    sense[row:row+m] = ['<']*m\n",
    "    b[row:row+m] = [0]*m\n",
    "    \n",
    "    row+=m\n",
    "    # sum(z_j) = k\n",
    "    A[row, m+1:q] = [1]*m\n",
    "    sense[row] = '<'\n",
    "    b[row] = k\n",
    "    \n",
    "    \n",
    "    beta_vals = solveQuadratic(m_var=q, A=A, sense=sense, b=b, lb=np.array([-M]*q), ub=np.array([M]*q), min_max='minimize', vtype = ['C']*(m+1) + ['B']*m, time_limit=time_limit, Q=Q, L=L, C=0)\n",
    "    \n",
    "    return beta_vals"
   ]
  },
  {
   "cell_type": "code",
   "execution_count": 9,
   "id": "c3200d75",
   "metadata": {},
   "outputs": [],
   "source": [
    "def LassoRegressionMIQP(train, split_ix, train_ix, k_range):\n",
    "    \n",
    "    mse_outer = {}\n",
    "    m = train.shape[1] - 1\n",
    "    \n",
    "    for k in k_range:\n",
    "        mse_inner = []\n",
    "        for i, cv_test_ix in enumerate(split_ix):\n",
    "            cv_train_ix = list(set(train_ix) - set(cv_test_ix))\n",
    "            cv_train, cv_test = train.iloc[cv_train_ix], train.iloc[cv_test_ix]\n",
    "\n",
    "            y_train, X_train = cv_train['y'].values, cv_train.drop('y', axis = 1).values\n",
    "            y_val, X_val = cv_test['y'].values, cv_test.drop('y', axis = 1).values\n",
    "\n",
    "            beta_vals = LassoRegressionMIQPSolve(X = X_train, y = y_train, k = k, M = 2, m=X_train.shape[1]-1, time_limit = 3600)\n",
    "            \n",
    "            pd.DataFrame(beta_vals).to_csv(f'beta_vals_{k}.csv')\n",
    "            \n",
    "            se = (X_val @ beta_vals[0:m] - y_val).T @ (X_val @ beta_vals[0:m] - y_val)\n",
    "            mse = se / len(y_val)\n",
    "            mse_inner.append(mse)\n",
    "            \n",
    "        mse_outer[k] = np.mean(mse_inner)\n",
    "    \n",
    "    return mse_outer\n",
    "    "
   ]
  },
  {
   "cell_type": "code",
   "execution_count": 10,
   "id": "e692f732",
   "metadata": {},
   "outputs": [
    {
     "name": "stdout",
     "output_type": "stream",
     "text": [
      "Academic license - for non-commercial use only - expires 2022-11-04\n",
      "Using license file C:\\Users\\mehen\\gurobi.lic\n"
     ]
    }
   ],
   "source": [
    "train_ix = list(train.index.values)\n",
    "split_ix = cross_validation_split(train_ix, seed=42)\n",
    "\n",
    "y_train, X_train = train['y'].values, train.drop('y', axis = 1).values\n",
    "y_test, X_test = test['y'].values, test.drop('y', axis = 1).values\n",
    "\n",
    "m=train.shape[1]-2\n",
    "mse_l = LassoRegressionMIQP(train, split_ix, train_ix, range(1, m+1))"
   ]
  },
  {
   "cell_type": "markdown",
   "id": "e098642b",
   "metadata": {},
   "source": [
    "# Best value of K"
   ]
  },
  {
   "cell_type": "code",
   "execution_count": 11,
   "id": "a588db79",
   "metadata": {},
   "outputs": [
    {
     "data": {
      "text/plain": [
       "23"
      ]
     },
     "execution_count": 11,
     "metadata": {},
     "output_type": "execute_result"
    }
   ],
   "source": [
    "best_k = pd.Series(mse_l).idxmin()\n",
    "best_k"
   ]
  },
  {
   "cell_type": "markdown",
   "id": "07549f27",
   "metadata": {},
   "source": [
    "# Solving Lasso Regression using best K"
   ]
  },
  {
   "cell_type": "code",
   "execution_count": 12,
   "id": "2cdb391f",
   "metadata": {},
   "outputs": [],
   "source": [
    "m = train.shape[1]-2\n",
    "\n",
    "beta_vals = LassoRegressionMIQPSolve(X = X_train, y = y_train, k = best_k, M = 2, m=m, time_limit = 3600)\n",
    "\n",
    "se_test = (X_test @ beta_vals[0:m+1] - y_test).T @ (X_test @ beta_vals[0:m+1] - y_test)\n",
    "mse_test = se_test / len(y_test)"
   ]
  },
  {
   "cell_type": "code",
   "execution_count": 13,
   "id": "5ee6312b",
   "metadata": {},
   "outputs": [
    {
     "data": {
      "text/plain": [
       "6.579258983715103"
      ]
     },
     "execution_count": 13,
     "metadata": {},
     "output_type": "execute_result"
    }
   ],
   "source": [
    "mse_test"
   ]
  },
  {
   "cell_type": "markdown",
   "id": "723da5a5",
   "metadata": {},
   "source": [
    "# Q4 : Lasso Regression using Scikit-learn"
   ]
  },
  {
   "cell_type": "code",
   "execution_count": 14,
   "id": "ddbf31ef",
   "metadata": {},
   "outputs": [
    {
     "data": {
      "text/plain": [
       "10"
      ]
     },
     "execution_count": 14,
     "metadata": {},
     "output_type": "execute_result"
    }
   ],
   "source": [
    "cv = KFold(n_splits=10, shuffle=False)\n",
    "cv.get_n_splits(train)"
   ]
  },
  {
   "cell_type": "code",
   "execution_count": 52,
   "id": "14db2a35",
   "metadata": {},
   "outputs": [],
   "source": [
    "lasso = LassoCV(cv=cv, random_state=42, fit_intercept=False).fit(X_train, y_train)"
   ]
  },
  {
   "cell_type": "code",
   "execution_count": 53,
   "id": "6dcab99f",
   "metadata": {},
   "outputs": [
    {
     "data": {
      "text/plain": [
       "0.07753299509155244"
      ]
     },
     "execution_count": 53,
     "metadata": {},
     "output_type": "execute_result"
    }
   ],
   "source": [
    "reg = lasso.alpha_\n",
    "reg"
   ]
  },
  {
   "cell_type": "code",
   "execution_count": 54,
   "id": "e4ef1f37",
   "metadata": {},
   "outputs": [],
   "source": [
    "se_test = (X_test @ lasso.coef_ - y_test).T @ (X_test @ lasso.coef_ - y_test)"
   ]
  },
  {
   "cell_type": "code",
   "execution_count": 55,
   "id": "621b40ab",
   "metadata": {},
   "outputs": [
    {
     "data": {
      "text/plain": [
       "2.369982855564395"
      ]
     },
     "execution_count": 55,
     "metadata": {},
     "output_type": "execute_result"
    }
   ],
   "source": [
    "mse_test = se_test / len(y_test)\n",
    "mse_test"
   ]
  },
  {
   "cell_type": "code",
   "execution_count": 58,
   "id": "e72bed9d",
   "metadata": {},
   "outputs": [
    {
     "data": {
      "text/plain": [
       "19"
      ]
     },
     "execution_count": 58,
     "metadata": {},
     "output_type": "execute_result"
    }
   ],
   "source": [
    "n_features = sum(lasso.coef_ != 0) - 1\n",
    "n_features"
   ]
  },
  {
   "cell_type": "code",
   "execution_count": 59,
   "id": "9d86ca83",
   "metadata": {},
   "outputs": [
    {
     "data": {
      "text/plain": [
       "51"
      ]
     },
     "execution_count": 59,
     "metadata": {},
     "output_type": "execute_result"
    }
   ],
   "source": [
    "len(lasso.coef_)"
   ]
  },
  {
   "cell_type": "code",
   "execution_count": 37,
   "id": "9bdea002",
   "metadata": {},
   "outputs": [
    {
     "data": {
      "text/plain": [
       "0.945354290688534"
      ]
     },
     "execution_count": 37,
     "metadata": {},
     "output_type": "execute_result"
    }
   ],
   "source": [
    "X_train[1,1]"
   ]
  },
  {
   "cell_type": "code",
   "execution_count": 62,
   "id": "9fefcd5b",
   "metadata": {},
   "outputs": [
    {
     "data": {
      "text/plain": [
       "31"
      ]
     },
     "execution_count": 62,
     "metadata": {},
     "output_type": "execute_result"
    }
   ],
   "source": [
    "sum(lasso.coef_ == 0)"
   ]
  },
  {
   "cell_type": "code",
   "execution_count": null,
   "id": "a493edd8",
   "metadata": {},
   "outputs": [],
   "source": []
  }
 ],
 "metadata": {
  "kernelspec": {
   "display_name": "Python 3 (ipykernel)",
   "language": "python",
   "name": "python3"
  },
  "language_info": {
   "codemirror_mode": {
    "name": "ipython",
    "version": 3
   },
   "file_extension": ".py",
   "mimetype": "text/x-python",
   "name": "python",
   "nbconvert_exporter": "python",
   "pygments_lexer": "ipython3",
   "version": "3.9.6"
  }
 },
 "nbformat": 4,
 "nbformat_minor": 5
}
