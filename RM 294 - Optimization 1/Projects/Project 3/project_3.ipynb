{
 "cells": [
  {
   "cell_type": "code",
   "execution_count": 1,
   "id": "7564e5c9",
   "metadata": {},
   "outputs": [],
   "source": [
    "import pandas as pd\n",
    "import numpy as np\n",
    "import seaborn as sns\n",
    "import matplotlib.pyplot as plt\n",
    "import gurobipy as gp\n",
    "from sklearn.linear_model import LassoCV\n",
    "from sklearn.model_selection import KFold\n",
    "%matplotlib inline"
   ]
  },
  {
   "cell_type": "markdown",
   "id": "f77d04a5",
   "metadata": {},
   "source": [
    "## Importing Train and test sets"
   ]
  },
  {
   "cell_type": "code",
   "execution_count": 2,
   "id": "4c2b9898",
   "metadata": {},
   "outputs": [
    {
     "data": {
      "text/plain": [
       "((250, 52), (50, 52))"
      ]
     },
     "execution_count": 2,
     "metadata": {},
     "output_type": "execute_result"
    }
   ],
   "source": [
    "train = pd.read_csv(\"training_data.csv\")\n",
    "train.insert(1, 'X0', [1]*len(train))\n",
    "test = pd.read_csv(\"test_data.csv\")\n",
    "test.insert(1, 'X0', [1]*len(test))\n",
    "train.shape, test.shape"
   ]
  },
  {
   "cell_type": "code",
   "execution_count": 3,
   "id": "07929f28",
   "metadata": {},
   "outputs": [
    {
     "data": {
      "text/html": [
       "<div>\n",
       "<style scoped>\n",
       "    .dataframe tbody tr th:only-of-type {\n",
       "        vertical-align: middle;\n",
       "    }\n",
       "\n",
       "    .dataframe tbody tr th {\n",
       "        vertical-align: top;\n",
       "    }\n",
       "\n",
       "    .dataframe thead th {\n",
       "        text-align: right;\n",
       "    }\n",
       "</style>\n",
       "<table border=\"1\" class=\"dataframe\">\n",
       "  <thead>\n",
       "    <tr style=\"text-align: right;\">\n",
       "      <th></th>\n",
       "      <th>y</th>\n",
       "      <th>X0</th>\n",
       "      <th>X1</th>\n",
       "      <th>X2</th>\n",
       "      <th>X3</th>\n",
       "      <th>X4</th>\n",
       "      <th>X5</th>\n",
       "      <th>X6</th>\n",
       "      <th>X7</th>\n",
       "      <th>X8</th>\n",
       "      <th>...</th>\n",
       "      <th>X41</th>\n",
       "      <th>X42</th>\n",
       "      <th>X43</th>\n",
       "      <th>X44</th>\n",
       "      <th>X45</th>\n",
       "      <th>X46</th>\n",
       "      <th>X47</th>\n",
       "      <th>X48</th>\n",
       "      <th>X49</th>\n",
       "      <th>X50</th>\n",
       "    </tr>\n",
       "  </thead>\n",
       "  <tbody>\n",
       "    <tr>\n",
       "      <th>0</th>\n",
       "      <td>8.536145</td>\n",
       "      <td>1</td>\n",
       "      <td>-1.535413</td>\n",
       "      <td>0.718888</td>\n",
       "      <td>-2.099149</td>\n",
       "      <td>-0.442842</td>\n",
       "      <td>-0.598978</td>\n",
       "      <td>-1.642574</td>\n",
       "      <td>0.207755</td>\n",
       "      <td>0.760642</td>\n",
       "      <td>...</td>\n",
       "      <td>0.361866</td>\n",
       "      <td>1.793098</td>\n",
       "      <td>-0.631287</td>\n",
       "      <td>-0.061751</td>\n",
       "      <td>0.511049</td>\n",
       "      <td>0.488754</td>\n",
       "      <td>-0.612772</td>\n",
       "      <td>-0.471045</td>\n",
       "      <td>-1.139781</td>\n",
       "      <td>-0.260773</td>\n",
       "    </tr>\n",
       "    <tr>\n",
       "      <th>1</th>\n",
       "      <td>4.808344</td>\n",
       "      <td>1</td>\n",
       "      <td>-1.734609</td>\n",
       "      <td>0.551981</td>\n",
       "      <td>-2.147673</td>\n",
       "      <td>-1.552944</td>\n",
       "      <td>1.514910</td>\n",
       "      <td>-1.143972</td>\n",
       "      <td>0.737594</td>\n",
       "      <td>1.321243</td>\n",
       "      <td>...</td>\n",
       "      <td>-0.677985</td>\n",
       "      <td>-0.165679</td>\n",
       "      <td>0.065405</td>\n",
       "      <td>0.137162</td>\n",
       "      <td>1.258197</td>\n",
       "      <td>-0.120834</td>\n",
       "      <td>-1.564834</td>\n",
       "      <td>-0.242565</td>\n",
       "      <td>-0.001827</td>\n",
       "      <td>1.187453</td>\n",
       "    </tr>\n",
       "    <tr>\n",
       "      <th>2</th>\n",
       "      <td>-1.530427</td>\n",
       "      <td>1</td>\n",
       "      <td>0.097257</td>\n",
       "      <td>0.107634</td>\n",
       "      <td>-0.194222</td>\n",
       "      <td>0.335454</td>\n",
       "      <td>-0.408199</td>\n",
       "      <td>0.133265</td>\n",
       "      <td>0.706179</td>\n",
       "      <td>0.394971</td>\n",
       "      <td>...</td>\n",
       "      <td>1.108801</td>\n",
       "      <td>0.333791</td>\n",
       "      <td>0.282055</td>\n",
       "      <td>-1.086294</td>\n",
       "      <td>-0.115354</td>\n",
       "      <td>0.257857</td>\n",
       "      <td>-0.088838</td>\n",
       "      <td>-0.751231</td>\n",
       "      <td>1.450609</td>\n",
       "      <td>0.290593</td>\n",
       "    </tr>\n",
       "    <tr>\n",
       "      <th>3</th>\n",
       "      <td>-0.428243</td>\n",
       "      <td>1</td>\n",
       "      <td>-0.067702</td>\n",
       "      <td>0.557836</td>\n",
       "      <td>0.700848</td>\n",
       "      <td>-1.121376</td>\n",
       "      <td>1.722274</td>\n",
       "      <td>0.613525</td>\n",
       "      <td>0.700909</td>\n",
       "      <td>-0.417976</td>\n",
       "      <td>...</td>\n",
       "      <td>0.692511</td>\n",
       "      <td>-0.350990</td>\n",
       "      <td>0.624558</td>\n",
       "      <td>0.434520</td>\n",
       "      <td>-0.367409</td>\n",
       "      <td>-1.144681</td>\n",
       "      <td>-0.136524</td>\n",
       "      <td>-0.557214</td>\n",
       "      <td>0.416303</td>\n",
       "      <td>0.484495</td>\n",
       "    </tr>\n",
       "    <tr>\n",
       "      <th>4</th>\n",
       "      <td>0.566694</td>\n",
       "      <td>1</td>\n",
       "      <td>0.488729</td>\n",
       "      <td>0.211483</td>\n",
       "      <td>0.568389</td>\n",
       "      <td>0.646837</td>\n",
       "      <td>0.163868</td>\n",
       "      <td>-0.002152</td>\n",
       "      <td>0.125137</td>\n",
       "      <td>0.493571</td>\n",
       "      <td>...</td>\n",
       "      <td>-0.000605</td>\n",
       "      <td>1.075280</td>\n",
       "      <td>0.182281</td>\n",
       "      <td>-1.138458</td>\n",
       "      <td>0.106092</td>\n",
       "      <td>0.544640</td>\n",
       "      <td>-0.383487</td>\n",
       "      <td>-0.425773</td>\n",
       "      <td>2.667647</td>\n",
       "      <td>-0.050748</td>\n",
       "    </tr>\n",
       "  </tbody>\n",
       "</table>\n",
       "<p>5 rows × 52 columns</p>\n",
       "</div>"
      ],
      "text/plain": [
       "          y  X0        X1        X2        X3        X4        X5        X6  \\\n",
       "0  8.536145   1 -1.535413  0.718888 -2.099149 -0.442842 -0.598978 -1.642574   \n",
       "1  4.808344   1 -1.734609  0.551981 -2.147673 -1.552944  1.514910 -1.143972   \n",
       "2 -1.530427   1  0.097257  0.107634 -0.194222  0.335454 -0.408199  0.133265   \n",
       "3 -0.428243   1 -0.067702  0.557836  0.700848 -1.121376  1.722274  0.613525   \n",
       "4  0.566694   1  0.488729  0.211483  0.568389  0.646837  0.163868 -0.002152   \n",
       "\n",
       "         X7        X8  ...       X41       X42       X43       X44       X45  \\\n",
       "0  0.207755  0.760642  ...  0.361866  1.793098 -0.631287 -0.061751  0.511049   \n",
       "1  0.737594  1.321243  ... -0.677985 -0.165679  0.065405  0.137162  1.258197   \n",
       "2  0.706179  0.394971  ...  1.108801  0.333791  0.282055 -1.086294 -0.115354   \n",
       "3  0.700909 -0.417976  ...  0.692511 -0.350990  0.624558  0.434520 -0.367409   \n",
       "4  0.125137  0.493571  ... -0.000605  1.075280  0.182281 -1.138458  0.106092   \n",
       "\n",
       "        X46       X47       X48       X49       X50  \n",
       "0  0.488754 -0.612772 -0.471045 -1.139781 -0.260773  \n",
       "1 -0.120834 -1.564834 -0.242565 -0.001827  1.187453  \n",
       "2  0.257857 -0.088838 -0.751231  1.450609  0.290593  \n",
       "3 -1.144681 -0.136524 -0.557214  0.416303  0.484495  \n",
       "4  0.544640 -0.383487 -0.425773  2.667647 -0.050748  \n",
       "\n",
       "[5 rows x 52 columns]"
      ]
     },
     "execution_count": 3,
     "metadata": {},
     "output_type": "execute_result"
    }
   ],
   "source": [
    "train.head()"
   ]
  },
  {
   "cell_type": "markdown",
   "id": "485f7de4",
   "metadata": {},
   "source": [
    "# Shuffling training set"
   ]
  },
  {
   "cell_type": "code",
   "execution_count": 4,
   "id": "4e4717d6",
   "metadata": {},
   "outputs": [],
   "source": [
    "train = train.sample(frac=1,random_state=100).reset_index(drop=True)"
   ]
  },
  {
   "cell_type": "code",
   "execution_count": 5,
   "id": "ee5282b2",
   "metadata": {},
   "outputs": [
    {
     "data": {
      "text/html": [
       "<div>\n",
       "<style scoped>\n",
       "    .dataframe tbody tr th:only-of-type {\n",
       "        vertical-align: middle;\n",
       "    }\n",
       "\n",
       "    .dataframe tbody tr th {\n",
       "        vertical-align: top;\n",
       "    }\n",
       "\n",
       "    .dataframe thead th {\n",
       "        text-align: right;\n",
       "    }\n",
       "</style>\n",
       "<table border=\"1\" class=\"dataframe\">\n",
       "  <thead>\n",
       "    <tr style=\"text-align: right;\">\n",
       "      <th></th>\n",
       "      <th>y</th>\n",
       "      <th>X0</th>\n",
       "      <th>X1</th>\n",
       "      <th>X2</th>\n",
       "      <th>X3</th>\n",
       "      <th>X4</th>\n",
       "      <th>X5</th>\n",
       "      <th>X6</th>\n",
       "      <th>X7</th>\n",
       "      <th>X8</th>\n",
       "      <th>...</th>\n",
       "      <th>X41</th>\n",
       "      <th>X42</th>\n",
       "      <th>X43</th>\n",
       "      <th>X44</th>\n",
       "      <th>X45</th>\n",
       "      <th>X46</th>\n",
       "      <th>X47</th>\n",
       "      <th>X48</th>\n",
       "      <th>X49</th>\n",
       "      <th>X50</th>\n",
       "    </tr>\n",
       "  </thead>\n",
       "  <tbody>\n",
       "    <tr>\n",
       "      <th>0</th>\n",
       "      <td>8.929452</td>\n",
       "      <td>1</td>\n",
       "      <td>-1.095317</td>\n",
       "      <td>0.577923</td>\n",
       "      <td>-1.606984</td>\n",
       "      <td>-0.062336</td>\n",
       "      <td>0.143991</td>\n",
       "      <td>1.360918</td>\n",
       "      <td>-0.815264</td>\n",
       "      <td>0.357488</td>\n",
       "      <td>...</td>\n",
       "      <td>-0.149673</td>\n",
       "      <td>0.592354</td>\n",
       "      <td>1.048049</td>\n",
       "      <td>2.314745</td>\n",
       "      <td>1.097569</td>\n",
       "      <td>-2.386451</td>\n",
       "      <td>-1.338940</td>\n",
       "      <td>0.290801</td>\n",
       "      <td>0.414236</td>\n",
       "      <td>0.866780</td>\n",
       "    </tr>\n",
       "    <tr>\n",
       "      <th>1</th>\n",
       "      <td>-5.799633</td>\n",
       "      <td>1</td>\n",
       "      <td>-0.702044</td>\n",
       "      <td>-0.759860</td>\n",
       "      <td>0.632934</td>\n",
       "      <td>2.193968</td>\n",
       "      <td>0.702947</td>\n",
       "      <td>-1.908253</td>\n",
       "      <td>1.207841</td>\n",
       "      <td>0.149813</td>\n",
       "      <td>...</td>\n",
       "      <td>-0.488370</td>\n",
       "      <td>0.640200</td>\n",
       "      <td>0.402177</td>\n",
       "      <td>-0.962255</td>\n",
       "      <td>-2.170478</td>\n",
       "      <td>-0.480307</td>\n",
       "      <td>1.460908</td>\n",
       "      <td>-0.732313</td>\n",
       "      <td>1.660601</td>\n",
       "      <td>-0.338892</td>\n",
       "    </tr>\n",
       "    <tr>\n",
       "      <th>2</th>\n",
       "      <td>5.948323</td>\n",
       "      <td>1</td>\n",
       "      <td>-0.986549</td>\n",
       "      <td>0.024756</td>\n",
       "      <td>-0.148764</td>\n",
       "      <td>1.466318</td>\n",
       "      <td>1.282209</td>\n",
       "      <td>0.295801</td>\n",
       "      <td>-1.182817</td>\n",
       "      <td>-0.932046</td>\n",
       "      <td>...</td>\n",
       "      <td>0.389020</td>\n",
       "      <td>1.642970</td>\n",
       "      <td>0.916629</td>\n",
       "      <td>-0.102821</td>\n",
       "      <td>-0.051025</td>\n",
       "      <td>-0.046690</td>\n",
       "      <td>0.286985</td>\n",
       "      <td>0.640431</td>\n",
       "      <td>-0.056373</td>\n",
       "      <td>0.353986</td>\n",
       "    </tr>\n",
       "    <tr>\n",
       "      <th>3</th>\n",
       "      <td>3.807360</td>\n",
       "      <td>1</td>\n",
       "      <td>0.200424</td>\n",
       "      <td>0.189315</td>\n",
       "      <td>-0.905100</td>\n",
       "      <td>-2.854128</td>\n",
       "      <td>1.319839</td>\n",
       "      <td>1.724242</td>\n",
       "      <td>-1.311053</td>\n",
       "      <td>-0.556105</td>\n",
       "      <td>...</td>\n",
       "      <td>-1.332689</td>\n",
       "      <td>-0.585949</td>\n",
       "      <td>0.927983</td>\n",
       "      <td>1.589170</td>\n",
       "      <td>2.029222</td>\n",
       "      <td>1.220493</td>\n",
       "      <td>-2.512068</td>\n",
       "      <td>0.392134</td>\n",
       "      <td>-0.779833</td>\n",
       "      <td>-1.001974</td>\n",
       "    </tr>\n",
       "    <tr>\n",
       "      <th>4</th>\n",
       "      <td>-3.351793</td>\n",
       "      <td>1</td>\n",
       "      <td>-0.404082</td>\n",
       "      <td>-0.669650</td>\n",
       "      <td>-1.833165</td>\n",
       "      <td>0.093195</td>\n",
       "      <td>0.871184</td>\n",
       "      <td>-0.124164</td>\n",
       "      <td>0.150745</td>\n",
       "      <td>-0.783834</td>\n",
       "      <td>...</td>\n",
       "      <td>-0.186963</td>\n",
       "      <td>-0.907139</td>\n",
       "      <td>0.000460</td>\n",
       "      <td>-0.644975</td>\n",
       "      <td>-1.261780</td>\n",
       "      <td>-0.118846</td>\n",
       "      <td>-1.940222</td>\n",
       "      <td>-0.901357</td>\n",
       "      <td>1.010079</td>\n",
       "      <td>-0.592381</td>\n",
       "    </tr>\n",
       "  </tbody>\n",
       "</table>\n",
       "<p>5 rows × 52 columns</p>\n",
       "</div>"
      ],
      "text/plain": [
       "          y  X0        X1        X2        X3        X4        X5        X6  \\\n",
       "0  8.929452   1 -1.095317  0.577923 -1.606984 -0.062336  0.143991  1.360918   \n",
       "1 -5.799633   1 -0.702044 -0.759860  0.632934  2.193968  0.702947 -1.908253   \n",
       "2  5.948323   1 -0.986549  0.024756 -0.148764  1.466318  1.282209  0.295801   \n",
       "3  3.807360   1  0.200424  0.189315 -0.905100 -2.854128  1.319839  1.724242   \n",
       "4 -3.351793   1 -0.404082 -0.669650 -1.833165  0.093195  0.871184 -0.124164   \n",
       "\n",
       "         X7        X8  ...       X41       X42       X43       X44       X45  \\\n",
       "0 -0.815264  0.357488  ... -0.149673  0.592354  1.048049  2.314745  1.097569   \n",
       "1  1.207841  0.149813  ... -0.488370  0.640200  0.402177 -0.962255 -2.170478   \n",
       "2 -1.182817 -0.932046  ...  0.389020  1.642970  0.916629 -0.102821 -0.051025   \n",
       "3 -1.311053 -0.556105  ... -1.332689 -0.585949  0.927983  1.589170  2.029222   \n",
       "4  0.150745 -0.783834  ... -0.186963 -0.907139  0.000460 -0.644975 -1.261780   \n",
       "\n",
       "        X46       X47       X48       X49       X50  \n",
       "0 -2.386451 -1.338940  0.290801  0.414236  0.866780  \n",
       "1 -0.480307  1.460908 -0.732313  1.660601 -0.338892  \n",
       "2 -0.046690  0.286985  0.640431 -0.056373  0.353986  \n",
       "3  1.220493 -2.512068  0.392134 -0.779833 -1.001974  \n",
       "4 -0.118846 -1.940222 -0.901357  1.010079 -0.592381  \n",
       "\n",
       "[5 rows x 52 columns]"
      ]
     },
     "execution_count": 5,
     "metadata": {},
     "output_type": "execute_result"
    }
   ],
   "source": [
    "train.head()"
   ]
  },
  {
   "cell_type": "markdown",
   "id": "10f05aef",
   "metadata": {},
   "source": [
    "## Cross Validation Split"
   ]
  },
  {
   "cell_type": "code",
   "execution_count": 6,
   "id": "dbf6571d",
   "metadata": {},
   "outputs": [],
   "source": [
    "# Split a dataset into k folds\n",
    "def cross_validation_split(data_ix, folds=10):\n",
    "    dataset_split = list()\n",
    "    dataset_copy = data_ix.copy()\n",
    "    fold_size = int(len(data_ix) / folds)\n",
    "    for i in range(folds):\n",
    "        fold = list()\n",
    "        while len(fold) < fold_size and len(dataset_copy) > 0:\n",
    "            index = dataset_copy[0]\n",
    "            fold.append(dataset_copy.pop(0))\n",
    "        dataset_split.append(fold)\n",
    "    return dataset_split"
   ]
  },
  {
   "cell_type": "markdown",
   "id": "d934e20f",
   "metadata": {},
   "source": [
    "# Gurobi Solve function"
   ]
  },
  {
   "cell_type": "code",
   "execution_count": 7,
   "id": "dff2d2c0",
   "metadata": {},
   "outputs": [],
   "source": [
    "def solveQuadratic(m_var, A, sense, b, lb = None, ub = None, min_max = 'maximize', vtype = None, Q = None, L = None, C = 0, show_output = False, time_limit = 3600):\n",
    "\n",
    "    \n",
    "    # Model initialization\n",
    "    model = gp.Model()\n",
    "    \n",
    "    # Variables initialization\n",
    "    modelX = model.addMVar(m_var, lb=lb, ub=ub, vtype=vtype)\n",
    "    \n",
    "    # Constraint intialization\n",
    "    modelConstr = model.addMConstr(A, modelX, sense, b)\n",
    "    \n",
    "    #  objective init\n",
    "    if min_max == 'maximize':\n",
    "        model.setMObjective(Q,L,C,sense=gp.GRB.MAXIMIZE)\n",
    "    if min_max == 'minimize':\n",
    "        model.setMObjective(Q,L,C, sense = gp.GRB.MINIMIZE)\n",
    "    \n",
    "    model.Params.OutputFlag = 0 # restricting output jargon\n",
    "    model.setParam('TimeLimit', time_limit)\n",
    "    \n",
    "    model.optimize()\n",
    "    \n",
    "    return modelX.x"
   ]
  },
  {
   "cell_type": "markdown",
   "id": "4a22fa0d",
   "metadata": {},
   "source": [
    "# Direct Variable selection - MIQP"
   ]
  },
  {
   "cell_type": "code",
   "execution_count": 8,
   "id": "94376d84",
   "metadata": {},
   "outputs": [],
   "source": [
    "def LassoRegressionMIQPSolve(X, y, k, M, m, time_limit):\n",
    "    \n",
    "    ## Objective Definition\n",
    "    \n",
    "    # Quadratic part\n",
    "    q = 2*m+1\n",
    "    Q = np.zeros((q,q))\n",
    "    Q[0:m+1, 0:m+1] = X.T @ X\n",
    "    \n",
    "    \n",
    "    # Linear Part\n",
    "    L = np.array(list(-2 * y.T @ X) + [0]*m)\n",
    "    \n",
    "    ## Constraint Definition\n",
    "    A = np.zeros((q,q))\n",
    "    sense = np.array(['']*q)\n",
    "    b = np.array([0]*q)\n",
    "    \n",
    "    row = 0\n",
    "    # -Mz_j <= b_j\n",
    "    A[row:row+m, 1:m+1] = np.identity(m)\n",
    "    A[row:row+m, m+1:q] = M*np.identity(m)\n",
    "    sense[row:row+m] = ['>']*m\n",
    "    b[row:row+m] = [0]*m    \n",
    "    \n",
    "    row+=m\n",
    "    # b_j <= Mz_j \n",
    "    A[row:row+m, 1:m+1] = np.identity(m)\n",
    "    A[row:row+m, m+1:q] = -1*M*np.identity(m)\n",
    "    sense[row:row+m] = ['<']*m\n",
    "    b[row:row+m] = [0]*m\n",
    "    \n",
    "    row+=m\n",
    "    # sum(z_j) = k\n",
    "    A[-1, m+1:q] = [1]*m\n",
    "    sense[-1] = '<'\n",
    "    b[-1] = k\n",
    "    \n",
    "    \n",
    "    beta_vals = solveQuadratic(m_var=q, A=A, sense=sense, b=b, lb=np.array([-M]*q), ub=np.array([M]*q), min_max='minimize', vtype = ['C']*(m+1) + ['B']*m, time_limit=time_limit, Q=Q, L=L, C=0)\n",
    "    \n",
    "    return beta_vals"
   ]
  },
  {
   "cell_type": "code",
   "execution_count": 9,
   "id": "c3200d75",
   "metadata": {},
   "outputs": [],
   "source": [
    "\n",
    "def LassoRegressionMIQP(train, split_ix, train_ix, k_range, time_limit = 3600):\n",
    "    \n",
    "    mse_outer = {}\n",
    "    m = train.shape[1] - 1\n",
    "    \n",
    "    for k in k_range:\n",
    "        print(f\"Running for k = {k}\")\n",
    "        mse_inner = []\n",
    "        for i, cv_test_ix in enumerate(split_ix):\n",
    "            cv_train_ix = list(set(train_ix) - set(cv_test_ix))\n",
    "            cv_train, cv_test = train.iloc[cv_train_ix], train.iloc[cv_test_ix]\n",
    "\n",
    "            y_train, X_train = cv_train['y'].values, cv_train.drop('y', axis = 1).values\n",
    "            y_val, X_val = cv_test['y'].values, cv_test.drop('y', axis = 1).values\n",
    "\n",
    "            beta_vals = LassoRegressionMIQPSolve(X = X_train, y = y_train, k = k, M = 100, m=X_train.shape[1]-1, time_limit = time_limit)\n",
    "            \n",
    "            pd.DataFrame(beta_vals).to_csv(f'beta_vals_{k}.csv')\n",
    "            \n",
    "            se = (X_val @ beta_vals[0:m] - y_val).T @ (X_val @ beta_vals[0:m] - y_val)\n",
    "            mse = se / len(y_val)\n",
    "            mse_inner.append(mse)\n",
    "            \n",
    "        mse_outer[k] = np.mean(mse_inner)\n",
    "    \n",
    "    return mse_outer\n",
    "    "
   ]
  },
  {
   "cell_type": "code",
   "execution_count": 10,
   "id": "47887219",
   "metadata": {},
   "outputs": [],
   "source": [
    "train_ix = list(train.index.values)\n",
    "split_ix = cross_validation_split(train_ix)\n",
    "\n",
    "y_train, X_train = train['y'].values, train.drop('y', axis = 1).values\n",
    "y_test, X_test = test['y'].values, test.drop('y', axis = 1).values"
   ]
  },
  {
   "cell_type": "code",
   "execution_count": 22,
   "id": "e692f732",
   "metadata": {},
   "outputs": [
    {
     "name": "stdout",
     "output_type": "stream",
     "text": [
      "Running for k = 5\n",
      "Running for k = 10\n",
      "Running for k = 15\n",
      "Running for k = 20\n",
      "Running for k = 25\n",
      "Running for k = 30\n",
      "Running for k = 35\n",
      "Running for k = 40\n",
      "Running for k = 45\n",
      "Running for k = 50\n"
     ]
    }
   ],
   "source": [
    "m=train.shape[1]-2\n",
    "mse_l = LassoRegressionMIQP(train, split_ix, train_ix, range(5, m+1, 5), time_limit = 7200)"
   ]
  },
  {
   "cell_type": "markdown",
   "id": "e098642b",
   "metadata": {},
   "source": [
    "# Best value of K"
   ]
  },
  {
   "cell_type": "code",
   "execution_count": 23,
   "id": "a588db79",
   "metadata": {},
   "outputs": [
    {
     "data": {
      "text/plain": [
       "10"
      ]
     },
     "execution_count": 23,
     "metadata": {},
     "output_type": "execute_result"
    }
   ],
   "source": [
    "best_k = pd.Series(mse_l).idxmin()\n",
    "best_k"
   ]
  },
  {
   "cell_type": "code",
   "execution_count": 24,
   "id": "2cdb391f",
   "metadata": {},
   "outputs": [],
   "source": [
    "m = train.shape[1]-2\n",
    "\n",
    "beta_vals = LassoRegressionMIQPSolve(X = X_train, y = y_train, k = best_k, M = 100, m=m, time_limit = 3600)\n",
    "\n",
    "se_test = (X_test @ beta_vals[0:m+1] - y_test).T @ (X_test @ beta_vals[0:m+1] - y_test)\n",
    "mse_test = se_test / len(y_test)"
   ]
  },
  {
   "cell_type": "code",
   "execution_count": 25,
   "id": "5ee6312b",
   "metadata": {},
   "outputs": [
    {
     "data": {
      "text/plain": [
       "2.336543964552525"
      ]
     },
     "execution_count": 25,
     "metadata": {},
     "output_type": "execute_result"
    }
   ],
   "source": [
    "mse_test"
   ]
  },
  {
   "cell_type": "markdown",
   "id": "92a99b1f",
   "metadata": {},
   "source": [
    "# Indirect Variable selection using Lasso Regression using best K"
   ]
  },
  {
   "cell_type": "markdown",
   "id": "723da5a5",
   "metadata": {},
   "source": [
    "# Q4 : Lasso Regression using Scikit-learn"
   ]
  },
  {
   "cell_type": "code",
   "execution_count": 26,
   "id": "ddbf31ef",
   "metadata": {},
   "outputs": [],
   "source": [
    "cv = KFold(n_splits=10, shuffle=False)"
   ]
  },
  {
   "cell_type": "code",
   "execution_count": 27,
   "id": "14db2a35",
   "metadata": {},
   "outputs": [],
   "source": [
    "lasso = LassoCV(cv=cv).fit(X_train[:,1:], y_train)"
   ]
  },
  {
   "cell_type": "code",
   "execution_count": 28,
   "id": "6dcab99f",
   "metadata": {},
   "outputs": [
    {
     "data": {
      "text/plain": [
       "0.07638765995113514"
      ]
     },
     "execution_count": 28,
     "metadata": {},
     "output_type": "execute_result"
    }
   ],
   "source": [
    "reg = lasso.alpha_\n",
    "reg"
   ]
  },
  {
   "cell_type": "code",
   "execution_count": 15,
   "id": "e4ef1f37",
   "metadata": {},
   "outputs": [],
   "source": [
    "se_test = (X_test[:,1:] @ lasso.coef_ - y_test).T @ (X_test[:,1:] @ lasso.coef_ - y_test)"
   ]
  },
  {
   "cell_type": "code",
   "execution_count": 16,
   "id": "621b40ab",
   "metadata": {},
   "outputs": [
    {
     "data": {
      "text/plain": [
       "3.594714573295883"
      ]
     },
     "execution_count": 16,
     "metadata": {},
     "output_type": "execute_result"
    }
   ],
   "source": [
    "mse_test = se_test / len(y_test)\n",
    "mse_test"
   ]
  },
  {
   "cell_type": "code",
   "execution_count": 17,
   "id": "e72bed9d",
   "metadata": {},
   "outputs": [
    {
     "data": {
      "text/plain": [
       "17"
      ]
     },
     "execution_count": 17,
     "metadata": {},
     "output_type": "execute_result"
    }
   ],
   "source": [
    "n_features = sum(lasso.coef_ != 0)\n",
    "n_features"
   ]
  },
  {
   "cell_type": "markdown",
   "id": "e847c0fe",
   "metadata": {},
   "source": [
    "# Comparison"
   ]
  },
  {
   "cell_type": "code",
   "execution_count": 29,
   "id": "c52a4a88",
   "metadata": {},
   "outputs": [],
   "source": [
    "direct_beta_coef = beta_vals[0:51]\n",
    "indirect_beta_coef = [lasso.intercept_] + list(lasso.coef_)"
   ]
  },
  {
   "cell_type": "code",
   "execution_count": 30,
   "id": "1f30997f",
   "metadata": {},
   "outputs": [],
   "source": [
    "beta_df = pd.DataFrame({'direct':direct_beta_coef, 'indirect':indirect_beta_coef}, index=train.columns[1:])"
   ]
  },
  {
   "cell_type": "code",
   "execution_count": 31,
   "id": "4bf77389",
   "metadata": {},
   "outputs": [
    {
     "data": {
      "text/html": [
       "<div>\n",
       "<style scoped>\n",
       "    .dataframe tbody tr th:only-of-type {\n",
       "        vertical-align: middle;\n",
       "    }\n",
       "\n",
       "    .dataframe tbody tr th {\n",
       "        vertical-align: top;\n",
       "    }\n",
       "\n",
       "    .dataframe thead th {\n",
       "        text-align: right;\n",
       "    }\n",
       "</style>\n",
       "<table border=\"1\" class=\"dataframe\">\n",
       "  <thead>\n",
       "    <tr style=\"text-align: right;\">\n",
       "      <th></th>\n",
       "      <th>direct</th>\n",
       "      <th>indirect</th>\n",
       "    </tr>\n",
       "  </thead>\n",
       "  <tbody>\n",
       "    <tr>\n",
       "      <th>X0</th>\n",
       "      <td>0.972524</td>\n",
       "      <td>1.001552</td>\n",
       "    </tr>\n",
       "    <tr>\n",
       "      <th>X9</th>\n",
       "      <td>-2.308207</td>\n",
       "      <td>-2.160548</td>\n",
       "    </tr>\n",
       "    <tr>\n",
       "      <th>X11</th>\n",
       "      <td>0.000000</td>\n",
       "      <td>-0.059640</td>\n",
       "    </tr>\n",
       "    <tr>\n",
       "      <th>X15</th>\n",
       "      <td>-0.518326</td>\n",
       "      <td>-0.419125</td>\n",
       "    </tr>\n",
       "    <tr>\n",
       "      <th>X16</th>\n",
       "      <td>-0.204162</td>\n",
       "      <td>-0.193254</td>\n",
       "    </tr>\n",
       "    <tr>\n",
       "      <th>X22</th>\n",
       "      <td>0.000000</td>\n",
       "      <td>-0.195178</td>\n",
       "    </tr>\n",
       "    <tr>\n",
       "      <th>X23</th>\n",
       "      <td>-1.559143</td>\n",
       "      <td>-1.363887</td>\n",
       "    </tr>\n",
       "    <tr>\n",
       "      <th>X24</th>\n",
       "      <td>0.866973</td>\n",
       "      <td>0.742597</td>\n",
       "    </tr>\n",
       "    <tr>\n",
       "      <th>X26</th>\n",
       "      <td>-1.311919</td>\n",
       "      <td>-1.304816</td>\n",
       "    </tr>\n",
       "    <tr>\n",
       "      <th>X29</th>\n",
       "      <td>0.000000</td>\n",
       "      <td>0.057983</td>\n",
       "    </tr>\n",
       "    <tr>\n",
       "      <th>X33</th>\n",
       "      <td>0.000000</td>\n",
       "      <td>-0.097378</td>\n",
       "    </tr>\n",
       "    <tr>\n",
       "      <th>X34</th>\n",
       "      <td>0.408165</td>\n",
       "      <td>0.283416</td>\n",
       "    </tr>\n",
       "    <tr>\n",
       "      <th>X39</th>\n",
       "      <td>0.000000</td>\n",
       "      <td>-0.231579</td>\n",
       "    </tr>\n",
       "    <tr>\n",
       "      <th>X44</th>\n",
       "      <td>0.000000</td>\n",
       "      <td>0.030782</td>\n",
       "    </tr>\n",
       "    <tr>\n",
       "      <th>X45</th>\n",
       "      <td>1.781475</td>\n",
       "      <td>1.563622</td>\n",
       "    </tr>\n",
       "    <tr>\n",
       "      <th>X46</th>\n",
       "      <td>0.000000</td>\n",
       "      <td>-0.021600</td>\n",
       "    </tr>\n",
       "    <tr>\n",
       "      <th>X47</th>\n",
       "      <td>0.887383</td>\n",
       "      <td>0.699924</td>\n",
       "    </tr>\n",
       "    <tr>\n",
       "      <th>X48</th>\n",
       "      <td>-0.282292</td>\n",
       "      <td>-0.092897</td>\n",
       "    </tr>\n",
       "  </tbody>\n",
       "</table>\n",
       "</div>"
      ],
      "text/plain": [
       "       direct  indirect\n",
       "X0   0.972524  1.001552\n",
       "X9  -2.308207 -2.160548\n",
       "X11  0.000000 -0.059640\n",
       "X15 -0.518326 -0.419125\n",
       "X16 -0.204162 -0.193254\n",
       "X22  0.000000 -0.195178\n",
       "X23 -1.559143 -1.363887\n",
       "X24  0.866973  0.742597\n",
       "X26 -1.311919 -1.304816\n",
       "X29  0.000000  0.057983\n",
       "X33  0.000000 -0.097378\n",
       "X34  0.408165  0.283416\n",
       "X39  0.000000 -0.231579\n",
       "X44  0.000000  0.030782\n",
       "X45  1.781475  1.563622\n",
       "X46  0.000000 -0.021600\n",
       "X47  0.887383  0.699924\n",
       "X48 -0.282292 -0.092897"
      ]
     },
     "execution_count": 31,
     "metadata": {},
     "output_type": "execute_result"
    }
   ],
   "source": [
    "beta_df[(beta_df['direct'] != 0) | (beta_df['indirect'] != 0)]"
   ]
  },
  {
   "cell_type": "code",
   "execution_count": 32,
   "id": "db714d09",
   "metadata": {},
   "outputs": [
    {
     "data": {
      "image/png": "[encoded data removed]",
      "text/plain": [
       "<Figure size 1280x480 with 1 Axes>"
      ]
     },
     "metadata": {
      "needs_background": "light"
     },
     "output_type": "display_data"
    }
   ],
   "source": [
    "# plotting different firm allocation\n",
    "plt.figure(figsize=(16, 6), dpi=80)\n",
    "final_beta_df_viz = beta_df[(beta_df['direct'] != 0) | (beta_df['indirect'] != 0)]\n",
    "\n",
    "width = 0.3\n",
    "ind = np.arange(len(final_beta_df_viz))\n",
    "plt.xticks(ind + width / 2, final_beta_df_viz.index)\n",
    "plt.bar(ind, final_beta_df_viz['direct'], label='Direct Variable selection - MIQP', width=width)\n",
    "plt.bar(ind + width, final_beta_df_viz['indirect'], label='Indirect Variable selection - LASSO', width=width)\n",
    "\n",
    "plt.xlabel('Variable')\n",
    "plt.xticks(rotation = -45)\n",
    "plt.ylabel('Beta coefficient values')\n",
    "plt.title('Beta Coefficients comparison between MIQP and Lasso')\n",
    "plt.legend()\n",
    "plt.show()"
   ]
  },
  {
   "cell_type": "code",
   "execution_count": null,
   "id": "3ce745d4",
   "metadata": {},
   "outputs": [],
   "source": []
  }
 ],
 "metadata": {
  "kernelspec": {
   "display_name": "Python 3 (ipykernel)",
   "language": "python",
   "name": "python3"
  },
  "language_info": {
   "codemirror_mode": {
    "name": "ipython",
    "version": 3
   },
   "file_extension": ".py",
   "mimetype": "text/x-python",
   "name": "python",
   "nbconvert_exporter": "python",
   "pygments_lexer": "ipython3",
   "version": "3.9.6"
  }
 },
 "nbformat": 4,
 "nbformat_minor": 5
}
